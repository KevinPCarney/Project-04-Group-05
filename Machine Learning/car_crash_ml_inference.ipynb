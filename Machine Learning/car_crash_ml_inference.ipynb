{
 "cells": [
  {
   "cell_type": "code",
   "execution_count": 1,
   "id": "0e789c02-fe0e-4d24-98e1-7bbe504a2a30",
   "metadata": {},
   "outputs": [],
   "source": [
    "import pandas as pd\n",
    "import pickle\n",
    "import numpy as np\n",
    "from sklearn.preprocessing import OneHotEncoder"
   ]
  },
  {
   "cell_type": "code",
   "execution_count": 2,
   "id": "4b42680b-d642-4eb7-b083-9cd99e11a4e7",
   "metadata": {},
   "outputs": [],
   "source": [
    "# def makePredictions():\n",
    "#         Weather, Roadway_Type, Roadway_Surface, Model_Year, Passengers_Belted, Time_of_Day, Speed_Limit = inputs\n",
    "\n",
    "# Clear = 0\n",
    "# Snow = 0\n",
    "# Rain = 0\n",
    "# Cloudy = 0\n",
    "    \n",
    "# # parse weather\n",
    "# if Weather == \"Clear\":\n",
    "#      Clear = 1\n",
    "#      Snow = 0\n",
    "#      Rain = 0\n",
    "#      Cloudy = 0\n",
    "# elif Weather == \"Snow\":\n",
    "#      Clear = 0\n",
    "#      Snow = 1\n",
    "#      Rain = 0\n",
    "#      Cloudy = 0\n",
    "# elif Weather == \"Rain\":\n",
    "#      Clear = 0\n",
    "#      Snow = 0\n",
    "#      Rain = 1\n",
    "#      Cloudy = 0\n",
    "# elif Weather == \"Cloudy\":\n",
    "#      Clear = 0\n",
    "#      Snow = 0\n",
    "#      Rain = 0\n",
    "#      Cloudy = 1\n",
    "\n",
    "\n",
    "# input_pred = [[Clear, Snow, Rain, Cloudy, Roadway_Type, Roadway_Surface, Model_Year, Passengers_Belted, Time_of_Day, Speed_Limit]]\n",
    "               \n",
    "\n",
    "# filename = 'car_crash_ml.h5'\n",
    "# lr_load = pickle.load(open(filename, 'rb'))\n",
    "\n",
    "# X = np.array(input_pred)\n",
    "# preds = lr_load.predict_proba(X)[0]\n",
    "# preds_singular = lr_load.predict(X)\n",
    "\n",
    "# rtn = {\"prob_low_risk\": preds[0],\n",
    "#   \"prob_high_risk\": preds[1],\n",
    "#   \"loan_pred\": \"high_risk\" if preds_singular[0] == 1 else \"low_risk\"}\n",
    "\n",
    "# return rtn"
   ]
  },
  {
   "cell_type": "code",
   "execution_count": 3,
   "id": "00f115f9-5c38-4642-8f77-57201e4298fc",
   "metadata": {},
   "outputs": [],
   "source": [
    "# df= pd.DataFrame([{\n",
    "#         'Weather': Weather,\n",
    "#         'Roadway_Type': Roadway_Type,\n",
    "#         'Roadway_Surface': Roadway_Surface,\n",
    "#         'Model_Year': Model_Year,\n",
    "#         'Passengers_Belted': Passengers_Belted,\n",
    "#         'Time_of_Day': Time_of_Day,\n",
    "#         'Speed_Limit': Speed_Limit\n",
    "#     }])    "
   ]
  },
  {
   "cell_type": "code",
   "execution_count": 4,
   "id": "a2795ebf-086e-481a-9a45-7e6f77ccff88",
   "metadata": {},
   "outputs": [],
   "source": [
    "\n",
    "def makePredictions(inputs):\n",
    "    Weather, Roadway_Type, Roadway_Surface, Model_Year, Passengers_Belted, Time_of_Day, Speed_Limit = inputs\n",
    "\n",
    "    input_data = pd.DataFrame([{\n",
    "        'Weather': Weather,\n",
    "        'Roadway_Type': Roadway_Type,\n",
    "        'Roadway_Surface': Roadway_Surface,\n",
    "        'Model_Year': Model_Year,\n",
    "        'Passengers_Belted': Passengers_Belted,\n",
    "        'Time_of_Day': Time_of_Day,\n",
    "        'Speed_Limit': Speed_Limit\n",
    "    }])    \n",
    "\n",
    "    \n",
    "    # Initialize weather variables\n",
    "    Clear = Snow = Rain = Cloudy = 0\n",
    "\n",
    "           \n",
    "    \n",
    "     # Parse weather\n",
    "    if Weather == \"Clear\":\n",
    "        Clear = 1\n",
    "    elif Weather == \"Snow\":\n",
    "        Snow = 1\n",
    "    elif Weather == \"Rain\":\n",
    "        Rain = 1\n",
    "    elif Weather == \"Cloudy\":\n",
    "        Cloudy = 1\n",
    "    # Prepare the input for the model\n",
    "    # input_data = [[Clear, Snow, Rain, Cloudy, Roadway_Type, Roadway_Surface, Model_Year, Passengers_Belted, Time_of_Day, Speed_Limit]]\n",
    "\n",
    "\n",
    "    \n",
    "\n",
    "    # Load the model\n",
    "    filename = 'car_crash_ml.h5'\n",
    "    with open(filename, 'rb') as file:\n",
    "        rf_load = pickle.load(file)\n",
    "\n",
    "    # If the model expects one-hot encoded variables, we can encode them\n",
    "    encoder = OneHotEncoder(sparse=False, drop='first')\n",
    "    encoded_features = encoder.fit_transform(input_data)\n",
    "\n",
    "    # Convert input to numpy array and make predictions\n",
    "    X = np.array(encoded_features)\n",
    "    preds = rf_load.predict_proba(input_data)[0]\n",
    "    preds_singular = rf_load.predict(input_data)\n",
    "\n",
    "    # Prepare the return dictionary\n",
    "    rtn = {\n",
    "        \"prob_low_risk\": preds[0],\n",
    "        \"prob_high_risk\": preds[1],\n",
    "        \"car_crash_pred\": \"high_risk\" if preds_singular[0] == 1 else \"low_risk\"\n",
    "    }\n",
    "\n",
    "    return rtn"
   ]
  },
  {
   "cell_type": "code",
   "execution_count": 6,
   "id": "d96f7eb2-cea2-4ef9-84f1-63119e242a0c",
   "metadata": {},
   "outputs": [
    {
     "ename": "NameError",
     "evalue": "name 'Clear' is not defined",
     "output_type": "error",
     "traceback": [
      "\u001b[1;31m---------------------------------------------------------------------------\u001b[0m",
      "\u001b[1;31mNameError\u001b[0m                                 Traceback (most recent call last)",
      "Cell \u001b[1;32mIn[6], line 1\u001b[0m\n\u001b[1;32m----> 1\u001b[0m input_data \u001b[38;5;241m=\u001b[39m pd\u001b[38;5;241m.\u001b[39mDataFrame([[\u001b[43mClear\u001b[49m, Snow, Rain, Cloudy, Roadway_Type, Roadway_Surface, Model_Year, Passengers_Belted, Time_of_Day, Speed_Limit]],\n\u001b[0;32m      2\u001b[0m                           columns\u001b[38;5;241m=\u001b[39m[\u001b[38;5;124m'\u001b[39m\u001b[38;5;124mClear\u001b[39m\u001b[38;5;124m'\u001b[39m, \u001b[38;5;124m'\u001b[39m\u001b[38;5;124mSnow\u001b[39m\u001b[38;5;124m'\u001b[39m, \u001b[38;5;124m'\u001b[39m\u001b[38;5;124mRain\u001b[39m\u001b[38;5;124m'\u001b[39m, \u001b[38;5;124m'\u001b[39m\u001b[38;5;124mCloudy\u001b[39m\u001b[38;5;124m'\u001b[39m, \u001b[38;5;124m'\u001b[39m\u001b[38;5;124mRoadway_Type\u001b[39m\u001b[38;5;124m'\u001b[39m, \u001b[38;5;124m'\u001b[39m\u001b[38;5;124mRoadway_Surface\u001b[39m\u001b[38;5;124m'\u001b[39m, \u001b[38;5;124m'\u001b[39m\u001b[38;5;124mModel_Year\u001b[39m\u001b[38;5;124m'\u001b[39m, \u001b[38;5;124m'\u001b[39m\u001b[38;5;124mPassengers_Belted\u001b[39m\u001b[38;5;124m'\u001b[39m, \u001b[38;5;124m'\u001b[39m\u001b[38;5;124mTime_of_Day\u001b[39m\u001b[38;5;124m'\u001b[39m, \u001b[38;5;124m'\u001b[39m\u001b[38;5;124mSpeed_Limit\u001b[39m\u001b[38;5;124m'\u001b[39m])\n",
      "\u001b[1;31mNameError\u001b[0m: name 'Clear' is not defined"
     ]
    }
   ],
   "source": [
    "input_data = pd.DataFrame([[Clear, Snow, Rain, Cloudy, Roadway_Type, Roadway_Surface, Model_Year, Passengers_Belted, Time_of_Day, Speed_Limit]],\n",
    "                          columns=['Clear', 'Snow', 'Rain', 'Cloudy', 'Roadway_Type', 'Roadway_Surface', 'Model_Year', 'Passengers_Belted', 'Time_of_Day', 'Speed_Limit'])"
   ]
  },
  {
   "cell_type": "code",
   "execution_count": 5,
   "id": "c24a36d2-4b03-479a-a421-22286a8c6a25",
   "metadata": {},
   "outputs": [
    {
     "ename": "NameError",
     "evalue": "name 'input_data' is not defined",
     "output_type": "error",
     "traceback": [
      "\u001b[1;31m---------------------------------------------------------------------------\u001b[0m",
      "\u001b[1;31mNameError\u001b[0m                                 Traceback (most recent call last)",
      "Cell \u001b[1;32mIn[5], line 1\u001b[0m\n\u001b[1;32m----> 1\u001b[0m \u001b[43minput_data\u001b[49m\u001b[38;5;241m.\u001b[39mhead()\n",
      "\u001b[1;31mNameError\u001b[0m: name 'input_data' is not defined"
     ]
    }
   ],
   "source": [
    "input_data.head()"
   ]
  },
  {
   "cell_type": "code",
   "execution_count": null,
   "id": "4f975df4-c243-4f48-b4ef-6eec5ee22d19",
   "metadata": {},
   "outputs": [],
   "source": [
    "# # class ModelHelper():\n",
    "# #     def __init__(self):\n",
    "# #         pass\n",
    "        \n",
    "    # def makePredictions(Weather, Roadway_Type, Model_Year, Passengers_Belted, \n",
    "    #                     Time_of_Day, Speed_Limit, Roadway_Surface):\n",
    "# def makePredictions(Weather, Roadway_Type, Snow, Model_Year, Passengers_Belted, Cloudy,\n",
    "#                    Time_of_Day, Rain, Speed_Limit, Roadway_Surface):\n",
    "    \n",
    "# def makePredictions(inputs):\n",
    "#         Weather, Roadway_Type, Roadway_Surface, Model_Year, Passengers_Belted, Time_of_Day, Speed_Limit = inputs\n",
    "    \n",
    "#     # Roadway_Type_Intersection = 0\n",
    "#     # Roadway_Type_Street = 0\n",
    "#     # Roadway_Type_Highway = 0\n",
    "#     # Roadway_Type_Other = 0\n",
    "    \n",
    "#     # Roadway_Surface_Dry = 0\n",
    "#     # Roadway_Surface_Wet = 0\n",
    "        \n",
    "#     # Time_of_Day_Morning = 0\n",
    "#     # Time_of_Day_Afternoon = 0\n",
    "#     # Time_of_Day_Night = 0\n",
    "\n",
    "#         Clear = 0\n",
    "#         Snow = 0\n",
    "#         Rain = 0\n",
    "#         Cloudy = 0\n",
    "    \n",
    "#     # # parse Roadway Type\n",
    "#     # if Roadway_Type == \"Intersection\":\n",
    "#     #     Roadway_Type_Intersection = 1\n",
    "#     # elif Roadway_Type == \"Street\":    \n",
    "#     #     Roadway_Type_Street = 1\n",
    "#     # elif Roadway_Type == \"Highway\":    \n",
    "#     #     Roadway_Type_Highway = 1\n",
    "#     # elif Roadway_Type == \"Other\":  \n",
    "#     #     Roadway_Type_Other = 1\n",
    "#     # else:\n",
    "#     #     pass\n",
    "\n",
    "#     # # parse Roadway Surface\n",
    "#     # if Roadway_Surface == \"Dry\":\n",
    "#     #     Roadway_Surface_Dry = 1\n",
    "#     # elif Roadway_Surface == \"Wet\":\n",
    "#     #     Roadway_Surface_Wet = 1\n",
    "#     # else:\n",
    "#     #     pass\n",
    "    \n",
    "#     # parse Time of Day\n",
    "#     # if Time_of_Day == \"Morning\":\n",
    "#     #     Time_of_Day_Morning = 1\n",
    "#     # elif Time_of_Day == \"Afternoon\":\n",
    "#     #     Time_of_Day_Afternoon = 1\n",
    "#     # elif Time_of_Day == \"Night\":\n",
    "#     #     Time_of_Day_Night = 1\n",
    "#     # else:\n",
    "#     #     pass\n",
    "\n",
    "# # parse weather\n",
    "#     if Weather == \"Clear\":\n",
    "#          Clear = 1\n",
    "#          Snow = 0\n",
    "#          Rain = 0\n",
    "#          Cloudy = 0\n",
    "#     elif Weather == \"Snow\":\n",
    "#          Clear = 0\n",
    "#          Snow = 1\n",
    "#          Rain = 0\n",
    "#          Cloudy = 0\n",
    "#     elif Weather == \"Rain\":\n",
    "#          Clear = 0\n",
    "#          Snow = 0\n",
    "#          Rain = 1\n",
    "#          Cloudy = 0\n",
    "#     elif Weather == \"Cloudy\":\n",
    "#          Clear = 0\n",
    "#          Snow = 0\n",
    "#          Rain = 0\n",
    "#          Cloudy = 1\n",
    "\n",
    "\n",
    "#     input_pred = [[Clear, Snow, Rain, Cloudy, Roadway_Type, Roadway_Surface, Model_Year, Passengers_Belted, Time_of_Day, Speed_Limit = inputs]]\n",
    "                   \n",
    "\n",
    "#     filename = 'car_crash_ml.h5'\n",
    "#     lr_load = pickle.load(open(filename, 'rb'))\n",
    "\n",
    "#     X = np.array(input_pred)\n",
    "#     preds = lr_load.predict_proba(X)[0]\n",
    "#     preds_singular = lr_load.predict(X)\n",
    "\n",
    "#     rtn = {\"prob_low_risk\": preds[0],\n",
    "#       \"prob_high_risk\": preds[1],\n",
    "#       \"loan_pred\": \"high_risk\" if preds_singular[0] == 1 else \"low_risk\"}\n",
    "    \n",
    "#     return rtn"
   ]
  },
  {
   "cell_type": "code",
   "execution_count": null,
   "id": "fac7dcd9-fcc6-44c3-b6cd-df502cc81b42",
   "metadata": {},
   "outputs": [],
   "source": [
    "# mh = ModelHelper()"
   ]
  },
  {
   "cell_type": "code",
   "execution_count": null,
   "id": "34aba742-61b3-4af1-aa9d-b77739ecf362",
   "metadata": {},
   "outputs": [],
   "source": [
    "#Clear, Roadway_Type, Snow, Model_Year, Passengers_Belted, Cloudy,Time_of_Day, Rain, Speed_Limit, Roadway_Surface"
   ]
  },
  {
   "cell_type": "code",
   "execution_count": null,
   "id": "a045bb27-f176-4612-89e1-dbc3209c3039",
   "metadata": {},
   "outputs": [],
   "source": [
    "# row = [\"Clear\", \"Street\", \"Wet\", 2016, 0 , \"Afternoon\", 25]\n",
    "# makePredictions(\"Clear\", \"Street\", \"Wet\", 2016, 0 , \"Afternoon\", 25)"
   ]
  },
  {
   "cell_type": "code",
   "execution_count": null,
   "id": "d05ff701-4d15-4b94-8b9b-13265276982d",
   "metadata": {},
   "outputs": [],
   "source": [
    "#Weather, Roadway_Type, Roadway_Surface, Model_Year, Passengers_Belted, Time_of_Day, Speed_Limit = inputs"
   ]
  },
  {
   "cell_type": "code",
   "execution_count": null,
   "id": "a8b399f2-7112-47ae-a7e1-9f3716ff662b",
   "metadata": {
    "scrolled": true
   },
   "outputs": [],
   "source": [
    "row = [\"Clear\", \"Street\", \"Wet\", 2016, 0, \"Afternoon\", 25]\n",
    "result = makePredictions(row)\n",
    "print(result)"
   ]
  },
  {
   "cell_type": "code",
   "execution_count": null,
   "id": "a50d0bf9-822d-4680-93e0-53fdc78fd02a",
   "metadata": {},
   "outputs": [],
   "source": []
  },
  {
   "cell_type": "code",
   "execution_count": null,
   "id": "55784c79-a9aa-4635-9a31-b58cd9afd6b0",
   "metadata": {},
   "outputs": [],
   "source": []
  },
  {
   "cell_type": "code",
   "execution_count": null,
   "id": "0a519965-ee78-48d2-a11c-011e7cbe1354",
   "metadata": {},
   "outputs": [],
   "source": []
  },
  {
   "cell_type": "code",
   "execution_count": null,
   "id": "1be0fe0e-a763-48ba-917b-2a9c507b9018",
   "metadata": {},
   "outputs": [],
   "source": []
  },
  {
   "cell_type": "code",
   "execution_count": null,
   "id": "f31f02c9-ed93-46bb-8c8a-266725b0c119",
   "metadata": {},
   "outputs": [],
   "source": []
  },
  {
   "cell_type": "code",
   "execution_count": null,
   "id": "afcdb8c9-2eb3-4905-90dd-00ff2632337f",
   "metadata": {},
   "outputs": [],
   "source": []
  },
  {
   "cell_type": "code",
   "execution_count": null,
   "id": "6937e7dc-4d8a-4926-9865-e025f8ddeecd",
   "metadata": {},
   "outputs": [],
   "source": []
  },
  {
   "cell_type": "code",
   "execution_count": null,
   "id": "95e40864-481b-4379-9438-0d93545b645b",
   "metadata": {},
   "outputs": [],
   "source": []
  },
  {
   "cell_type": "code",
   "execution_count": null,
   "id": "cbaca7c7-c5dc-4d89-8c99-d92850589549",
   "metadata": {},
   "outputs": [],
   "source": []
  },
  {
   "cell_type": "code",
   "execution_count": null,
   "id": "1898d2e0-0ded-4911-883b-d90378365f22",
   "metadata": {},
   "outputs": [],
   "source": []
  },
  {
   "cell_type": "code",
   "execution_count": null,
   "id": "b6ea1cf2-cb7c-426a-ba11-4c1450bec2c4",
   "metadata": {},
   "outputs": [],
   "source": []
  },
  {
   "cell_type": "code",
   "execution_count": null,
   "id": "d00aa5ae-0653-4ed4-94fc-70311e8655bc",
   "metadata": {},
   "outputs": [],
   "source": []
  },
  {
   "cell_type": "code",
   "execution_count": null,
   "id": "13d196d2-5c43-4d77-8b62-7924d42c7b5e",
   "metadata": {},
   "outputs": [],
   "source": []
  },
  {
   "cell_type": "code",
   "execution_count": null,
   "id": "6fafbd3e-7589-43a9-975b-e4f223f6ac71",
   "metadata": {},
   "outputs": [],
   "source": []
  },
  {
   "cell_type": "code",
   "execution_count": null,
   "id": "35c69569-7519-450e-9ad9-bd43aff0ba3f",
   "metadata": {},
   "outputs": [],
   "source": []
  },
  {
   "cell_type": "code",
   "execution_count": null,
   "id": "778474df-9abf-48d0-bd68-bccb34e6f671",
   "metadata": {},
   "outputs": [],
   "source": []
  },
  {
   "cell_type": "code",
   "execution_count": null,
   "id": "de42ea0d-8281-410d-b6a1-1b6fd4a0d639",
   "metadata": {},
   "outputs": [],
   "source": []
  },
  {
   "cell_type": "code",
   "execution_count": null,
   "id": "812d3292-2041-4721-88b5-5aa146ec66d8",
   "metadata": {},
   "outputs": [],
   "source": []
  },
  {
   "cell_type": "code",
   "execution_count": null,
   "id": "794182d3-8133-43c9-9d2d-e3b51fa0f03c",
   "metadata": {},
   "outputs": [],
   "source": []
  },
  {
   "cell_type": "code",
   "execution_count": null,
   "id": "a3b827f3-f2f1-4628-ae62-b020885f3bff",
   "metadata": {},
   "outputs": [],
   "source": []
  },
  {
   "cell_type": "code",
   "execution_count": null,
   "id": "68b5e8bd-79c0-4f7f-a98d-a934fc5b03f4",
   "metadata": {},
   "outputs": [],
   "source": []
  },
  {
   "cell_type": "code",
   "execution_count": null,
   "id": "2d0a48a3-7350-41fc-bd0f-6ad4dc42e384",
   "metadata": {},
   "outputs": [],
   "source": []
  },
  {
   "cell_type": "code",
   "execution_count": null,
   "id": "79953291-29bd-4f77-8cea-a9bc18b36849",
   "metadata": {},
   "outputs": [],
   "source": []
  },
  {
   "cell_type": "code",
   "execution_count": null,
   "id": "eda09408-8948-44a8-89e4-0d499044bffb",
   "metadata": {},
   "outputs": [],
   "source": []
  }
 ],
 "metadata": {
  "kernelspec": {
   "display_name": "Python 3 (ipykernel)",
   "language": "python",
   "name": "python3"
  },
  "language_info": {
   "codemirror_mode": {
    "name": "ipython",
    "version": 3
   },
   "file_extension": ".py",
   "mimetype": "text/x-python",
   "name": "python",
   "nbconvert_exporter": "python",
   "pygments_lexer": "ipython3",
   "version": "3.10.13"
  }
 },
 "nbformat": 4,
 "nbformat_minor": 5
}
