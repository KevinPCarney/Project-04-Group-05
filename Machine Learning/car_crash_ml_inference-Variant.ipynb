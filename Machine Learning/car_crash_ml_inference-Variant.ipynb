{
 "cells": [
  {
   "cell_type": "code",
   "execution_count": 5,
   "id": "0e789c02-fe0e-4d24-98e1-7bbe504a2a30",
   "metadata": {},
   "outputs": [],
   "source": [
    "import pandas as pd\n",
    "import pickle\n",
    "import numpy as np"
   ]
  },
  {
   "cell_type": "code",
   "execution_count": 6,
   "id": "55784c79-a9aa-4635-9a31-b58cd9afd6b0",
   "metadata": {},
   "outputs": [],
   "source": [
    "class ModelHelper():\n",
    "    def __init__(self):\n",
    "        pass\n",
    "        \n",
    "    def makePredictions(self, Weather, Roadway_Type, Model_Year, Passengers_Belted, \n",
    "                        Time_of_Day, Speed_Limit, Roadway_Surface):\n",
    "\n",
    "    \n",
    "    \n",
    "        Roadway_Type_Intersection = 0\n",
    "        Roadway_Type_Street = 0\n",
    "        Roadway_Type_Highway = 0\n",
    "        Roadway_Type_Other = 0\n",
    "        \n",
    "        Roadway_Surface_Dry = 0\n",
    "        Roadway_Surface_Wet = 0\n",
    "            \n",
    "        Time_of_Day_Morning = 0\n",
    "        Time_of_Day_Afternoon = 0\n",
    "        Time_of_Day_Night = 0\n",
    "    \n",
    "         # Initialize weather variables\n",
    "        Clear = Snow = Rain = Cloudy = 0\n",
    "    \n",
    "           \n",
    "        # parse Roadway Type\n",
    "        if Roadway_Type == \"Intersection\":\n",
    "            Roadway_Type_Intersection = 1\n",
    "        elif Roadway_Type == \"Street\":    \n",
    "            Roadway_Type_Street = 1\n",
    "        elif Roadway_Type == \"Highway\":    \n",
    "            Roadway_Type_Highway = 1\n",
    "        elif Roadway_Type == \"Other\":  \n",
    "            Roadway_Type_Other = 1\n",
    "        else:\n",
    "            pass\n",
    "    \n",
    "        # parse Roadway Surface\n",
    "        if Roadway_Surface == \"Dry\":\n",
    "            Roadway_Surface_Dry = 1\n",
    "        elif Roadway_Surface == \"Wet\":\n",
    "            Roadway_Surface_Wet = 1\n",
    "        else:\n",
    "            pass\n",
    "        \n",
    "        # parse Time of Day\n",
    "        if Time_of_Day == \"Morning\":\n",
    "            Time_of_Day_Morning = 1\n",
    "        elif Time_of_Day == \"Afternoon\":\n",
    "            Time_of_Day_Afternoon = 1\n",
    "        elif Time_of_Day == \"Night\":\n",
    "            Time_of_Day_Night = 1\n",
    "        else:\n",
    "            pass\n",
    "    \n",
    "         # Parse weather\n",
    "        if Weather == \"Clear\":\n",
    "            Clear = 1\n",
    "        elif Weather == \"Snow\":\n",
    "            Snow = 1\n",
    "        elif Weather == \"Rain\":\n",
    "            Rain = 1\n",
    "        elif Weather == \"Cloudy\":\n",
    "            Cloudy = 1\n",
    "    \n",
    "        #Weather, Roadway_Type, Model_Year, Passengers_Belted, \n",
    "         #                   Time_of_Day, Speed_Limit, Roadway_Surface):\n",
    "    \n",
    "        input_pred = [[Model_Year, Speed_Limit, Clear, Snow, Cloudy, Rain,\n",
    "       Passengers_Belted, Time_of_Day_Afternoon, Time_of_Day_Morning,\n",
    "       Time_of_Day_Night, Roadway_Type_Highway,\n",
    "       Roadway_Type_Intersection, Roadway_Type_Other,\n",
    "       Roadway_Type_Street, Roadway_Surface_Dry, Roadway_Surface_Wet\n",
    "                       ]]\n",
    "                       \n",
    "    \n",
    "        filename = 'car_crash_ml_v2.h5'\n",
    "        rf_load = pickle.load(open(filename, 'rb'))\n",
    "    \n",
    "        X = np.array(input_pred)\n",
    "        print(X)\n",
    "        preds = rf_load.predict_proba(X)[0]\n",
    "        preds_singular = rf_load.predict(X)\n",
    "    \n",
    "        rtn = {\"prob_low_risk\": preds[0],\n",
    "          \"prob_high_risk\": preds[1],\n",
    "          \"car_crash_pred\": \"high_risk\" if preds_singular[0] == 1 else \"low_risk\"}\n",
    "        \n",
    "        return rtn"
   ]
  },
  {
   "cell_type": "code",
   "execution_count": 7,
   "id": "0a519965-ee78-48d2-a11c-011e7cbe1354",
   "metadata": {},
   "outputs": [],
   "source": [
    "mh = ModelHelper()"
   ]
  },
  {
   "cell_type": "code",
   "execution_count": 8,
   "id": "1e0a6910-08de-472e-ad01-ac052646686e",
   "metadata": {},
   "outputs": [
    {
     "name": "stdout",
     "output_type": "stream",
     "text": [
      "[[2016   25    1    0    0    0    0    1    0    0    0    0    0    1\n",
      "     0    1]]\n"
     ]
    },
    {
     "name": "stderr",
     "output_type": "stream",
     "text": [
      "C:\\Users\\XaovW\\anaconda3\\envs\\dev\\lib\\site-packages\\sklearn\\base.py:464: UserWarning: X does not have valid feature names, but RandomForestClassifier was fitted with feature names\n",
      "  warnings.warn(\n",
      "C:\\Users\\XaovW\\anaconda3\\envs\\dev\\lib\\site-packages\\sklearn\\base.py:464: UserWarning: X does not have valid feature names, but RandomForestClassifier was fitted with feature names\n",
      "  warnings.warn(\n"
     ]
    },
    {
     "data": {
      "text/plain": [
       "{'prob_low_risk': 0.8133333333333331,\n",
       " 'prob_high_risk': 0.18666666666666668,\n",
       " 'car_crash_pred': 'low_risk'}"
      ]
     },
     "execution_count": 8,
     "metadata": {},
     "output_type": "execute_result"
    }
   ],
   "source": [
    "\n",
    "mh.makePredictions(\"Clear\", \"Street\", 2016, 0, \"Afternoon\", 25, 'Wet')\n"
   ]
  },
  {
   "cell_type": "code",
   "execution_count": null,
   "id": "733e44e5-5233-4c37-8ed6-39d7f0e16ee7",
   "metadata": {},
   "outputs": [],
   "source": []
  },
  {
   "cell_type": "code",
   "execution_count": null,
   "id": "f31f02c9-ed93-46bb-8c8a-266725b0c119",
   "metadata": {},
   "outputs": [],
   "source": []
  },
  {
   "cell_type": "code",
   "execution_count": null,
   "id": "afcdb8c9-2eb3-4905-90dd-00ff2632337f",
   "metadata": {},
   "outputs": [],
   "source": []
  },
  {
   "cell_type": "code",
   "execution_count": null,
   "id": "6937e7dc-4d8a-4926-9865-e025f8ddeecd",
   "metadata": {},
   "outputs": [],
   "source": []
  },
  {
   "cell_type": "code",
   "execution_count": null,
   "id": "95e40864-481b-4379-9438-0d93545b645b",
   "metadata": {},
   "outputs": [],
   "source": []
  },
  {
   "cell_type": "code",
   "execution_count": null,
   "id": "cbaca7c7-c5dc-4d89-8c99-d92850589549",
   "metadata": {},
   "outputs": [],
   "source": []
  },
  {
   "cell_type": "code",
   "execution_count": null,
   "id": "1898d2e0-0ded-4911-883b-d90378365f22",
   "metadata": {},
   "outputs": [],
   "source": []
  },
  {
   "cell_type": "code",
   "execution_count": null,
   "id": "b6ea1cf2-cb7c-426a-ba11-4c1450bec2c4",
   "metadata": {},
   "outputs": [],
   "source": []
  },
  {
   "cell_type": "code",
   "execution_count": null,
   "id": "d00aa5ae-0653-4ed4-94fc-70311e8655bc",
   "metadata": {},
   "outputs": [],
   "source": []
  },
  {
   "cell_type": "code",
   "execution_count": null,
   "id": "13d196d2-5c43-4d77-8b62-7924d42c7b5e",
   "metadata": {},
   "outputs": [],
   "source": []
  },
  {
   "cell_type": "code",
   "execution_count": null,
   "id": "6fafbd3e-7589-43a9-975b-e4f223f6ac71",
   "metadata": {},
   "outputs": [],
   "source": []
  },
  {
   "cell_type": "code",
   "execution_count": null,
   "id": "35c69569-7519-450e-9ad9-bd43aff0ba3f",
   "metadata": {},
   "outputs": [],
   "source": []
  },
  {
   "cell_type": "code",
   "execution_count": null,
   "id": "778474df-9abf-48d0-bd68-bccb34e6f671",
   "metadata": {},
   "outputs": [],
   "source": []
  },
  {
   "cell_type": "code",
   "execution_count": null,
   "id": "de42ea0d-8281-410d-b6a1-1b6fd4a0d639",
   "metadata": {},
   "outputs": [],
   "source": []
  },
  {
   "cell_type": "code",
   "execution_count": null,
   "id": "812d3292-2041-4721-88b5-5aa146ec66d8",
   "metadata": {},
   "outputs": [],
   "source": []
  },
  {
   "cell_type": "code",
   "execution_count": null,
   "id": "794182d3-8133-43c9-9d2d-e3b51fa0f03c",
   "metadata": {},
   "outputs": [],
   "source": []
  },
  {
   "cell_type": "code",
   "execution_count": null,
   "id": "a3b827f3-f2f1-4628-ae62-b020885f3bff",
   "metadata": {},
   "outputs": [],
   "source": []
  },
  {
   "cell_type": "code",
   "execution_count": null,
   "id": "68b5e8bd-79c0-4f7f-a98d-a934fc5b03f4",
   "metadata": {},
   "outputs": [],
   "source": []
  },
  {
   "cell_type": "code",
   "execution_count": null,
   "id": "2d0a48a3-7350-41fc-bd0f-6ad4dc42e384",
   "metadata": {},
   "outputs": [],
   "source": []
  },
  {
   "cell_type": "code",
   "execution_count": null,
   "id": "79953291-29bd-4f77-8cea-a9bc18b36849",
   "metadata": {},
   "outputs": [],
   "source": []
  },
  {
   "cell_type": "code",
   "execution_count": null,
   "id": "eda09408-8948-44a8-89e4-0d499044bffb",
   "metadata": {},
   "outputs": [],
   "source": []
  }
 ],
 "metadata": {
  "kernelspec": {
   "display_name": "Python 3 (ipykernel)",
   "language": "python",
   "name": "python3"
  },
  "language_info": {
   "codemirror_mode": {
    "name": "ipython",
    "version": 3
   },
   "file_extension": ".py",
   "mimetype": "text/x-python",
   "name": "python",
   "nbconvert_exporter": "python",
   "pygments_lexer": "ipython3",
   "version": "3.10.13"
  }
 },
 "nbformat": 4,
 "nbformat_minor": 5
}
