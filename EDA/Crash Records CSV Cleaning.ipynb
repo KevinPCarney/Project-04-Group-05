{
 "cells": [
  {
   "cell_type": "markdown",
   "id": "28997cc9-c67d-421f-b88b-44a2c09bdc14",
   "metadata": {},
   "source": [
    "# Standing General Order on Crash Reporting"
   ]
  },
  {
   "cell_type": "markdown",
   "id": "bc068e4f-0224-46f6-a437-c350349609dd",
   "metadata": {},
   "source": [
    "##### The following data was taken from the \"Standing General Order on Crash Reporting\" that was published on 08-15-2024"
   ]
  },
  {
   "cell_type": "code",
   "execution_count": 1,
   "id": "b8bf5354-cf87-472f-94cd-faf677896e75",
   "metadata": {},
   "outputs": [],
   "source": [
    "from sqlalchemy import create_engine, text, inspect, func\n",
    "import sqlite3\n",
    "\n",
    "# ORM imports\n",
    "import sqlalchemy\n",
    "from sqlalchemy.ext.automap import automap_base\n",
    "from sqlalchemy import Column, Integer, String, Float, Boolean\n",
    "from sqlalchemy.orm import Session\n",
    "from sqlalchemy.ext.declarative import declarative_base\n",
    "\n",
    "# API\n",
    "import requests\n",
    "import json\n",
    "\n",
    "# Data Science and Visualization\n",
    "import pandas as pd\n",
    "import matplotlib.pyplot as plt\n",
    "import numpy as np\n",
    "import seaborn as sns\n",
    "from scipy import stats\n",
    "import datetime as dt"
   ]
  },
  {
   "cell_type": "code",
   "execution_count": 2,
   "id": "ee57654e-d441-40bf-91e5-0aadba00d780",
   "metadata": {},
   "outputs": [
    {
     "data": {
      "text/html": [
       "<div>\n",
       "<style scoped>\n",
       "    .dataframe tbody tr th:only-of-type {\n",
       "        vertical-align: middle;\n",
       "    }\n",
       "\n",
       "    .dataframe tbody tr th {\n",
       "        vertical-align: top;\n",
       "    }\n",
       "\n",
       "    .dataframe thead th {\n",
       "        text-align: right;\n",
       "    }\n",
       "</style>\n",
       "<table border=\"1\" class=\"dataframe\">\n",
       "  <thead>\n",
       "    <tr style=\"text-align: right;\">\n",
       "      <th></th>\n",
       "      <th>Report ID</th>\n",
       "      <th>Report Version</th>\n",
       "      <th>Reporting Entity</th>\n",
       "      <th>Report Type</th>\n",
       "      <th>Report Month</th>\n",
       "      <th>Report Year</th>\n",
       "      <th>Report Submission Date</th>\n",
       "      <th>VIN</th>\n",
       "      <th>VIN - Unknown</th>\n",
       "      <th>Serial Number</th>\n",
       "      <th>...</th>\n",
       "      <th>Investigating Officer Name</th>\n",
       "      <th>Inv. Officer Name - Unknown</th>\n",
       "      <th>Investigating Officer Phone</th>\n",
       "      <th>Inv. Officer Phone - Unknown</th>\n",
       "      <th>Investigating Officer Email</th>\n",
       "      <th>Inv. Officer Email - Unknown</th>\n",
       "      <th>Within ODD?</th>\n",
       "      <th>Within ODD? - CBI</th>\n",
       "      <th>Narrative</th>\n",
       "      <th>Narrative - CBI?</th>\n",
       "    </tr>\n",
       "  </thead>\n",
       "  <tbody>\n",
       "    <tr>\n",
       "      <th>0</th>\n",
       "      <td>30270-7157</td>\n",
       "      <td>3</td>\n",
       "      <td>Waymo LLC</td>\n",
       "      <td>Update</td>\n",
       "      <td>NaN</td>\n",
       "      <td>NaN</td>\n",
       "      <td>AUG-2024</td>\n",
       "      <td>SADHW2S13M1</td>\n",
       "      <td></td>\n",
       "      <td>NaN</td>\n",
       "      <td>...</td>\n",
       "      <td>NaN</td>\n",
       "      <td></td>\n",
       "      <td>NaN</td>\n",
       "      <td></td>\n",
       "      <td>NaN</td>\n",
       "      <td></td>\n",
       "      <td>Yes</td>\n",
       "      <td></td>\n",
       "      <td>Waymo is submitting a second update to the rep...</td>\n",
       "      <td>NaN</td>\n",
       "    </tr>\n",
       "    <tr>\n",
       "      <th>1</th>\n",
       "      <td>30270-8406</td>\n",
       "      <td>1</td>\n",
       "      <td>Waymo LLC</td>\n",
       "      <td>Monthly</td>\n",
       "      <td>7.0</td>\n",
       "      <td>2024.0</td>\n",
       "      <td>AUG-2024</td>\n",
       "      <td>SADHW2S1XR1</td>\n",
       "      <td></td>\n",
       "      <td>NaN</td>\n",
       "      <td>...</td>\n",
       "      <td>NaN</td>\n",
       "      <td></td>\n",
       "      <td>NaN</td>\n",
       "      <td></td>\n",
       "      <td>NaN</td>\n",
       "      <td></td>\n",
       "      <td>Yes</td>\n",
       "      <td></td>\n",
       "      <td>On July [XXX], 2024 at 4:58 AM PT a Waymo Auto...</td>\n",
       "      <td>NaN</td>\n",
       "    </tr>\n",
       "    <tr>\n",
       "      <th>2</th>\n",
       "      <td>30270-8405</td>\n",
       "      <td>1</td>\n",
       "      <td>Waymo LLC</td>\n",
       "      <td>Monthly</td>\n",
       "      <td>7.0</td>\n",
       "      <td>2024.0</td>\n",
       "      <td>AUG-2024</td>\n",
       "      <td>SADHW2S17R1</td>\n",
       "      <td></td>\n",
       "      <td>NaN</td>\n",
       "      <td>...</td>\n",
       "      <td>NaN</td>\n",
       "      <td></td>\n",
       "      <td>NaN</td>\n",
       "      <td></td>\n",
       "      <td>NaN</td>\n",
       "      <td></td>\n",
       "      <td>Yes</td>\n",
       "      <td></td>\n",
       "      <td>On July [XXX], 2024 at 11:29 AM MT a Waymo Aut...</td>\n",
       "      <td>NaN</td>\n",
       "    </tr>\n",
       "    <tr>\n",
       "      <th>3</th>\n",
       "      <td>30270-8404</td>\n",
       "      <td>1</td>\n",
       "      <td>Waymo LLC</td>\n",
       "      <td>Monthly</td>\n",
       "      <td>7.0</td>\n",
       "      <td>2024.0</td>\n",
       "      <td>AUG-2024</td>\n",
       "      <td>SADHW2S1XR1</td>\n",
       "      <td></td>\n",
       "      <td>NaN</td>\n",
       "      <td>...</td>\n",
       "      <td>NaN</td>\n",
       "      <td></td>\n",
       "      <td>NaN</td>\n",
       "      <td></td>\n",
       "      <td>NaN</td>\n",
       "      <td></td>\n",
       "      <td>Yes</td>\n",
       "      <td></td>\n",
       "      <td>On July [XXX], 2024 at 4:16 PM PT a Waymo Auto...</td>\n",
       "      <td>NaN</td>\n",
       "    </tr>\n",
       "    <tr>\n",
       "      <th>4</th>\n",
       "      <td>30270-8403</td>\n",
       "      <td>1</td>\n",
       "      <td>Waymo LLC</td>\n",
       "      <td>Monthly</td>\n",
       "      <td>7.0</td>\n",
       "      <td>2024.0</td>\n",
       "      <td>AUG-2024</td>\n",
       "      <td>SADHW2S19R1</td>\n",
       "      <td></td>\n",
       "      <td>NaN</td>\n",
       "      <td>...</td>\n",
       "      <td>NaN</td>\n",
       "      <td></td>\n",
       "      <td>NaN</td>\n",
       "      <td></td>\n",
       "      <td>NaN</td>\n",
       "      <td></td>\n",
       "      <td>Yes</td>\n",
       "      <td></td>\n",
       "      <td>On July [XXX], 2024 at 11:06 AM CST a Waymo Au...</td>\n",
       "      <td>NaN</td>\n",
       "    </tr>\n",
       "  </tbody>\n",
       "</table>\n",
       "<p>5 rows × 137 columns</p>\n",
       "</div>"
      ],
      "text/plain": [
       "    Report ID  Report Version Reporting Entity Report Type  Report Month  \\\n",
       "0  30270-7157               3        Waymo LLC      Update           NaN   \n",
       "1  30270-8406               1        Waymo LLC     Monthly           7.0   \n",
       "2  30270-8405               1        Waymo LLC     Monthly           7.0   \n",
       "3  30270-8404               1        Waymo LLC     Monthly           7.0   \n",
       "4  30270-8403               1        Waymo LLC     Monthly           7.0   \n",
       "\n",
       "   Report Year Report Submission Date          VIN VIN - Unknown  \\\n",
       "0          NaN               AUG-2024  SADHW2S13M1                 \n",
       "1       2024.0               AUG-2024  SADHW2S1XR1                 \n",
       "2       2024.0               AUG-2024  SADHW2S17R1                 \n",
       "3       2024.0               AUG-2024  SADHW2S1XR1                 \n",
       "4       2024.0               AUG-2024  SADHW2S19R1                 \n",
       "\n",
       "  Serial Number  ... Investigating Officer Name Inv. Officer Name - Unknown  \\\n",
       "0           NaN  ...                        NaN                               \n",
       "1           NaN  ...                        NaN                               \n",
       "2           NaN  ...                        NaN                               \n",
       "3           NaN  ...                        NaN                               \n",
       "4           NaN  ...                        NaN                               \n",
       "\n",
       "  Investigating Officer Phone  Inv. Officer Phone - Unknown  \\\n",
       "0                         NaN                                 \n",
       "1                         NaN                                 \n",
       "2                         NaN                                 \n",
       "3                         NaN                                 \n",
       "4                         NaN                                 \n",
       "\n",
       "  Investigating Officer Email Inv. Officer Email - Unknown  Within ODD?  \\\n",
       "0                         NaN                                       Yes   \n",
       "1                         NaN                                       Yes   \n",
       "2                         NaN                                       Yes   \n",
       "3                         NaN                                       Yes   \n",
       "4                         NaN                                       Yes   \n",
       "\n",
       "  Within ODD? - CBI                                          Narrative  \\\n",
       "0                    Waymo is submitting a second update to the rep...   \n",
       "1                    On July [XXX], 2024 at 4:58 AM PT a Waymo Auto...   \n",
       "2                    On July [XXX], 2024 at 11:29 AM MT a Waymo Aut...   \n",
       "3                    On July [XXX], 2024 at 4:16 PM PT a Waymo Auto...   \n",
       "4                    On July [XXX], 2024 at 11:06 AM CST a Waymo Au...   \n",
       "\n",
       "  Narrative - CBI?  \n",
       "0              NaN  \n",
       "1              NaN  \n",
       "2              NaN  \n",
       "3              NaN  \n",
       "4              NaN  \n",
       "\n",
       "[5 rows x 137 columns]"
      ]
     },
     "execution_count": 2,
     "metadata": {},
     "output_type": "execute_result"
    }
   ],
   "source": [
    "#CSV import for crashes table\n",
    "filepath = \"Datasets/SGO-2021-01_Incident_Reports_ADS.csv\"\n",
    "df = pd.read_csv(filepath)\n",
    "df.head()"
   ]
  },
  {
   "cell_type": "code",
   "execution_count": 3,
   "id": "f76b92b2-0cc0-43e1-9d71-2f8253b20163",
   "metadata": {},
   "outputs": [
    {
     "data": {
      "text/plain": [
       "Index(['Report ID', 'Report Version', 'Reporting Entity', 'Report Type',\n",
       "       'Report Month', 'Report Year', 'Report Submission Date', 'VIN',\n",
       "       'VIN - Unknown', 'Serial Number',\n",
       "       ...\n",
       "       'Investigating Officer Name', 'Inv. Officer Name - Unknown',\n",
       "       'Investigating Officer Phone', 'Inv. Officer Phone - Unknown',\n",
       "       'Investigating Officer Email', 'Inv. Officer Email - Unknown',\n",
       "       'Within ODD?', 'Within ODD? - CBI', 'Narrative', 'Narrative - CBI?'],\n",
       "      dtype='object', length=137)"
      ]
     },
     "execution_count": 3,
     "metadata": {},
     "output_type": "execute_result"
    }
   ],
   "source": [
    "df.columns"
   ]
  },
  {
   "cell_type": "code",
   "execution_count": 4,
   "id": "629b33d8-fc3e-4f9c-826e-9f26df116407",
   "metadata": {},
   "outputs": [
    {
     "data": {
      "text/html": [
       "<div>\n",
       "<style scoped>\n",
       "    .dataframe tbody tr th:only-of-type {\n",
       "        vertical-align: middle;\n",
       "    }\n",
       "\n",
       "    .dataframe tbody tr th {\n",
       "        vertical-align: top;\n",
       "    }\n",
       "\n",
       "    .dataframe thead th {\n",
       "        text-align: right;\n",
       "    }\n",
       "</style>\n",
       "<table border=\"1\" class=\"dataframe\">\n",
       "  <thead>\n",
       "    <tr style=\"text-align: right;\">\n",
       "      <th></th>\n",
       "      <th>Make</th>\n",
       "      <th>Model</th>\n",
       "      <th>Model Year</th>\n",
       "      <th>Incident Date</th>\n",
       "      <th>Incident Time (24:00)</th>\n",
       "      <th>City</th>\n",
       "      <th>State</th>\n",
       "      <th>Roadway Type</th>\n",
       "      <th>Roadway Surface</th>\n",
       "      <th>Roadway Description</th>\n",
       "      <th>Posted Speed Limit (MPH)</th>\n",
       "      <th>Lighting</th>\n",
       "      <th>Weather - Clear</th>\n",
       "      <th>Weather - Snow</th>\n",
       "      <th>Weather - Cloudy</th>\n",
       "      <th>Weather - Fog/Smoke</th>\n",
       "      <th>Weather - Rain</th>\n",
       "      <th>Weather - Severe Wind</th>\n",
       "      <th>Highest Injury Severity Alleged</th>\n",
       "      <th>SV Were All Passengers Belted?</th>\n",
       "    </tr>\n",
       "  </thead>\n",
       "  <tbody>\n",
       "    <tr>\n",
       "      <th>0</th>\n",
       "      <td>Jaguar</td>\n",
       "      <td>I-Pace</td>\n",
       "      <td>2021.0</td>\n",
       "      <td>JAN-2024</td>\n",
       "      <td>12:04</td>\n",
       "      <td>Los Angeles</td>\n",
       "      <td>CA</td>\n",
       "      <td>Street</td>\n",
       "      <td>Dry</td>\n",
       "      <td>No Unusual Conditions</td>\n",
       "      <td>25.0</td>\n",
       "      <td>Daylight</td>\n",
       "      <td>Y</td>\n",
       "      <td></td>\n",
       "      <td></td>\n",
       "      <td></td>\n",
       "      <td></td>\n",
       "      <td></td>\n",
       "      <td>Unknown</td>\n",
       "      <td>No, see Narrative</td>\n",
       "    </tr>\n",
       "    <tr>\n",
       "      <th>1</th>\n",
       "      <td>Jaguar</td>\n",
       "      <td>I-Pace</td>\n",
       "      <td>2024.0</td>\n",
       "      <td>JUL-2024</td>\n",
       "      <td>04:58</td>\n",
       "      <td>San Francisco</td>\n",
       "      <td>CA</td>\n",
       "      <td>Street</td>\n",
       "      <td>Dry</td>\n",
       "      <td>No Unusual Conditions</td>\n",
       "      <td>25.0</td>\n",
       "      <td>Dark - Lighted</td>\n",
       "      <td>Y</td>\n",
       "      <td></td>\n",
       "      <td></td>\n",
       "      <td></td>\n",
       "      <td></td>\n",
       "      <td></td>\n",
       "      <td>No Injuries Reported</td>\n",
       "      <td>No Passengers in Vehicle</td>\n",
       "    </tr>\n",
       "    <tr>\n",
       "      <th>2</th>\n",
       "      <td>Jaguar</td>\n",
       "      <td>I-Pace</td>\n",
       "      <td>2024.0</td>\n",
       "      <td>JUL-2024</td>\n",
       "      <td>11:29</td>\n",
       "      <td>Phoenix</td>\n",
       "      <td>AZ</td>\n",
       "      <td>Parking Lot</td>\n",
       "      <td>Dry</td>\n",
       "      <td>No Unusual Conditions</td>\n",
       "      <td>5.0</td>\n",
       "      <td>Daylight</td>\n",
       "      <td>Y</td>\n",
       "      <td></td>\n",
       "      <td></td>\n",
       "      <td></td>\n",
       "      <td></td>\n",
       "      <td></td>\n",
       "      <td>No Injuries Reported</td>\n",
       "      <td>Yes</td>\n",
       "    </tr>\n",
       "    <tr>\n",
       "      <th>3</th>\n",
       "      <td>Jaguar</td>\n",
       "      <td>I-Pace</td>\n",
       "      <td>2024.0</td>\n",
       "      <td>JUL-2024</td>\n",
       "      <td>18:16</td>\n",
       "      <td>San Francisco</td>\n",
       "      <td>CA</td>\n",
       "      <td>Street</td>\n",
       "      <td>Dry</td>\n",
       "      <td>No Unusual Conditions</td>\n",
       "      <td>25.0</td>\n",
       "      <td>Daylight</td>\n",
       "      <td>Y</td>\n",
       "      <td></td>\n",
       "      <td></td>\n",
       "      <td></td>\n",
       "      <td></td>\n",
       "      <td></td>\n",
       "      <td>No Injuries Reported</td>\n",
       "      <td>No Passengers in Vehicle</td>\n",
       "    </tr>\n",
       "    <tr>\n",
       "      <th>4</th>\n",
       "      <td>Jaguar</td>\n",
       "      <td>I-Pace</td>\n",
       "      <td>2024.0</td>\n",
       "      <td>JUL-2024</td>\n",
       "      <td>11:06</td>\n",
       "      <td>Austin</td>\n",
       "      <td>TX</td>\n",
       "      <td>Street</td>\n",
       "      <td>Dry</td>\n",
       "      <td>No Unusual Conditions</td>\n",
       "      <td>40.0</td>\n",
       "      <td>Daylight</td>\n",
       "      <td></td>\n",
       "      <td></td>\n",
       "      <td>Y</td>\n",
       "      <td></td>\n",
       "      <td></td>\n",
       "      <td></td>\n",
       "      <td>No Injuries Reported</td>\n",
       "      <td>Yes</td>\n",
       "    </tr>\n",
       "  </tbody>\n",
       "</table>\n",
       "</div>"
      ],
      "text/plain": [
       "     Make   Model  Model Year Incident Date Incident Time (24:00)  \\\n",
       "0  Jaguar  I-Pace      2021.0      JAN-2024                 12:04   \n",
       "1  Jaguar  I-Pace      2024.0      JUL-2024                 04:58   \n",
       "2  Jaguar  I-Pace      2024.0      JUL-2024                 11:29   \n",
       "3  Jaguar  I-Pace      2024.0      JUL-2024                 18:16   \n",
       "4  Jaguar  I-Pace      2024.0      JUL-2024                 11:06   \n",
       "\n",
       "            City State Roadway Type Roadway Surface    Roadway Description  \\\n",
       "0    Los Angeles   CA        Street             Dry  No Unusual Conditions   \n",
       "1  San Francisco   CA        Street             Dry  No Unusual Conditions   \n",
       "2        Phoenix   AZ   Parking Lot             Dry  No Unusual Conditions   \n",
       "3  San Francisco   CA        Street             Dry  No Unusual Conditions   \n",
       "4         Austin   TX        Street             Dry  No Unusual Conditions   \n",
       "\n",
       "   Posted Speed Limit (MPH)        Lighting Weather - Clear Weather - Snow  \\\n",
       "0                      25.0        Daylight               Y                  \n",
       "1                      25.0  Dark - Lighted               Y                  \n",
       "2                       5.0        Daylight               Y                  \n",
       "3                      25.0        Daylight               Y                  \n",
       "4                      40.0        Daylight                                  \n",
       "\n",
       "  Weather - Cloudy Weather - Fog/Smoke Weather - Rain Weather - Severe Wind  \\\n",
       "0                                                                             \n",
       "1                                                                             \n",
       "2                                                                             \n",
       "3                                                                             \n",
       "4                Y                                                            \n",
       "\n",
       "  Highest Injury Severity Alleged SV Were All Passengers Belted?  \n",
       "0                         Unknown              No, see Narrative  \n",
       "1            No Injuries Reported       No Passengers in Vehicle  \n",
       "2            No Injuries Reported                            Yes  \n",
       "3            No Injuries Reported       No Passengers in Vehicle  \n",
       "4            No Injuries Reported                            Yes  "
      ]
     },
     "execution_count": 4,
     "metadata": {},
     "output_type": "execute_result"
    }
   ],
   "source": [
    "cols_to_drop = ['Report ID', 'Report Version', 'Report Month', 'Report Year','Reporting Entity','Report Submission Date',\\\n",
    "                'VIN', 'Same Vehicle ID', 'Mileage','VIN - Unknown', 'Serial Number',\\\n",
    "               'Model - Unknown', 'Model Year - Unknown','Same Vehicle ID', 'Mileage',\\\n",
    "               'Report Type', 'Mileage - Unknown', 'Driver / Operator Type', 'ADAS/ADS System Version','ADAS/ADS System Version - Unk',\\\n",
    "                'ADAS/ADS System Version CBI','ADAS/ADS Hardware Version', 'ADAS/ADS Hardware Version - Unk','Investigating Officer Name',\\\n",
    "                'Inv. Officer Name - Unknown', 'Investigating Officer Phone', 'Inv. Officer Phone - Unknown','Investigating Officer Email',\\\n",
    "                'Inv. Officer Email - Unknown','Within ODD?', 'Within ODD? - CBI', 'Narrative', 'Narrative - CBI?','ADAS/ADS Hardware Version CBI',\\\n",
    "               'ADAS/ADS Software Version', 'ADAS/ADS Software Version - Unk',\\\n",
    "               'ADAS/ADS Software Version CBI', 'Other Reporting Entities?',\\\n",
    "               'Other Reporting Entities? - Unk', 'Other Reporting Entities? - NA',\\\n",
    "               'Federal Regulatory Exemption?',\\\n",
    "               'Data Availability - Telematics', 'Data Availability - Complaints',\\\n",
    "               'Data Availability - Video', 'Data Availability - Other',\\\n",
    "               'Data Availability - No Data', 'Data Availability - Unknown',\\\n",
    "               'Law Enforcement Investigating?', 'Investigating Agency',\\\n",
    "               'Investigating Agency - Unknown', 'Rep Ent Or Mfr Investigating?','Other Federal Reg. Exemption',\\\n",
    "               'Federal Reg. Exemption - Unk', 'Federal Reg. Exemption - No',\\\n",
    "               'State or Local Permit?', 'State or Local Permit', 'ADS Equipped?',\\\n",
    "               'Automation System Engaged?', 'Source - Complaint/Claim',\\\n",
    "               'Source - Telematics', 'Source - Law Enforcement',\\\n",
    "               'Source - Field Report', 'Source - Testing', 'Source - Media',\\\n",
    "               'Source - Other', 'Source - Other Text','Incident Date - Unknown', 'Notice Received Date',\\\n",
    "               'Same Incident ID','Address', 'Address - Unknown','Property Damage?',\\\n",
    "               'CP Pre-Crash Movement', 'CP Any Air Bags Deployed?','CP Was Vehicle Towed?', 'CP Contact Area - Rear Left',\\\n",
    "               'CP Contact Area - Left', 'CP Contact Area - Front Left','CP Contact Area - Rear', 'CP Contact Area - Top',\\\n",
    "               'CP Contact Area - Front', 'CP Contact Area - Rear Right','CP Contact Area - Right', 'CP Contact Area - Front Right',\\\n",
    "               'CP Contact Area - Bottom', 'CP Contact Area - Unknown','SV Pre-Crash Movement', 'SV Any Air Bags Deployed?',\\\n",
    "               'SV Was Vehicle Towed?','SV Precrash Speed (MPH)', 'SV Pre-crash Speed - Unknown','SV Contact Area - Rear Left',\\\n",
    "                'SV Contact Area - Left','SV Contact Area - Front Left', 'SV Contact Area - Rear','SV Contact Area - Top',\\\n",
    "                'SV Contact Area - Front','SV Contact Area - Rear Right', 'SV Contact Area - Right','SV Contact Area - Front Right',\\\n",
    "                'SV Contact Area - Bottom','SV Contact Area - Unknown', 'Data Availability - EDR','Data Availability - Police Rpt',\\\n",
    "               'Operating Entity','Operating Entity - Unknown','Crash With', 'Weather - Unknown','Incident Time - Unknown', 'Latitude',\\\n",
    "                'Latitude - Unknown','Longitude', 'Longitude - Unknown','City - Unknown','Zip Code','Zip Code - Unknown',\\\n",
    "                'Posted Speed Limit - Unknown', 'Weather - Other', 'Weather - Other Text', ]\n",
    "df2 = df.drop(cols_to_drop, axis=1)\n",
    "df2.head()"
   ]
  },
  {
   "cell_type": "code",
   "execution_count": 5,
   "id": "52a7c07f-f141-4303-aea3-bdb1cf131563",
   "metadata": {},
   "outputs": [
    {
     "data": {
      "text/plain": [
       "Index(['Make', 'Model', 'Model Year', 'Incident Date', 'Incident Time (24:00)',\n",
       "       'City', 'State', 'Roadway Type', 'Roadway Surface',\n",
       "       'Roadway Description', 'Posted Speed Limit (MPH)', 'Lighting',\n",
       "       'Weather - Clear', 'Weather - Snow', 'Weather - Cloudy',\n",
       "       'Weather - Fog/Smoke', 'Weather - Rain', 'Weather - Severe Wind',\n",
       "       'Highest Injury Severity Alleged', 'SV Were All Passengers Belted?'],\n",
       "      dtype='object')"
      ]
     },
     "execution_count": 5,
     "metadata": {},
     "output_type": "execute_result"
    }
   ],
   "source": [
    "# Refreshed look at columns\n",
    "df2.columns"
   ]
  },
  {
   "cell_type": "code",
   "execution_count": 6,
   "id": "fd39f84a-8bc2-42eb-aa63-81f4193d11f1",
   "metadata": {},
   "outputs": [
    {
     "name": "stdout",
     "output_type": "stream",
     "text": [
      "<class 'pandas.core.frame.DataFrame'>\n",
      "RangeIndex: 1362 entries, 0 to 1361\n",
      "Data columns (total 20 columns):\n",
      " #   Column                           Non-Null Count  Dtype  \n",
      "---  ------                           --------------  -----  \n",
      " 0   Make                             1359 non-null   object \n",
      " 1   Model                            1358 non-null   object \n",
      " 2   Model Year                       1348 non-null   float64\n",
      " 3   Incident Date                    1358 non-null   object \n",
      " 4   Incident Time (24:00)            1352 non-null   object \n",
      " 5   City                             1356 non-null   object \n",
      " 6   State                            1359 non-null   object \n",
      " 7   Roadway Type                     1359 non-null   object \n",
      " 8   Roadway Surface                  1359 non-null   object \n",
      " 9   Roadway Description              1359 non-null   object \n",
      " 10  Posted Speed Limit (MPH)         1331 non-null   float64\n",
      " 11  Lighting                         1359 non-null   object \n",
      " 12  Weather - Clear                  1362 non-null   object \n",
      " 13  Weather - Snow                   1362 non-null   object \n",
      " 14  Weather - Cloudy                 1362 non-null   object \n",
      " 15  Weather - Fog/Smoke              1362 non-null   object \n",
      " 16  Weather - Rain                   1362 non-null   object \n",
      " 17  Weather - Severe Wind            1362 non-null   object \n",
      " 18  Highest Injury Severity Alleged  1359 non-null   object \n",
      " 19  SV Were All Passengers Belted?   1359 non-null   object \n",
      "dtypes: float64(2), object(18)\n",
      "memory usage: 212.9+ KB\n"
     ]
    }
   ],
   "source": [
    "df2.info()"
   ]
  },
  {
   "cell_type": "code",
   "execution_count": 7,
   "id": "8817e3e5-1a57-4551-ace5-3b80fdf6cb59",
   "metadata": {},
   "outputs": [],
   "source": [
    "df2['Incident Date'] = pd.to_datetime(df2['Incident Date'], format = '%b-%Y')\n",
    "df2['Incident Time (24:00)'] = pd.to_datetime(df2['Incident Time (24:00)'], format = '%H:%M')\n",
    "df2['Model Year'] = df2['Model Year'].fillna(9999).astype(int)\n",
    "\n",
    "\n",
    "# Code Recommendation was via Xpert\n",
    "\n",
    "df2['Incident Date'] = df2['Incident Date'].dt.strftime('%B %Y')\n",
    "df2['Incident Time (24:00)'] = df2['Incident Time (24:00)'].dt.strftime('%H:%M')\n"
   ]
  },
  {
   "cell_type": "code",
   "execution_count": 8,
   "id": "9bffe6ce-e212-42ae-a32a-8cd1343720f3",
   "metadata": {},
   "outputs": [
    {
     "name": "stdout",
     "output_type": "stream",
     "text": [
      "<class 'pandas.core.frame.DataFrame'>\n",
      "RangeIndex: 1362 entries, 0 to 1361\n",
      "Data columns (total 20 columns):\n",
      " #   Column                           Non-Null Count  Dtype  \n",
      "---  ------                           --------------  -----  \n",
      " 0   Make                             1359 non-null   object \n",
      " 1   Model                            1358 non-null   object \n",
      " 2   Model Year                       1362 non-null   int32  \n",
      " 3   Incident Date                    1358 non-null   object \n",
      " 4   Incident Time (24:00)            1352 non-null   object \n",
      " 5   City                             1356 non-null   object \n",
      " 6   State                            1359 non-null   object \n",
      " 7   Roadway Type                     1359 non-null   object \n",
      " 8   Roadway Surface                  1359 non-null   object \n",
      " 9   Roadway Description              1359 non-null   object \n",
      " 10  Posted Speed Limit (MPH)         1331 non-null   float64\n",
      " 11  Lighting                         1359 non-null   object \n",
      " 12  Weather - Clear                  1362 non-null   object \n",
      " 13  Weather - Snow                   1362 non-null   object \n",
      " 14  Weather - Cloudy                 1362 non-null   object \n",
      " 15  Weather - Fog/Smoke              1362 non-null   object \n",
      " 16  Weather - Rain                   1362 non-null   object \n",
      " 17  Weather - Severe Wind            1362 non-null   object \n",
      " 18  Highest Injury Severity Alleged  1359 non-null   object \n",
      " 19  SV Were All Passengers Belted?   1359 non-null   object \n",
      "dtypes: float64(1), int32(1), object(18)\n",
      "memory usage: 207.6+ KB\n"
     ]
    }
   ],
   "source": [
    "df2.info()"
   ]
  },
  {
   "cell_type": "code",
   "execution_count": 9,
   "id": "8805c979-596c-458b-8e56-64933dadc8d3",
   "metadata": {},
   "outputs": [
    {
     "name": "stdout",
     "output_type": "stream",
     "text": [
      "Incident Date\n",
      "38\n",
      "Incident Date\n",
      "August 2023       100\n",
      "September 2023     57\n",
      "October 2023       56\n",
      "March 2023         55\n",
      "May 2024           55\n",
      "July 2023          55\n",
      "June 2024          50\n",
      "August 2022        48\n",
      "July 2024          48\n",
      "June 2023          46\n",
      "May 2023           43\n",
      "April 2023         42\n",
      "December 2022      41\n",
      "March 2022         37\n",
      "April 2022         37\n",
      "June 2022          36\n",
      "November 2021      34\n",
      "July 2022          34\n",
      "February 2023      33\n",
      "February 2024      33\n",
      "March 2024         33\n",
      "May 2022           33\n",
      "October 2021       32\n",
      "September 2022     30\n",
      "August 2021        29\n",
      "January 2024       27\n",
      "January 2022       26\n",
      "April 2024         25\n",
      "September 2021     25\n",
      "July 2021          24\n",
      "December 2023      24\n",
      "February 2022      21\n",
      "December 2021      19\n",
      "November 2023      18\n",
      "November 2022      16\n",
      "October 2022       15\n",
      "January 2023       12\n",
      "August 2024         9\n",
      "Name: count, dtype: int64\n",
      "\n",
      "Incident Time (24:00)\n",
      "549\n",
      "Incident Time (24:00)\n",
      "03:15    11\n",
      "21:29    10\n",
      "22:22    10\n",
      "00:39    10\n",
      "23:30     9\n",
      "         ..\n",
      "20:26     1\n",
      "12:03     1\n",
      "11:20     1\n",
      "07:38     1\n",
      "09:50     1\n",
      "Name: count, Length: 549, dtype: int64\n",
      "\n",
      "Make\n",
      "38\n",
      "Make\n",
      "Jaguar                     613\n",
      "Cruise                     380\n",
      "Toyota                     105\n",
      "Ford                        50\n",
      "Peterbilt                   37\n",
      "Chrysler                    27\n",
      "Hyundai                     26\n",
      "Lexus                       17\n",
      "Chevrolet                   11\n",
      "Mercedes-Benz               10\n",
      "Kenworth Motor Truck Co      8\n",
      "Nissan                       8\n",
      "Navya                        8\n",
      "EZ10                         6\n",
      "FREIGHTLINER                 5\n",
      "Lincoln                      5\n",
      "Volkswagen                   5\n",
      "Lucid                        5\n",
      "Local Motors                 4\n",
      "International                3\n",
      "Freightliner                 3\n",
      "KIA                          2\n",
      "EQS                          2\n",
      "Jeep                         2\n",
      "Polestar                     2\n",
      "Ligier                       2\n",
      "Kenworth                     2\n",
      "Ligier Group                 1\n",
      "INTERNATIONAL                1\n",
      "NAVYA                        1\n",
      "Crui9se                      1\n",
      "LExus                        1\n",
      "NISSAN                       1\n",
      "KENWORTH                     1\n",
      "Zoox                         1\n",
      "Vinfast                      1\n",
      "Local Motors (LOCM)          1\n",
      "OLLI                         1\n",
      "Name: count, dtype: int64\n",
      "\n",
      "Model\n",
      "67\n",
      "Model\n",
      "I-Pace          595\n",
      "AV              378\n",
      "Highlander       80\n",
      "Escape           34\n",
      "Pacifica         27\n",
      "               ... \n",
      "Leaf SV Plus      1\n",
      "111324            1\n",
      "S 580 4Matic      1\n",
      "ARMA Autonom      1\n",
      "Olli              1\n",
      "Name: count, Length: 67, dtype: int64\n",
      "\n",
      "Model Year\n",
      "10\n",
      "Model Year\n",
      "2021    568\n",
      "2023    271\n",
      "2020    135\n",
      "2022    123\n",
      "2024     97\n",
      "2016     52\n",
      "2017     48\n",
      "2019     46\n",
      "9999     14\n",
      "2018      8\n",
      "Name: count, dtype: int64\n",
      "\n",
      "City\n",
      "88\n",
      "City\n",
      "San Francisco       743\n",
      "Phoenix             101\n",
      "Tempe                80\n",
      "Austin               75\n",
      "Los Angeles          36\n",
      "                   ... \n",
      "Foster City           1\n",
      "Port Saint Lucie      1\n",
      "Shenandoah            1\n",
      "Rice                  1\n",
      "Sunol                 1\n",
      "Name: count, Length: 88, dtype: int64\n",
      "\n",
      "State\n",
      "18\n",
      "State\n",
      "CA     852\n",
      "AZ     240\n",
      "TX     130\n",
      "FL      42\n",
      "NV      35\n",
      "MI      11\n",
      "DC       8\n",
      "NM       6\n",
      "MN       6\n",
      "CO       6\n",
      "RI       5\n",
      "IN       4\n",
      "PA       3\n",
      "OH       3\n",
      "WA       3\n",
      "WY       3\n",
      "GA       1\n",
      "VA       1\n",
      "Name: count, dtype: int64\n",
      "\n",
      "Roadway Type\n",
      "6\n",
      "Roadway Type\n",
      "Intersection         592\n",
      "Street               576\n",
      "Highway / Freeway    107\n",
      "Parking Lot           73\n",
      "Traffic Circle         6\n",
      "Unknown                5\n",
      "Name: count, dtype: int64\n",
      "\n",
      "Roadway Surface\n",
      "4\n",
      "Roadway Surface\n",
      "Dry                   1284\n",
      "Wet                     64\n",
      "Unknown                  9\n",
      "Snow / Slush / Ice       2\n",
      "Name: count, dtype: int64\n",
      "\n",
      "Roadway Description\n",
      "6\n",
      "Roadway Description\n",
      "No Unusual Conditions          1285\n",
      "Other, see Narrative             37\n",
      "Work Zone                        19\n",
      "Traffic Incident                  9\n",
      "Unknown                           8\n",
      "Missing / Degraded Markings       1\n",
      "Name: count, dtype: int64\n",
      "\n",
      "Posted Speed Limit (MPH)\n",
      "18\n",
      "Posted Speed Limit (MPH)\n",
      "25.0    752\n",
      "30.0    147\n",
      "35.0    110\n",
      "45.0     58\n",
      "15.0     54\n",
      "65.0     53\n",
      "20.0     45\n",
      "40.0     40\n",
      "75.0     30\n",
      "5.0      13\n",
      "10.0      5\n",
      "55.0      5\n",
      "0.0       4\n",
      "70.0      4\n",
      "60.0      4\n",
      "50.0      3\n",
      "9.0       3\n",
      "1.0       1\n",
      "Name: count, dtype: int64\n",
      "\n",
      "Lighting\n",
      "6\n",
      "Lighting\n",
      "Daylight                   791\n",
      "Dark - Lighted             488\n",
      "Dawn / Dusk                 46\n",
      "Dark - Not Lighted          26\n",
      "Unknown                      5\n",
      "Dark - Unknown Lighting      3\n",
      "Name: count, dtype: int64\n",
      "\n",
      "Weather - Clear\n",
      "2\n",
      "Weather - Clear\n",
      "Y    1121\n",
      "      241\n",
      "Name: count, dtype: int64\n",
      "\n",
      "Weather - Snow\n",
      "2\n",
      "Weather - Snow\n",
      "     1361\n",
      "Y       1\n",
      "Name: count, dtype: int64\n",
      "\n",
      "Weather - Cloudy\n",
      "2\n",
      "Weather - Cloudy\n",
      "     1189\n",
      "Y     173\n",
      "Name: count, dtype: int64\n",
      "\n",
      "Weather - Fog/Smoke\n",
      "1\n",
      "Weather - Fog/Smoke\n",
      "     1362\n",
      "Name: count, dtype: int64\n",
      "\n",
      "Weather - Rain\n",
      "2\n",
      "Weather - Rain\n",
      "     1317\n",
      "Y      45\n",
      "Name: count, dtype: int64\n",
      "\n",
      "Weather - Severe Wind\n",
      "1\n",
      "Weather - Severe Wind\n",
      "     1362\n",
      "Name: count, dtype: int64\n",
      "\n",
      "Highest Injury Severity Alleged\n",
      "6\n",
      "Highest Injury Severity Alleged\n",
      "No Injuries Reported    1092\n",
      "Minor                    133\n",
      "Unknown                   74\n",
      "Moderate                  37\n",
      "Serious                   21\n",
      "Fatality                   2\n",
      "Name: count, dtype: int64\n",
      "\n",
      "SV Were All Passengers Belted?\n",
      "4\n",
      "SV Were All Passengers Belted?\n",
      "Yes                         876\n",
      "No Passengers in Vehicle    442\n",
      "No, see Narrative            30\n",
      "Unknown                      11\n",
      "Name: count, dtype: int64\n",
      "\n"
     ]
    }
   ],
   "source": [
    "cols = ['Incident Date', 'Incident Time (24:00)','Make', 'Model','Model Year','City', 'State','Roadway Type', 'Roadway Surface',\\\n",
    "        'Roadway Description', 'Posted Speed Limit (MPH)', 'Lighting', 'Weather - Clear','Weather - Snow', 'Weather - Cloudy', 'Weather - Fog/Smoke',\\\n",
    "        'Weather - Rain', 'Weather - Severe Wind', 'Highest Injury Severity Alleged',\\\n",
    "        'SV Were All Passengers Belted?']\n",
    "\n",
    "for col in cols:\n",
    "  print(col)\n",
    "  print(df2[col].nunique())\n",
    "  print(df2[col].value_counts())\n",
    "  print()"
   ]
  },
  {
   "cell_type": "code",
   "execution_count": 10,
   "id": "a762a4ed-f141-4ee8-95bd-4acb8e89a2cc",
   "metadata": {},
   "outputs": [
    {
     "data": {
      "text/plain": [
       "Incident Date\n",
       "August 2023       100\n",
       "September 2023     57\n",
       "October 2023       56\n",
       "March 2023         55\n",
       "May 2024           55\n",
       "July 2023          55\n",
       "June 2024          50\n",
       "August 2022        48\n",
       "July 2024          48\n",
       "June 2023          46\n",
       "May 2023           43\n",
       "April 2023         42\n",
       "December 2022      41\n",
       "March 2022         37\n",
       "April 2022         37\n",
       "June 2022          36\n",
       "November 2021      34\n",
       "July 2022          34\n",
       "February 2023      33\n",
       "February 2024      33\n",
       "March 2024         33\n",
       "May 2022           33\n",
       "October 2021       32\n",
       "September 2022     30\n",
       "August 2021        29\n",
       "January 2024       27\n",
       "January 2022       26\n",
       "April 2024         25\n",
       "September 2021     25\n",
       "July 2021          24\n",
       "December 2023      24\n",
       "February 2022      21\n",
       "December 2021      19\n",
       "November 2023      18\n",
       "November 2022      16\n",
       "October 2022       15\n",
       "January 2023       12\n",
       "August 2024         9\n",
       "Name: count, dtype: int64"
      ]
     },
     "execution_count": 10,
     "metadata": {},
     "output_type": "execute_result"
    }
   ],
   "source": [
    "df2['Incident Date'].value_counts()"
   ]
  },
  {
   "cell_type": "code",
   "execution_count": 11,
   "id": "9eb0fabc-534a-4ab5-8764-9add155ed12c",
   "metadata": {},
   "outputs": [
    {
     "data": {
      "text/plain": [
       "Incident Time (24:00)\n",
       "03:15    11\n",
       "21:29    10\n",
       "22:22    10\n",
       "00:39    10\n",
       "23:30     9\n",
       "         ..\n",
       "20:26     1\n",
       "12:03     1\n",
       "11:20     1\n",
       "07:38     1\n",
       "09:50     1\n",
       "Name: count, Length: 549, dtype: int64"
      ]
     },
     "execution_count": 11,
     "metadata": {},
     "output_type": "execute_result"
    }
   ],
   "source": [
    "df2['Incident Time (24:00)'].value_counts()"
   ]
  },
  {
   "cell_type": "code",
   "execution_count": 12,
   "id": "eb05b696-a5c3-45a8-ad2c-589891cf0b6e",
   "metadata": {},
   "outputs": [
    {
     "data": {
      "text/plain": [
       "Make\n",
       "Jaguar                     613\n",
       "Cruise                     380\n",
       "Toyota                     105\n",
       "Ford                        50\n",
       "Peterbilt                   37\n",
       "Chrysler                    27\n",
       "Hyundai                     26\n",
       "Lexus                       17\n",
       "Chevrolet                   11\n",
       "Mercedes-Benz               10\n",
       "Kenworth Motor Truck Co      8\n",
       "Nissan                       8\n",
       "Navya                        8\n",
       "EZ10                         6\n",
       "FREIGHTLINER                 5\n",
       "Lincoln                      5\n",
       "Volkswagen                   5\n",
       "Lucid                        5\n",
       "Local Motors                 4\n",
       "International                3\n",
       "Freightliner                 3\n",
       "KIA                          2\n",
       "EQS                          2\n",
       "Jeep                         2\n",
       "Polestar                     2\n",
       "Ligier                       2\n",
       "Kenworth                     2\n",
       "Ligier Group                 1\n",
       "INTERNATIONAL                1\n",
       "NAVYA                        1\n",
       "Crui9se                      1\n",
       "LExus                        1\n",
       "NISSAN                       1\n",
       "KENWORTH                     1\n",
       "Zoox                         1\n",
       "Vinfast                      1\n",
       "Local Motors (LOCM)          1\n",
       "OLLI                         1\n",
       "Name: count, dtype: int64"
      ]
     },
     "execution_count": 12,
     "metadata": {},
     "output_type": "execute_result"
    }
   ],
   "source": [
    "df2['Make'].value_counts()"
   ]
  },
  {
   "cell_type": "code",
   "execution_count": 13,
   "id": "011da5a3-8e53-434f-adaf-5b41a654712d",
   "metadata": {},
   "outputs": [
    {
     "data": {
      "text/plain": [
       "Model\n",
       "I-Pace          595\n",
       "AV              378\n",
       "Highlander       80\n",
       "Escape           34\n",
       "Pacifica         27\n",
       "               ... \n",
       "Leaf SV Plus      1\n",
       "111324            1\n",
       "S 580 4Matic      1\n",
       "ARMA Autonom      1\n",
       "Olli              1\n",
       "Name: count, Length: 67, dtype: int64"
      ]
     },
     "execution_count": 13,
     "metadata": {},
     "output_type": "execute_result"
    }
   ],
   "source": [
    "df2['Model'].value_counts()"
   ]
  },
  {
   "cell_type": "code",
   "execution_count": 14,
   "id": "c4f7cfe5-1b51-49f3-b90e-06d6b239c7f0",
   "metadata": {},
   "outputs": [
    {
     "data": {
      "text/plain": [
       "Model Year\n",
       "2021    568\n",
       "2023    271\n",
       "2020    135\n",
       "2022    123\n",
       "2024     97\n",
       "2016     52\n",
       "2017     48\n",
       "2019     46\n",
       "9999     14\n",
       "2018      8\n",
       "Name: count, dtype: int64"
      ]
     },
     "execution_count": 14,
     "metadata": {},
     "output_type": "execute_result"
    }
   ],
   "source": [
    "df2['Model Year'].value_counts()"
   ]
  },
  {
   "cell_type": "code",
   "execution_count": 15,
   "id": "ad017540-7ae3-44cb-b6c8-af0cf004912a",
   "metadata": {},
   "outputs": [
    {
     "data": {
      "text/plain": [
       "City\n",
       "San Francisco       743\n",
       "Phoenix             101\n",
       "Tempe                80\n",
       "Austin               75\n",
       "Los Angeles          36\n",
       "                   ... \n",
       "Foster City           1\n",
       "Port Saint Lucie      1\n",
       "Shenandoah            1\n",
       "Rice                  1\n",
       "Sunol                 1\n",
       "Name: count, Length: 88, dtype: int64"
      ]
     },
     "execution_count": 15,
     "metadata": {},
     "output_type": "execute_result"
    }
   ],
   "source": [
    "df2['City'].value_counts()"
   ]
  },
  {
   "cell_type": "code",
   "execution_count": 16,
   "id": "e4b13ab4-e1bb-4bc7-8cf1-5b3c65deea23",
   "metadata": {},
   "outputs": [
    {
     "data": {
      "text/plain": [
       "State\n",
       "CA     852\n",
       "AZ     240\n",
       "TX     130\n",
       "FL      42\n",
       "NV      35\n",
       "MI      11\n",
       "DC       8\n",
       "NM       6\n",
       "MN       6\n",
       "CO       6\n",
       "RI       5\n",
       "IN       4\n",
       "PA       3\n",
       "OH       3\n",
       "WA       3\n",
       "WY       3\n",
       "GA       1\n",
       "VA       1\n",
       "Name: count, dtype: int64"
      ]
     },
     "execution_count": 16,
     "metadata": {},
     "output_type": "execute_result"
    }
   ],
   "source": [
    "df2['State'].value_counts()"
   ]
  },
  {
   "cell_type": "code",
   "execution_count": 17,
   "id": "76f90e2c-8c7e-4c28-a034-723b54e40e60",
   "metadata": {},
   "outputs": [
    {
     "data": {
      "text/plain": [
       "Roadway Type\n",
       "Intersection         592\n",
       "Street               576\n",
       "Highway / Freeway    107\n",
       "Parking Lot           73\n",
       "Traffic Circle         6\n",
       "Unknown                5\n",
       "Name: count, dtype: int64"
      ]
     },
     "execution_count": 17,
     "metadata": {},
     "output_type": "execute_result"
    }
   ],
   "source": [
    "df2['Roadway Type'].value_counts()"
   ]
  },
  {
   "cell_type": "code",
   "execution_count": 18,
   "id": "cb6b79ae-7c12-4f68-aab3-9969b6600b0a",
   "metadata": {},
   "outputs": [
    {
     "data": {
      "text/plain": [
       "Roadway Surface\n",
       "Dry                   1284\n",
       "Wet                     64\n",
       "Unknown                  9\n",
       "Snow / Slush / Ice       2\n",
       "Name: count, dtype: int64"
      ]
     },
     "execution_count": 18,
     "metadata": {},
     "output_type": "execute_result"
    }
   ],
   "source": [
    "df2['Roadway Surface'].value_counts()"
   ]
  },
  {
   "cell_type": "code",
   "execution_count": 19,
   "id": "e203b3e2-72d4-4c25-9438-748698d3cd28",
   "metadata": {},
   "outputs": [
    {
     "data": {
      "text/plain": [
       "Roadway Description\n",
       "No Unusual Conditions          1285\n",
       "Other, see Narrative             37\n",
       "Work Zone                        19\n",
       "Traffic Incident                  9\n",
       "Unknown                           8\n",
       "Missing / Degraded Markings       1\n",
       "Name: count, dtype: int64"
      ]
     },
     "execution_count": 19,
     "metadata": {},
     "output_type": "execute_result"
    }
   ],
   "source": [
    "df2['Roadway Description'].value_counts()"
   ]
  },
  {
   "cell_type": "code",
   "execution_count": 20,
   "id": "372c4f95-f40a-498d-8220-ae61dbe9f846",
   "metadata": {},
   "outputs": [
    {
     "data": {
      "text/plain": [
       "Posted Speed Limit (MPH)\n",
       "25.0    752\n",
       "30.0    147\n",
       "35.0    110\n",
       "45.0     58\n",
       "15.0     54\n",
       "65.0     53\n",
       "20.0     45\n",
       "40.0     40\n",
       "75.0     30\n",
       "5.0      13\n",
       "10.0      5\n",
       "55.0      5\n",
       "0.0       4\n",
       "70.0      4\n",
       "60.0      4\n",
       "50.0      3\n",
       "9.0       3\n",
       "1.0       1\n",
       "Name: count, dtype: int64"
      ]
     },
     "execution_count": 20,
     "metadata": {},
     "output_type": "execute_result"
    }
   ],
   "source": [
    "df2['Posted Speed Limit (MPH)'].value_counts()"
   ]
  },
  {
   "cell_type": "code",
   "execution_count": 21,
   "id": "8c338016-9b51-4149-8876-38f447e3184d",
   "metadata": {},
   "outputs": [
    {
     "data": {
      "text/plain": [
       "Lighting\n",
       "Daylight                   791\n",
       "Dark - Lighted             488\n",
       "Dawn / Dusk                 46\n",
       "Dark - Not Lighted          26\n",
       "Unknown                      5\n",
       "Dark - Unknown Lighting      3\n",
       "Name: count, dtype: int64"
      ]
     },
     "execution_count": 21,
     "metadata": {},
     "output_type": "execute_result"
    }
   ],
   "source": [
    "df2['Lighting'].value_counts()"
   ]
  },
  {
   "cell_type": "code",
   "execution_count": 22,
   "id": "c287d6c2-ba4c-42f1-9b1f-3c0d419cf845",
   "metadata": {},
   "outputs": [
    {
     "data": {
      "text/plain": [
       "Weather - Clear\n",
       "Y    1121\n",
       "      241\n",
       "Name: count, dtype: int64"
      ]
     },
     "execution_count": 22,
     "metadata": {},
     "output_type": "execute_result"
    }
   ],
   "source": [
    "df2['Weather - Clear'].value_counts()"
   ]
  },
  {
   "cell_type": "code",
   "execution_count": 23,
   "id": "f2db2f93-6abc-477e-8739-c8cc1cbbf949",
   "metadata": {},
   "outputs": [
    {
     "data": {
      "text/plain": [
       "Weather - Snow\n",
       "     1361\n",
       "Y       1\n",
       "Name: count, dtype: int64"
      ]
     },
     "execution_count": 23,
     "metadata": {},
     "output_type": "execute_result"
    }
   ],
   "source": [
    "df2['Weather - Snow'].value_counts()"
   ]
  },
  {
   "cell_type": "code",
   "execution_count": 24,
   "id": "795ceab0-d5bb-489d-97a5-53a5f8edc534",
   "metadata": {},
   "outputs": [
    {
     "data": {
      "text/plain": [
       "Weather - Cloudy\n",
       "     1189\n",
       "Y     173\n",
       "Name: count, dtype: int64"
      ]
     },
     "execution_count": 24,
     "metadata": {},
     "output_type": "execute_result"
    }
   ],
   "source": [
    "df2['Weather - Cloudy'].value_counts()"
   ]
  },
  {
   "cell_type": "code",
   "execution_count": 25,
   "id": "2f68da1c-6693-4b66-a8c6-98c4ef36f2e9",
   "metadata": {},
   "outputs": [
    {
     "data": {
      "text/plain": [
       "Weather - Fog/Smoke\n",
       "     1362\n",
       "Name: count, dtype: int64"
      ]
     },
     "execution_count": 25,
     "metadata": {},
     "output_type": "execute_result"
    }
   ],
   "source": [
    "df2['Weather - Fog/Smoke'].value_counts()"
   ]
  },
  {
   "cell_type": "code",
   "execution_count": 26,
   "id": "51d20ee6-da71-4d9c-9cd7-b0f5d1e23c90",
   "metadata": {},
   "outputs": [
    {
     "data": {
      "text/plain": [
       "Weather - Rain\n",
       "     1317\n",
       "Y      45\n",
       "Name: count, dtype: int64"
      ]
     },
     "execution_count": 26,
     "metadata": {},
     "output_type": "execute_result"
    }
   ],
   "source": [
    "df2['Weather - Rain'].value_counts()"
   ]
  },
  {
   "cell_type": "code",
   "execution_count": 27,
   "id": "c5adfd7f-4c8b-4f81-89ff-854c0558a657",
   "metadata": {},
   "outputs": [
    {
     "data": {
      "text/plain": [
       "Weather - Severe Wind\n",
       "     1362\n",
       "Name: count, dtype: int64"
      ]
     },
     "execution_count": 27,
     "metadata": {},
     "output_type": "execute_result"
    }
   ],
   "source": [
    "df2['Weather - Severe Wind'].value_counts()"
   ]
  },
  {
   "cell_type": "code",
   "execution_count": 28,
   "id": "5f4517c3-b79f-47e8-b275-e88fdd7ac6da",
   "metadata": {},
   "outputs": [],
   "source": [
    "#df2['Weather - Other'].value_counts()"
   ]
  },
  {
   "cell_type": "code",
   "execution_count": 29,
   "id": "811da850-e6dd-4f99-b4e5-4fceabfd2964",
   "metadata": {},
   "outputs": [],
   "source": [
    "#df2['Weather - Other Text'].value_counts()"
   ]
  },
  {
   "cell_type": "code",
   "execution_count": 30,
   "id": "47087811-ded9-4929-a4b7-d74dd569bdfa",
   "metadata": {},
   "outputs": [
    {
     "data": {
      "text/plain": [
       "Highest Injury Severity Alleged\n",
       "No Injuries Reported    1092\n",
       "Minor                    133\n",
       "Unknown                   74\n",
       "Moderate                  37\n",
       "Serious                   21\n",
       "Fatality                   2\n",
       "Name: count, dtype: int64"
      ]
     },
     "execution_count": 30,
     "metadata": {},
     "output_type": "execute_result"
    }
   ],
   "source": [
    "df2['Highest Injury Severity Alleged'].value_counts()"
   ]
  },
  {
   "cell_type": "code",
   "execution_count": 31,
   "id": "ace10428-023e-428a-9a49-9f3eabf45b72",
   "metadata": {},
   "outputs": [
    {
     "data": {
      "text/plain": [
       "SV Were All Passengers Belted?\n",
       "Yes                         876\n",
       "No Passengers in Vehicle    442\n",
       "No, see Narrative            30\n",
       "Unknown                      11\n",
       "Name: count, dtype: int64"
      ]
     },
     "execution_count": 31,
     "metadata": {},
     "output_type": "execute_result"
    }
   ],
   "source": [
    "df2['SV Were All Passengers Belted?'].value_counts()"
   ]
  },
  {
   "cell_type": "code",
   "execution_count": 32,
   "id": "e7b43c99-7193-4fc0-8386-edf2ea5c838a",
   "metadata": {},
   "outputs": [
    {
     "name": "stdout",
     "output_type": "stream",
     "text": [
      "<class 'pandas.core.frame.DataFrame'>\n",
      "RangeIndex: 1362 entries, 0 to 1361\n",
      "Data columns (total 20 columns):\n",
      " #   Column                           Non-Null Count  Dtype  \n",
      "---  ------                           --------------  -----  \n",
      " 0   Make                             1359 non-null   object \n",
      " 1   Model                            1358 non-null   object \n",
      " 2   Model Year                       1362 non-null   int32  \n",
      " 3   Incident Date                    1358 non-null   object \n",
      " 4   Incident Time (24:00)            1352 non-null   object \n",
      " 5   City                             1356 non-null   object \n",
      " 6   State                            1359 non-null   object \n",
      " 7   Roadway Type                     1359 non-null   object \n",
      " 8   Roadway Surface                  1359 non-null   object \n",
      " 9   Roadway Description              1359 non-null   object \n",
      " 10  Posted Speed Limit (MPH)         1331 non-null   float64\n",
      " 11  Lighting                         1359 non-null   object \n",
      " 12  Weather - Clear                  1362 non-null   object \n",
      " 13  Weather - Snow                   1362 non-null   object \n",
      " 14  Weather - Cloudy                 1362 non-null   object \n",
      " 15  Weather - Fog/Smoke              1362 non-null   object \n",
      " 16  Weather - Rain                   1362 non-null   object \n",
      " 17  Weather - Severe Wind            1362 non-null   object \n",
      " 18  Highest Injury Severity Alleged  1359 non-null   object \n",
      " 19  SV Were All Passengers Belted?   1359 non-null   object \n",
      "dtypes: float64(1), int32(1), object(18)\n",
      "memory usage: 207.6+ KB\n"
     ]
    }
   ],
   "source": [
    "df2.info()"
   ]
  },
  {
   "cell_type": "code",
   "execution_count": 33,
   "id": "ca7a321c-58b7-41f2-b9d3-cdcaf078c4f0",
   "metadata": {},
   "outputs": [],
   "source": [
    "df2.columns = df2.columns.str.replace('Weather - ', '', regex=False)"
   ]
  },
  {
   "cell_type": "code",
   "execution_count": 34,
   "id": "2d5c90d7-a333-4904-b99b-e4323c2efe51",
   "metadata": {},
   "outputs": [
    {
     "data": {
      "text/plain": [
       "Index(['Make', 'Model', 'Model Year', 'Incident Date', 'Incident Time (24:00)',\n",
       "       'City', 'State', 'Roadway Type', 'Roadway Surface',\n",
       "       'Roadway Description', 'Posted Speed Limit (MPH)', 'Lighting', 'Clear',\n",
       "       'Snow', 'Cloudy', 'Fog/Smoke', 'Rain', 'Severe Wind',\n",
       "       'Highest Injury Severity Alleged', 'SV Were All Passengers Belted?'],\n",
       "      dtype='object')"
      ]
     },
     "execution_count": 34,
     "metadata": {},
     "output_type": "execute_result"
    }
   ],
   "source": [
    "df2.columns"
   ]
  },
  {
   "cell_type": "code",
   "execution_count": 35,
   "id": "dc7fc246-1654-4b38-b563-70a677c99812",
   "metadata": {},
   "outputs": [],
   "source": [
    "# df2 = ['Clear','Snow', 'Cloudy', 'Fog/Smoke', 'Rain', 'Severe Wind']\n",
    "df2 = df2.replace({'Y': 1, ' ': 0})"
   ]
  },
  {
   "cell_type": "code",
   "execution_count": 36,
   "id": "d00d042a-51f3-4cfa-b69f-754c6b56c107",
   "metadata": {},
   "outputs": [
    {
     "data": {
      "text/html": [
       "<div>\n",
       "<style scoped>\n",
       "    .dataframe tbody tr th:only-of-type {\n",
       "        vertical-align: middle;\n",
       "    }\n",
       "\n",
       "    .dataframe tbody tr th {\n",
       "        vertical-align: top;\n",
       "    }\n",
       "\n",
       "    .dataframe thead th {\n",
       "        text-align: right;\n",
       "    }\n",
       "</style>\n",
       "<table border=\"1\" class=\"dataframe\">\n",
       "  <thead>\n",
       "    <tr style=\"text-align: right;\">\n",
       "      <th></th>\n",
       "      <th>Make</th>\n",
       "      <th>Model</th>\n",
       "      <th>Model Year</th>\n",
       "      <th>Incident Date</th>\n",
       "      <th>Incident Time (24:00)</th>\n",
       "      <th>City</th>\n",
       "      <th>State</th>\n",
       "      <th>Roadway Type</th>\n",
       "      <th>Roadway Surface</th>\n",
       "      <th>Roadway Description</th>\n",
       "      <th>Posted Speed Limit (MPH)</th>\n",
       "      <th>Lighting</th>\n",
       "      <th>Clear</th>\n",
       "      <th>Snow</th>\n",
       "      <th>Cloudy</th>\n",
       "      <th>Fog/Smoke</th>\n",
       "      <th>Rain</th>\n",
       "      <th>Severe Wind</th>\n",
       "      <th>Highest Injury Severity Alleged</th>\n",
       "      <th>SV Were All Passengers Belted?</th>\n",
       "    </tr>\n",
       "  </thead>\n",
       "  <tbody>\n",
       "    <tr>\n",
       "      <th>0</th>\n",
       "      <td>Jaguar</td>\n",
       "      <td>I-Pace</td>\n",
       "      <td>2021</td>\n",
       "      <td>January 2024</td>\n",
       "      <td>12:04</td>\n",
       "      <td>Los Angeles</td>\n",
       "      <td>CA</td>\n",
       "      <td>Street</td>\n",
       "      <td>Dry</td>\n",
       "      <td>No Unusual Conditions</td>\n",
       "      <td>25.0</td>\n",
       "      <td>Daylight</td>\n",
       "      <td>1</td>\n",
       "      <td>0</td>\n",
       "      <td>0</td>\n",
       "      <td>0</td>\n",
       "      <td>0</td>\n",
       "      <td>0</td>\n",
       "      <td>Unknown</td>\n",
       "      <td>No, see Narrative</td>\n",
       "    </tr>\n",
       "    <tr>\n",
       "      <th>1</th>\n",
       "      <td>Jaguar</td>\n",
       "      <td>I-Pace</td>\n",
       "      <td>2024</td>\n",
       "      <td>July 2024</td>\n",
       "      <td>04:58</td>\n",
       "      <td>San Francisco</td>\n",
       "      <td>CA</td>\n",
       "      <td>Street</td>\n",
       "      <td>Dry</td>\n",
       "      <td>No Unusual Conditions</td>\n",
       "      <td>25.0</td>\n",
       "      <td>Dark - Lighted</td>\n",
       "      <td>1</td>\n",
       "      <td>0</td>\n",
       "      <td>0</td>\n",
       "      <td>0</td>\n",
       "      <td>0</td>\n",
       "      <td>0</td>\n",
       "      <td>No Injuries Reported</td>\n",
       "      <td>No Passengers in Vehicle</td>\n",
       "    </tr>\n",
       "    <tr>\n",
       "      <th>2</th>\n",
       "      <td>Jaguar</td>\n",
       "      <td>I-Pace</td>\n",
       "      <td>2024</td>\n",
       "      <td>July 2024</td>\n",
       "      <td>11:29</td>\n",
       "      <td>Phoenix</td>\n",
       "      <td>AZ</td>\n",
       "      <td>Parking Lot</td>\n",
       "      <td>Dry</td>\n",
       "      <td>No Unusual Conditions</td>\n",
       "      <td>5.0</td>\n",
       "      <td>Daylight</td>\n",
       "      <td>1</td>\n",
       "      <td>0</td>\n",
       "      <td>0</td>\n",
       "      <td>0</td>\n",
       "      <td>0</td>\n",
       "      <td>0</td>\n",
       "      <td>No Injuries Reported</td>\n",
       "      <td>Yes</td>\n",
       "    </tr>\n",
       "    <tr>\n",
       "      <th>3</th>\n",
       "      <td>Jaguar</td>\n",
       "      <td>I-Pace</td>\n",
       "      <td>2024</td>\n",
       "      <td>July 2024</td>\n",
       "      <td>18:16</td>\n",
       "      <td>San Francisco</td>\n",
       "      <td>CA</td>\n",
       "      <td>Street</td>\n",
       "      <td>Dry</td>\n",
       "      <td>No Unusual Conditions</td>\n",
       "      <td>25.0</td>\n",
       "      <td>Daylight</td>\n",
       "      <td>1</td>\n",
       "      <td>0</td>\n",
       "      <td>0</td>\n",
       "      <td>0</td>\n",
       "      <td>0</td>\n",
       "      <td>0</td>\n",
       "      <td>No Injuries Reported</td>\n",
       "      <td>No Passengers in Vehicle</td>\n",
       "    </tr>\n",
       "    <tr>\n",
       "      <th>4</th>\n",
       "      <td>Jaguar</td>\n",
       "      <td>I-Pace</td>\n",
       "      <td>2024</td>\n",
       "      <td>July 2024</td>\n",
       "      <td>11:06</td>\n",
       "      <td>Austin</td>\n",
       "      <td>TX</td>\n",
       "      <td>Street</td>\n",
       "      <td>Dry</td>\n",
       "      <td>No Unusual Conditions</td>\n",
       "      <td>40.0</td>\n",
       "      <td>Daylight</td>\n",
       "      <td>0</td>\n",
       "      <td>0</td>\n",
       "      <td>1</td>\n",
       "      <td>0</td>\n",
       "      <td>0</td>\n",
       "      <td>0</td>\n",
       "      <td>No Injuries Reported</td>\n",
       "      <td>Yes</td>\n",
       "    </tr>\n",
       "  </tbody>\n",
       "</table>\n",
       "</div>"
      ],
      "text/plain": [
       "     Make   Model  Model Year Incident Date Incident Time (24:00)  \\\n",
       "0  Jaguar  I-Pace        2021  January 2024                 12:04   \n",
       "1  Jaguar  I-Pace        2024     July 2024                 04:58   \n",
       "2  Jaguar  I-Pace        2024     July 2024                 11:29   \n",
       "3  Jaguar  I-Pace        2024     July 2024                 18:16   \n",
       "4  Jaguar  I-Pace        2024     July 2024                 11:06   \n",
       "\n",
       "            City State Roadway Type Roadway Surface    Roadway Description  \\\n",
       "0    Los Angeles   CA        Street             Dry  No Unusual Conditions   \n",
       "1  San Francisco   CA        Street             Dry  No Unusual Conditions   \n",
       "2        Phoenix   AZ   Parking Lot             Dry  No Unusual Conditions   \n",
       "3  San Francisco   CA        Street             Dry  No Unusual Conditions   \n",
       "4         Austin   TX        Street             Dry  No Unusual Conditions   \n",
       "\n",
       "   Posted Speed Limit (MPH)        Lighting  Clear  Snow  Cloudy  Fog/Smoke  \\\n",
       "0                      25.0        Daylight      1     0       0          0   \n",
       "1                      25.0  Dark - Lighted      1     0       0          0   \n",
       "2                       5.0        Daylight      1     0       0          0   \n",
       "3                      25.0        Daylight      1     0       0          0   \n",
       "4                      40.0        Daylight      0     0       1          0   \n",
       "\n",
       "   Rain  Severe Wind Highest Injury Severity Alleged  \\\n",
       "0     0            0                         Unknown   \n",
       "1     0            0            No Injuries Reported   \n",
       "2     0            0            No Injuries Reported   \n",
       "3     0            0            No Injuries Reported   \n",
       "4     0            0            No Injuries Reported   \n",
       "\n",
       "  SV Were All Passengers Belted?  \n",
       "0              No, see Narrative  \n",
       "1       No Passengers in Vehicle  \n",
       "2                            Yes  \n",
       "3       No Passengers in Vehicle  \n",
       "4                            Yes  "
      ]
     },
     "execution_count": 36,
     "metadata": {},
     "output_type": "execute_result"
    }
   ],
   "source": [
    "df2.head()"
   ]
  },
  {
   "cell_type": "code",
   "execution_count": 37,
   "id": "f15433a7-2256-4cda-8e61-5cb4dd5e7602",
   "metadata": {},
   "outputs": [
    {
     "data": {
      "text/plain": [
       "Clear\n",
       "1    1121\n",
       "0     241\n",
       "Name: count, dtype: int64"
      ]
     },
     "execution_count": 37,
     "metadata": {},
     "output_type": "execute_result"
    }
   ],
   "source": [
    "df2['Clear'].value_counts()"
   ]
  },
  {
   "cell_type": "code",
   "execution_count": 38,
   "id": "c856be86-2f5d-4634-bf6f-837bf706bcfc",
   "metadata": {},
   "outputs": [
    {
     "data": {
      "text/plain": [
       "Snow\n",
       "0    1361\n",
       "1       1\n",
       "Name: count, dtype: int64"
      ]
     },
     "execution_count": 38,
     "metadata": {},
     "output_type": "execute_result"
    }
   ],
   "source": [
    "df2['Snow'].value_counts()"
   ]
  },
  {
   "cell_type": "code",
   "execution_count": 39,
   "id": "9dcf54e7-ff0f-4d7d-b575-7e47763e855d",
   "metadata": {},
   "outputs": [
    {
     "data": {
      "text/plain": [
       "Cloudy\n",
       "0    1189\n",
       "1     173\n",
       "Name: count, dtype: int64"
      ]
     },
     "execution_count": 39,
     "metadata": {},
     "output_type": "execute_result"
    }
   ],
   "source": [
    "df2['Cloudy'].value_counts()"
   ]
  },
  {
   "cell_type": "code",
   "execution_count": 40,
   "id": "88b1265a-da89-4559-a3da-a580ed36f6f9",
   "metadata": {},
   "outputs": [
    {
     "data": {
      "text/plain": [
       "Fog/Smoke\n",
       "0    1362\n",
       "Name: count, dtype: int64"
      ]
     },
     "execution_count": 40,
     "metadata": {},
     "output_type": "execute_result"
    }
   ],
   "source": [
    "df2['Fog/Smoke'].value_counts()"
   ]
  },
  {
   "cell_type": "code",
   "execution_count": 41,
   "id": "221bcb6e-16d9-4eca-8280-9f46894f5dd9",
   "metadata": {},
   "outputs": [
    {
     "data": {
      "text/plain": [
       "Rain\n",
       "0    1317\n",
       "1      45\n",
       "Name: count, dtype: int64"
      ]
     },
     "execution_count": 41,
     "metadata": {},
     "output_type": "execute_result"
    }
   ],
   "source": [
    "df2['Rain'].value_counts()"
   ]
  },
  {
   "cell_type": "code",
   "execution_count": 42,
   "id": "9b686617-64cf-411a-a849-33fcb681a993",
   "metadata": {},
   "outputs": [
    {
     "data": {
      "text/plain": [
       "Severe Wind\n",
       "0    1362\n",
       "Name: count, dtype: int64"
      ]
     },
     "execution_count": 42,
     "metadata": {},
     "output_type": "execute_result"
    }
   ],
   "source": [
    "df2['Severe Wind'].value_counts()"
   ]
  },
  {
   "cell_type": "code",
   "execution_count": 43,
   "id": "492b0323-48a6-45c9-a2d5-3bda903935ed",
   "metadata": {},
   "outputs": [
    {
     "data": {
      "text/plain": [
       "Injuries\n",
       "No Injuries Reported    1092\n",
       "Minor                    133\n",
       "Unknown                   74\n",
       "Moderate                  37\n",
       "Serious                   21\n",
       "Fatality                   2\n",
       "Name: count, dtype: int64"
      ]
     },
     "execution_count": 43,
     "metadata": {},
     "output_type": "execute_result"
    }
   ],
   "source": [
    "df2 = df2.rename(columns = {'Highest Injury Severity Alleged' : 'Injuries'})\n",
    "df2['Injuries'].value_counts()"
   ]
  },
  {
   "cell_type": "code",
   "execution_count": 44,
   "id": "c74b21ca-3df7-4a21-8ed5-feeee0fcf066",
   "metadata": {},
   "outputs": [
    {
     "data": {
      "text/plain": [
       "Passengers Belted\n",
       "Yes                         876\n",
       "No Passengers in Vehicle    442\n",
       "No, see Narrative            30\n",
       "Unknown                      11\n",
       "Name: count, dtype: int64"
      ]
     },
     "execution_count": 44,
     "metadata": {},
     "output_type": "execute_result"
    }
   ],
   "source": [
    "df2 = df2.rename(columns = {'SV Were All Passengers Belted?': \"Passengers Belted\"})\n",
    "df2['Passengers Belted'].value_counts()"
   ]
  },
  {
   "cell_type": "code",
   "execution_count": 45,
   "id": "16dba75d-2219-4bb4-a9dd-b3651484b6fe",
   "metadata": {},
   "outputs": [],
   "source": [
    "df_ml = df2.copy()"
   ]
  },
  {
   "cell_type": "code",
   "execution_count": 46,
   "id": "d1bf35a5-e85a-4ffe-b15c-bf1b1d6114e3",
   "metadata": {},
   "outputs": [],
   "source": [
    "df_ml['Injuries'] = df_ml['Injuries'].fillna('No Injuries Reported').replace({\n",
    "    'No Injuries Reported': 0,\n",
    "    'Minor': 1,\n",
    "    'Unknown': 1,\n",
    "    'Moderate': 1,\n",
    "    'Serious': 1,\n",
    "    'Fatality': 1\n",
    "}).astype(int)"
   ]
  },
  {
   "cell_type": "code",
   "execution_count": 47,
   "id": "bce62ff7-f159-48a9-93d8-673eb8a18d81",
   "metadata": {},
   "outputs": [
    {
     "data": {
      "text/plain": [
       "Injuries\n",
       "0    1095\n",
       "1     267\n",
       "Name: count, dtype: int64"
      ]
     },
     "execution_count": 47,
     "metadata": {},
     "output_type": "execute_result"
    }
   ],
   "source": [
    "df_ml['Injuries'].value_counts()"
   ]
  },
  {
   "cell_type": "code",
   "execution_count": 48,
   "id": "ecaf38fd-7fc8-4f13-8b2f-d7c347c628ab",
   "metadata": {},
   "outputs": [],
   "source": [
    "df_ml['Passengers Belted'] = df_ml['Passengers Belted'].fillna('Yes').replace({\n",
    "    'Yes': 1,\n",
    "    'No Passengers in Vehicle' : 0,\n",
    "    'No, see Narrative': 0,\n",
    "    'Unknown': 1\n",
    "}).astype(int)"
   ]
  },
  {
   "cell_type": "code",
   "execution_count": 49,
   "id": "795bb2c4-d30a-4ce1-963b-e10d3e8f38a6",
   "metadata": {},
   "outputs": [
    {
     "data": {
      "text/plain": [
       "Passengers Belted\n",
       "1    890\n",
       "0    472\n",
       "Name: count, dtype: int64"
      ]
     },
     "execution_count": 49,
     "metadata": {},
     "output_type": "execute_result"
    }
   ],
   "source": [
    "df_ml['Passengers Belted'].value_counts()"
   ]
  },
  {
   "cell_type": "code",
   "execution_count": 50,
   "id": "447a2488-7f7a-463d-9417-964d1b7916c6",
   "metadata": {},
   "outputs": [
    {
     "data": {
      "text/html": [
       "<div>\n",
       "<style scoped>\n",
       "    .dataframe tbody tr th:only-of-type {\n",
       "        vertical-align: middle;\n",
       "    }\n",
       "\n",
       "    .dataframe tbody tr th {\n",
       "        vertical-align: top;\n",
       "    }\n",
       "\n",
       "    .dataframe thead th {\n",
       "        text-align: right;\n",
       "    }\n",
       "</style>\n",
       "<table border=\"1\" class=\"dataframe\">\n",
       "  <thead>\n",
       "    <tr style=\"text-align: right;\">\n",
       "      <th></th>\n",
       "      <th>Make</th>\n",
       "      <th>Model</th>\n",
       "      <th>Model Year</th>\n",
       "      <th>Incident Date</th>\n",
       "      <th>Incident Time (24:00)</th>\n",
       "      <th>City</th>\n",
       "      <th>State</th>\n",
       "      <th>Roadway Type</th>\n",
       "      <th>Roadway Surface</th>\n",
       "      <th>Roadway Description</th>\n",
       "      <th>Posted Speed Limit (MPH)</th>\n",
       "      <th>Lighting</th>\n",
       "      <th>Clear</th>\n",
       "      <th>Snow</th>\n",
       "      <th>Cloudy</th>\n",
       "      <th>Fog/Smoke</th>\n",
       "      <th>Rain</th>\n",
       "      <th>Severe Wind</th>\n",
       "      <th>Injuries</th>\n",
       "      <th>Passengers Belted</th>\n",
       "    </tr>\n",
       "  </thead>\n",
       "  <tbody>\n",
       "    <tr>\n",
       "      <th>0</th>\n",
       "      <td>Jaguar</td>\n",
       "      <td>I-Pace</td>\n",
       "      <td>2021</td>\n",
       "      <td>January 2024</td>\n",
       "      <td>12:04</td>\n",
       "      <td>Los Angeles</td>\n",
       "      <td>CA</td>\n",
       "      <td>Street</td>\n",
       "      <td>Dry</td>\n",
       "      <td>No Unusual Conditions</td>\n",
       "      <td>25.0</td>\n",
       "      <td>Daylight</td>\n",
       "      <td>1</td>\n",
       "      <td>0</td>\n",
       "      <td>0</td>\n",
       "      <td>0</td>\n",
       "      <td>0</td>\n",
       "      <td>0</td>\n",
       "      <td>1</td>\n",
       "      <td>0</td>\n",
       "    </tr>\n",
       "    <tr>\n",
       "      <th>1</th>\n",
       "      <td>Jaguar</td>\n",
       "      <td>I-Pace</td>\n",
       "      <td>2024</td>\n",
       "      <td>July 2024</td>\n",
       "      <td>04:58</td>\n",
       "      <td>San Francisco</td>\n",
       "      <td>CA</td>\n",
       "      <td>Street</td>\n",
       "      <td>Dry</td>\n",
       "      <td>No Unusual Conditions</td>\n",
       "      <td>25.0</td>\n",
       "      <td>Dark - Lighted</td>\n",
       "      <td>1</td>\n",
       "      <td>0</td>\n",
       "      <td>0</td>\n",
       "      <td>0</td>\n",
       "      <td>0</td>\n",
       "      <td>0</td>\n",
       "      <td>0</td>\n",
       "      <td>0</td>\n",
       "    </tr>\n",
       "    <tr>\n",
       "      <th>2</th>\n",
       "      <td>Jaguar</td>\n",
       "      <td>I-Pace</td>\n",
       "      <td>2024</td>\n",
       "      <td>July 2024</td>\n",
       "      <td>11:29</td>\n",
       "      <td>Phoenix</td>\n",
       "      <td>AZ</td>\n",
       "      <td>Parking Lot</td>\n",
       "      <td>Dry</td>\n",
       "      <td>No Unusual Conditions</td>\n",
       "      <td>5.0</td>\n",
       "      <td>Daylight</td>\n",
       "      <td>1</td>\n",
       "      <td>0</td>\n",
       "      <td>0</td>\n",
       "      <td>0</td>\n",
       "      <td>0</td>\n",
       "      <td>0</td>\n",
       "      <td>0</td>\n",
       "      <td>1</td>\n",
       "    </tr>\n",
       "    <tr>\n",
       "      <th>3</th>\n",
       "      <td>Jaguar</td>\n",
       "      <td>I-Pace</td>\n",
       "      <td>2024</td>\n",
       "      <td>July 2024</td>\n",
       "      <td>18:16</td>\n",
       "      <td>San Francisco</td>\n",
       "      <td>CA</td>\n",
       "      <td>Street</td>\n",
       "      <td>Dry</td>\n",
       "      <td>No Unusual Conditions</td>\n",
       "      <td>25.0</td>\n",
       "      <td>Daylight</td>\n",
       "      <td>1</td>\n",
       "      <td>0</td>\n",
       "      <td>0</td>\n",
       "      <td>0</td>\n",
       "      <td>0</td>\n",
       "      <td>0</td>\n",
       "      <td>0</td>\n",
       "      <td>0</td>\n",
       "    </tr>\n",
       "    <tr>\n",
       "      <th>4</th>\n",
       "      <td>Jaguar</td>\n",
       "      <td>I-Pace</td>\n",
       "      <td>2024</td>\n",
       "      <td>July 2024</td>\n",
       "      <td>11:06</td>\n",
       "      <td>Austin</td>\n",
       "      <td>TX</td>\n",
       "      <td>Street</td>\n",
       "      <td>Dry</td>\n",
       "      <td>No Unusual Conditions</td>\n",
       "      <td>40.0</td>\n",
       "      <td>Daylight</td>\n",
       "      <td>0</td>\n",
       "      <td>0</td>\n",
       "      <td>1</td>\n",
       "      <td>0</td>\n",
       "      <td>0</td>\n",
       "      <td>0</td>\n",
       "      <td>0</td>\n",
       "      <td>1</td>\n",
       "    </tr>\n",
       "  </tbody>\n",
       "</table>\n",
       "</div>"
      ],
      "text/plain": [
       "     Make   Model  Model Year Incident Date Incident Time (24:00)  \\\n",
       "0  Jaguar  I-Pace        2021  January 2024                 12:04   \n",
       "1  Jaguar  I-Pace        2024     July 2024                 04:58   \n",
       "2  Jaguar  I-Pace        2024     July 2024                 11:29   \n",
       "3  Jaguar  I-Pace        2024     July 2024                 18:16   \n",
       "4  Jaguar  I-Pace        2024     July 2024                 11:06   \n",
       "\n",
       "            City State Roadway Type Roadway Surface    Roadway Description  \\\n",
       "0    Los Angeles   CA        Street             Dry  No Unusual Conditions   \n",
       "1  San Francisco   CA        Street             Dry  No Unusual Conditions   \n",
       "2        Phoenix   AZ   Parking Lot             Dry  No Unusual Conditions   \n",
       "3  San Francisco   CA        Street             Dry  No Unusual Conditions   \n",
       "4         Austin   TX        Street             Dry  No Unusual Conditions   \n",
       "\n",
       "   Posted Speed Limit (MPH)        Lighting  Clear  Snow  Cloudy  Fog/Smoke  \\\n",
       "0                      25.0        Daylight      1     0       0          0   \n",
       "1                      25.0  Dark - Lighted      1     0       0          0   \n",
       "2                       5.0        Daylight      1     0       0          0   \n",
       "3                      25.0        Daylight      1     0       0          0   \n",
       "4                      40.0        Daylight      0     0       1          0   \n",
       "\n",
       "   Rain  Severe Wind  Injuries  Passengers Belted  \n",
       "0     0            0         1                  0  \n",
       "1     0            0         0                  0  \n",
       "2     0            0         0                  1  \n",
       "3     0            0         0                  0  \n",
       "4     0            0         0                  1  "
      ]
     },
     "execution_count": 50,
     "metadata": {},
     "output_type": "execute_result"
    }
   ],
   "source": [
    "df_ml.head()"
   ]
  },
  {
   "cell_type": "code",
   "execution_count": 51,
   "id": "7566dc31-e575-4755-a951-331e2536f2c6",
   "metadata": {},
   "outputs": [
    {
     "data": {
      "text/plain": [
       "Index(['Make', 'Model', 'Model Year', 'Incident Date', 'Incident Time (24:00)',\n",
       "       'City', 'State', 'Roadway Type', 'Roadway Surface',\n",
       "       'Roadway Description', 'Posted Speed Limit (MPH)', 'Lighting', 'Clear',\n",
       "       'Snow', 'Cloudy', 'Fog/Smoke', 'Rain', 'Severe Wind', 'Injuries',\n",
       "       'Passengers Belted'],\n",
       "      dtype='object')"
      ]
     },
     "execution_count": 51,
     "metadata": {},
     "output_type": "execute_result"
    }
   ],
   "source": [
    "df_ml.columns"
   ]
  },
  {
   "cell_type": "code",
   "execution_count": 52,
   "id": "6c0015a7-02e8-41dd-9dc1-cfbea59a494b",
   "metadata": {},
   "outputs": [
    {
     "name": "stdout",
     "output_type": "stream",
     "text": [
      "<class 'pandas.core.frame.DataFrame'>\n",
      "RangeIndex: 1362 entries, 0 to 1361\n",
      "Data columns (total 20 columns):\n",
      " #   Column                    Non-Null Count  Dtype  \n",
      "---  ------                    --------------  -----  \n",
      " 0   Make                      1359 non-null   object \n",
      " 1   Model                     1358 non-null   object \n",
      " 2   Model Year                1362 non-null   int32  \n",
      " 3   Incident Date             1358 non-null   object \n",
      " 4   Incident Time (24:00)     1352 non-null   object \n",
      " 5   City                      1356 non-null   object \n",
      " 6   State                     1359 non-null   object \n",
      " 7   Roadway Type              1359 non-null   object \n",
      " 8   Roadway Surface           1359 non-null   object \n",
      " 9   Roadway Description       1359 non-null   object \n",
      " 10  Posted Speed Limit (MPH)  1331 non-null   float64\n",
      " 11  Lighting                  1359 non-null   object \n",
      " 12  Clear                     1362 non-null   int64  \n",
      " 13  Snow                      1362 non-null   int64  \n",
      " 14  Cloudy                    1362 non-null   int64  \n",
      " 15  Fog/Smoke                 1362 non-null   int64  \n",
      " 16  Rain                      1362 non-null   int64  \n",
      " 17  Severe Wind               1362 non-null   int64  \n",
      " 18  Injuries                  1362 non-null   int32  \n",
      " 19  Passengers Belted         1362 non-null   int32  \n",
      "dtypes: float64(1), int32(3), int64(6), object(10)\n",
      "memory usage: 197.0+ KB\n"
     ]
    }
   ],
   "source": [
    "df_ml.info()"
   ]
  },
  {
   "cell_type": "code",
   "execution_count": 53,
   "id": "9b01d77a-92fa-400b-bfb2-bcba51eeb5da",
   "metadata": {},
   "outputs": [],
   "source": [
    "df_ml.to_csv('crash_records_ml.csv', index = False)"
   ]
  },
  {
   "cell_type": "code",
   "execution_count": null,
   "id": "132a05d9-cdec-485d-bf20-809be3d74b74",
   "metadata": {},
   "outputs": [],
   "source": []
  }
 ],
 "metadata": {
  "kernelspec": {
   "display_name": "Python 3 (ipykernel)",
   "language": "python",
   "name": "python3"
  },
  "language_info": {
   "codemirror_mode": {
    "name": "ipython",
    "version": 3
   },
   "file_extension": ".py",
   "mimetype": "text/x-python",
   "name": "python",
   "nbconvert_exporter": "python",
   "pygments_lexer": "ipython3",
   "version": "3.10.13"
  }
 },
 "nbformat": 4,
 "nbformat_minor": 5
}
