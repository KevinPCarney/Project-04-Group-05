{
 "cells": [
  {
   "cell_type": "code",
   "execution_count": 1,
   "id": "b8bf5354-cf87-472f-94cd-faf677896e75",
   "metadata": {},
   "outputs": [],
   "source": [
    "from sqlalchemy import create_engine, text, inspect, func\n",
    "import sqlite3\n",
    "\n",
    "# ORM imports\n",
    "import sqlalchemy\n",
    "from sqlalchemy.ext.automap import automap_base\n",
    "from sqlalchemy import Column, Integer, String, Float, Boolean\n",
    "from sqlalchemy.orm import Session\n",
    "from sqlalchemy.ext.declarative import declarative_base\n",
    "\n",
    "# API\n",
    "import requests\n",
    "import json\n",
    "\n",
    "# Data Science and Visualization\n",
    "import pandas as pd\n",
    "import matplotlib.pyplot as plt\n",
    "import numpy as np\n",
    "import seaborn as sns\n",
    "from scipy import stats\n",
    "import datetime as dt"
   ]
  },
  {
   "cell_type": "code",
   "execution_count": 2,
   "id": "ee57654e-d441-40bf-91e5-0aadba00d780",
   "metadata": {},
   "outputs": [
    {
     "data": {
      "text/html": [
       "<div>\n",
       "<style scoped>\n",
       "    .dataframe tbody tr th:only-of-type {\n",
       "        vertical-align: middle;\n",
       "    }\n",
       "\n",
       "    .dataframe tbody tr th {\n",
       "        vertical-align: top;\n",
       "    }\n",
       "\n",
       "    .dataframe thead th {\n",
       "        text-align: right;\n",
       "    }\n",
       "</style>\n",
       "<table border=\"1\" class=\"dataframe\">\n",
       "  <thead>\n",
       "    <tr style=\"text-align: right;\">\n",
       "      <th></th>\n",
       "      <th>Report ID</th>\n",
       "      <th>Report Version</th>\n",
       "      <th>Reporting Entity</th>\n",
       "      <th>Report Type</th>\n",
       "      <th>Report Month</th>\n",
       "      <th>Report Year</th>\n",
       "      <th>Report Submission Date</th>\n",
       "      <th>VIN</th>\n",
       "      <th>VIN - Unknown</th>\n",
       "      <th>Serial Number</th>\n",
       "      <th>...</th>\n",
       "      <th>Investigating Officer Name</th>\n",
       "      <th>Inv. Officer Name - Unknown</th>\n",
       "      <th>Investigating Officer Phone</th>\n",
       "      <th>Inv. Officer Phone - Unknown</th>\n",
       "      <th>Investigating Officer Email</th>\n",
       "      <th>Inv. Officer Email - Unknown</th>\n",
       "      <th>Within ODD?</th>\n",
       "      <th>Within ODD? - CBI</th>\n",
       "      <th>Narrative</th>\n",
       "      <th>Narrative - CBI?</th>\n",
       "    </tr>\n",
       "  </thead>\n",
       "  <tbody>\n",
       "    <tr>\n",
       "      <th>0</th>\n",
       "      <td>30270-7157</td>\n",
       "      <td>3</td>\n",
       "      <td>Waymo LLC</td>\n",
       "      <td>Update</td>\n",
       "      <td>NaN</td>\n",
       "      <td>NaN</td>\n",
       "      <td>AUG-2024</td>\n",
       "      <td>SADHW2S13M1</td>\n",
       "      <td></td>\n",
       "      <td>NaN</td>\n",
       "      <td>...</td>\n",
       "      <td>NaN</td>\n",
       "      <td></td>\n",
       "      <td>NaN</td>\n",
       "      <td></td>\n",
       "      <td>NaN</td>\n",
       "      <td></td>\n",
       "      <td>Yes</td>\n",
       "      <td></td>\n",
       "      <td>Waymo is submitting a second update to the rep...</td>\n",
       "      <td>NaN</td>\n",
       "    </tr>\n",
       "    <tr>\n",
       "      <th>1</th>\n",
       "      <td>30270-8406</td>\n",
       "      <td>1</td>\n",
       "      <td>Waymo LLC</td>\n",
       "      <td>Monthly</td>\n",
       "      <td>7.0</td>\n",
       "      <td>2024.0</td>\n",
       "      <td>AUG-2024</td>\n",
       "      <td>SADHW2S1XR1</td>\n",
       "      <td></td>\n",
       "      <td>NaN</td>\n",
       "      <td>...</td>\n",
       "      <td>NaN</td>\n",
       "      <td></td>\n",
       "      <td>NaN</td>\n",
       "      <td></td>\n",
       "      <td>NaN</td>\n",
       "      <td></td>\n",
       "      <td>Yes</td>\n",
       "      <td></td>\n",
       "      <td>On July [XXX], 2024 at 4:58 AM PT a Waymo Auto...</td>\n",
       "      <td>NaN</td>\n",
       "    </tr>\n",
       "    <tr>\n",
       "      <th>2</th>\n",
       "      <td>30270-8405</td>\n",
       "      <td>1</td>\n",
       "      <td>Waymo LLC</td>\n",
       "      <td>Monthly</td>\n",
       "      <td>7.0</td>\n",
       "      <td>2024.0</td>\n",
       "      <td>AUG-2024</td>\n",
       "      <td>SADHW2S17R1</td>\n",
       "      <td></td>\n",
       "      <td>NaN</td>\n",
       "      <td>...</td>\n",
       "      <td>NaN</td>\n",
       "      <td></td>\n",
       "      <td>NaN</td>\n",
       "      <td></td>\n",
       "      <td>NaN</td>\n",
       "      <td></td>\n",
       "      <td>Yes</td>\n",
       "      <td></td>\n",
       "      <td>On July [XXX], 2024 at 11:29 AM MT a Waymo Aut...</td>\n",
       "      <td>NaN</td>\n",
       "    </tr>\n",
       "    <tr>\n",
       "      <th>3</th>\n",
       "      <td>30270-8404</td>\n",
       "      <td>1</td>\n",
       "      <td>Waymo LLC</td>\n",
       "      <td>Monthly</td>\n",
       "      <td>7.0</td>\n",
       "      <td>2024.0</td>\n",
       "      <td>AUG-2024</td>\n",
       "      <td>SADHW2S1XR1</td>\n",
       "      <td></td>\n",
       "      <td>NaN</td>\n",
       "      <td>...</td>\n",
       "      <td>NaN</td>\n",
       "      <td></td>\n",
       "      <td>NaN</td>\n",
       "      <td></td>\n",
       "      <td>NaN</td>\n",
       "      <td></td>\n",
       "      <td>Yes</td>\n",
       "      <td></td>\n",
       "      <td>On July [XXX], 2024 at 4:16 PM PT a Waymo Auto...</td>\n",
       "      <td>NaN</td>\n",
       "    </tr>\n",
       "    <tr>\n",
       "      <th>4</th>\n",
       "      <td>30270-8403</td>\n",
       "      <td>1</td>\n",
       "      <td>Waymo LLC</td>\n",
       "      <td>Monthly</td>\n",
       "      <td>7.0</td>\n",
       "      <td>2024.0</td>\n",
       "      <td>AUG-2024</td>\n",
       "      <td>SADHW2S19R1</td>\n",
       "      <td></td>\n",
       "      <td>NaN</td>\n",
       "      <td>...</td>\n",
       "      <td>NaN</td>\n",
       "      <td></td>\n",
       "      <td>NaN</td>\n",
       "      <td></td>\n",
       "      <td>NaN</td>\n",
       "      <td></td>\n",
       "      <td>Yes</td>\n",
       "      <td></td>\n",
       "      <td>On July [XXX], 2024 at 11:06 AM CST a Waymo Au...</td>\n",
       "      <td>NaN</td>\n",
       "    </tr>\n",
       "  </tbody>\n",
       "</table>\n",
       "<p>5 rows × 137 columns</p>\n",
       "</div>"
      ],
      "text/plain": [
       "    Report ID  Report Version Reporting Entity Report Type  Report Month  \\\n",
       "0  30270-7157               3        Waymo LLC      Update           NaN   \n",
       "1  30270-8406               1        Waymo LLC     Monthly           7.0   \n",
       "2  30270-8405               1        Waymo LLC     Monthly           7.0   \n",
       "3  30270-8404               1        Waymo LLC     Monthly           7.0   \n",
       "4  30270-8403               1        Waymo LLC     Monthly           7.0   \n",
       "\n",
       "   Report Year Report Submission Date          VIN VIN - Unknown  \\\n",
       "0          NaN               AUG-2024  SADHW2S13M1                 \n",
       "1       2024.0               AUG-2024  SADHW2S1XR1                 \n",
       "2       2024.0               AUG-2024  SADHW2S17R1                 \n",
       "3       2024.0               AUG-2024  SADHW2S1XR1                 \n",
       "4       2024.0               AUG-2024  SADHW2S19R1                 \n",
       "\n",
       "  Serial Number  ... Investigating Officer Name Inv. Officer Name - Unknown  \\\n",
       "0           NaN  ...                        NaN                               \n",
       "1           NaN  ...                        NaN                               \n",
       "2           NaN  ...                        NaN                               \n",
       "3           NaN  ...                        NaN                               \n",
       "4           NaN  ...                        NaN                               \n",
       "\n",
       "  Investigating Officer Phone  Inv. Officer Phone - Unknown  \\\n",
       "0                         NaN                                 \n",
       "1                         NaN                                 \n",
       "2                         NaN                                 \n",
       "3                         NaN                                 \n",
       "4                         NaN                                 \n",
       "\n",
       "  Investigating Officer Email Inv. Officer Email - Unknown  Within ODD?  \\\n",
       "0                         NaN                                       Yes   \n",
       "1                         NaN                                       Yes   \n",
       "2                         NaN                                       Yes   \n",
       "3                         NaN                                       Yes   \n",
       "4                         NaN                                       Yes   \n",
       "\n",
       "  Within ODD? - CBI                                          Narrative  \\\n",
       "0                    Waymo is submitting a second update to the rep...   \n",
       "1                    On July [XXX], 2024 at 4:58 AM PT a Waymo Auto...   \n",
       "2                    On July [XXX], 2024 at 11:29 AM MT a Waymo Aut...   \n",
       "3                    On July [XXX], 2024 at 4:16 PM PT a Waymo Auto...   \n",
       "4                    On July [XXX], 2024 at 11:06 AM CST a Waymo Au...   \n",
       "\n",
       "  Narrative - CBI?  \n",
       "0              NaN  \n",
       "1              NaN  \n",
       "2              NaN  \n",
       "3              NaN  \n",
       "4              NaN  \n",
       "\n",
       "[5 rows x 137 columns]"
      ]
     },
     "execution_count": 2,
     "metadata": {},
     "output_type": "execute_result"
    }
   ],
   "source": [
    "#CSV import for crashes table\n",
    "filepath = \"Datasets/SGO-2021-01_Incident_Reports_ADS.csv\"\n",
    "df = pd.read_csv(filepath)\n",
    "df.head()"
   ]
  },
  {
   "cell_type": "code",
   "execution_count": 3,
   "id": "f76b92b2-0cc0-43e1-9d71-2f8253b20163",
   "metadata": {},
   "outputs": [
    {
     "data": {
      "text/plain": [
       "Index(['Report ID', 'Report Version', 'Reporting Entity', 'Report Type',\n",
       "       'Report Month', 'Report Year', 'Report Submission Date', 'VIN',\n",
       "       'VIN - Unknown', 'Serial Number',\n",
       "       ...\n",
       "       'Investigating Officer Name', 'Inv. Officer Name - Unknown',\n",
       "       'Investigating Officer Phone', 'Inv. Officer Phone - Unknown',\n",
       "       'Investigating Officer Email', 'Inv. Officer Email - Unknown',\n",
       "       'Within ODD?', 'Within ODD? - CBI', 'Narrative', 'Narrative - CBI?'],\n",
       "      dtype='object', length=137)"
      ]
     },
     "execution_count": 3,
     "metadata": {},
     "output_type": "execute_result"
    }
   ],
   "source": [
    "df.columns"
   ]
  },
  {
   "cell_type": "code",
   "execution_count": null,
   "id": "12affcef-e53e-4108-ba84-657cead54971",
   "metadata": {},
   "outputs": [],
   "source": [
    "#First Set of Columns to remove\n",
    "# columns_to_remove = ['Report ID', 'Report Version', 'Reporting Entity', 'Report Submission Date', 'VIN', 'VIN – Unknown', 'Serial Number',\\\n",
    "#                     'Make', 'Model', 'Model – Unknown', 'Model Year',\t'Model Year – Unknown',\t'Same Vehicle ID', 'Mileage', 'Mileage – Unknown',\\\n",
    "#                     'ADAS/ADS System Version', 'ADAS/ADS System Version – Unk', 'ADAS/ADS System Version CBI',  'ADAS/ADS Hardware Version',\\\n",
    "#                     'ADAS/ADS Hardware Version – Unk', 'ADAS/ADS Hardware Version CBI', 'ADAS/ADS Software Version', 'ADAS/ADS Software Version – Unk',\\\n",
    "#                     'ADAS/ADS Software Version CBI', 'Other Reporting Entities?', 'Other Reporting Entities? – Unk', 'Other Reporting Entities? – NA',\\\n",
    "#                     'Federal Regulatory Exemption?', 'Other Federal Reg. Exemption', 'Federal Reg. Exemption – Unk', 'Federal Reg. Exemption – No',\\\n",
    "#                     'State or Local Permit?', 'State or Local Permit', 'ADS Equipped?, Automation System Engaged?',\t'Operating Entity',\\\n",
    "#                     'Operating Entity – Unknown', 'Source - Complaint/Claim', 'Source – Telematics', 'Source - Law Enforcement', 'Source - Field Report',\\\n",
    "#                     'Source – Testing', 'Source – Media', 'Source – Other', 'Source - Other Text', 'Notice Received Date', 'Same Incident ID', 'Address',\\\n",
    "#                     'Address – Unknown', 'Crash With', 'Property Damage?', 'CP Pre-Crash Movement', 'CP Any Air Bags Deployed?', 'CP Was Vehicle Towed?',\\\n",
    "#                     'CP Contact Area - Rear Left', 'CP Contact Area – Left', 'CP Contact Area - Front Left', 'CP Contact Area – Rear', 'CP Contact Area – Top',\\\n",
    "#                     'CP Contact Area – Front', 'CP Contact Area - Rear Right', 'CP Contact Area – Right', 'CP Contact Area - Front Right',\\\n",
    "#                     'CP Contact Area – Bottom', 'CP Contact Area – Unknown', 'SV Pre-Crash Movement',\t'SV Any Air Bags Deployed?', 'SV Was Vehicle Towed?',\\\n",
    "#                     'SV Contact Area - Rear Left', 'SV Contact Area – Left', 'SV Contact Area - Front Left', 'SV Contact Area – Rear', 'SV Contact Area – Top',\\\n",
    "#                     'SV Contact Area – Front', 'SV Contact Area - Rear Right', 'SV Contact Area – Right', 'SV Contact Area - Front Right',\\\n",
    "#                     'SV Contact Area – Bottom', 'SV Contact Area – Unknown', 'Data Availability – EDR', 'Data Availability - Police Rpt',\\\n",
    "#                     'Data Availability – Telematics', 'Data Availability – Complaints', 'Data Availability – Video', 'Data Availability – Other',\\\n",
    "#                     'Data Availability - No Data', 'Data Availability – Unknown', 'Law Enforcement Investigating?', 'Investigating Agency',\\\n",
    "#                     'Investigating Agency – Unknown', 'Rep Ent Or Mfr Investigating?', 'Investigating Officer Name', 'Inv. Officer Name – Unknown',\\\n",
    "#                     'Investigating Officer Phone', 'Inv. Officer Phone – Unknown', 'Investigating Officer Email', 'Inv. Officer Email – Unknown', 'Within ODD?',\\\n",
    "#                     'Within ODD? – CBI', 'Narrative', 'Narrative - CBI?']\n",
    "\n",
    "# df2 = df.drop(columns_to_remove, axis=1)\n",
    "\n"
   ]
  },
  {
   "cell_type": "code",
   "execution_count": 4,
   "id": "629b33d8-fc3e-4f9c-826e-9f26df116407",
   "metadata": {},
   "outputs": [
    {
     "data": {
      "text/html": [
       "<div>\n",
       "<style scoped>\n",
       "    .dataframe tbody tr th:only-of-type {\n",
       "        vertical-align: middle;\n",
       "    }\n",
       "\n",
       "    .dataframe tbody tr th {\n",
       "        vertical-align: top;\n",
       "    }\n",
       "\n",
       "    .dataframe thead th {\n",
       "        text-align: right;\n",
       "    }\n",
       "</style>\n",
       "<table border=\"1\" class=\"dataframe\">\n",
       "  <thead>\n",
       "    <tr style=\"text-align: right;\">\n",
       "      <th></th>\n",
       "      <th>Incident Date</th>\n",
       "      <th>Incident Time (24:00)</th>\n",
       "      <th>City</th>\n",
       "      <th>State</th>\n",
       "      <th>Roadway Type</th>\n",
       "      <th>Roadway Surface</th>\n",
       "      <th>Roadway Description</th>\n",
       "      <th>Posted Speed Limit (MPH)</th>\n",
       "      <th>Lighting</th>\n",
       "      <th>Weather - Clear</th>\n",
       "      <th>Weather - Snow</th>\n",
       "      <th>Weather - Cloudy</th>\n",
       "      <th>Weather - Fog/Smoke</th>\n",
       "      <th>Weather - Rain</th>\n",
       "      <th>Weather - Severe Wind</th>\n",
       "      <th>Weather - Other</th>\n",
       "      <th>Weather - Other Text</th>\n",
       "      <th>Highest Injury Severity Alleged</th>\n",
       "      <th>SV Were All Passengers Belted?</th>\n",
       "    </tr>\n",
       "  </thead>\n",
       "  <tbody>\n",
       "    <tr>\n",
       "      <th>0</th>\n",
       "      <td>JAN-2024</td>\n",
       "      <td>12:04</td>\n",
       "      <td>Los Angeles</td>\n",
       "      <td>CA</td>\n",
       "      <td>Street</td>\n",
       "      <td>Dry</td>\n",
       "      <td>No Unusual Conditions</td>\n",
       "      <td>25.0</td>\n",
       "      <td>Daylight</td>\n",
       "      <td>Y</td>\n",
       "      <td></td>\n",
       "      <td></td>\n",
       "      <td></td>\n",
       "      <td></td>\n",
       "      <td></td>\n",
       "      <td></td>\n",
       "      <td>NaN</td>\n",
       "      <td>Unknown</td>\n",
       "      <td>No, see Narrative</td>\n",
       "    </tr>\n",
       "    <tr>\n",
       "      <th>1</th>\n",
       "      <td>JUL-2024</td>\n",
       "      <td>04:58</td>\n",
       "      <td>San Francisco</td>\n",
       "      <td>CA</td>\n",
       "      <td>Street</td>\n",
       "      <td>Dry</td>\n",
       "      <td>No Unusual Conditions</td>\n",
       "      <td>25.0</td>\n",
       "      <td>Dark - Lighted</td>\n",
       "      <td>Y</td>\n",
       "      <td></td>\n",
       "      <td></td>\n",
       "      <td></td>\n",
       "      <td></td>\n",
       "      <td></td>\n",
       "      <td></td>\n",
       "      <td>NaN</td>\n",
       "      <td>No Injuries Reported</td>\n",
       "      <td>No Passengers in Vehicle</td>\n",
       "    </tr>\n",
       "    <tr>\n",
       "      <th>2</th>\n",
       "      <td>JUL-2024</td>\n",
       "      <td>11:29</td>\n",
       "      <td>Phoenix</td>\n",
       "      <td>AZ</td>\n",
       "      <td>Parking Lot</td>\n",
       "      <td>Dry</td>\n",
       "      <td>No Unusual Conditions</td>\n",
       "      <td>5.0</td>\n",
       "      <td>Daylight</td>\n",
       "      <td>Y</td>\n",
       "      <td></td>\n",
       "      <td></td>\n",
       "      <td></td>\n",
       "      <td></td>\n",
       "      <td></td>\n",
       "      <td></td>\n",
       "      <td>NaN</td>\n",
       "      <td>No Injuries Reported</td>\n",
       "      <td>Yes</td>\n",
       "    </tr>\n",
       "    <tr>\n",
       "      <th>3</th>\n",
       "      <td>JUL-2024</td>\n",
       "      <td>18:16</td>\n",
       "      <td>San Francisco</td>\n",
       "      <td>CA</td>\n",
       "      <td>Street</td>\n",
       "      <td>Dry</td>\n",
       "      <td>No Unusual Conditions</td>\n",
       "      <td>25.0</td>\n",
       "      <td>Daylight</td>\n",
       "      <td>Y</td>\n",
       "      <td></td>\n",
       "      <td></td>\n",
       "      <td></td>\n",
       "      <td></td>\n",
       "      <td></td>\n",
       "      <td></td>\n",
       "      <td>NaN</td>\n",
       "      <td>No Injuries Reported</td>\n",
       "      <td>No Passengers in Vehicle</td>\n",
       "    </tr>\n",
       "    <tr>\n",
       "      <th>4</th>\n",
       "      <td>JUL-2024</td>\n",
       "      <td>11:06</td>\n",
       "      <td>Austin</td>\n",
       "      <td>TX</td>\n",
       "      <td>Street</td>\n",
       "      <td>Dry</td>\n",
       "      <td>No Unusual Conditions</td>\n",
       "      <td>40.0</td>\n",
       "      <td>Daylight</td>\n",
       "      <td></td>\n",
       "      <td></td>\n",
       "      <td>Y</td>\n",
       "      <td></td>\n",
       "      <td></td>\n",
       "      <td></td>\n",
       "      <td></td>\n",
       "      <td>NaN</td>\n",
       "      <td>No Injuries Reported</td>\n",
       "      <td>Yes</td>\n",
       "    </tr>\n",
       "  </tbody>\n",
       "</table>\n",
       "</div>"
      ],
      "text/plain": [
       "  Incident Date Incident Time (24:00)           City State Roadway Type  \\\n",
       "0      JAN-2024                 12:04    Los Angeles   CA        Street   \n",
       "1      JUL-2024                 04:58  San Francisco   CA        Street   \n",
       "2      JUL-2024                 11:29        Phoenix   AZ   Parking Lot   \n",
       "3      JUL-2024                 18:16  San Francisco   CA        Street   \n",
       "4      JUL-2024                 11:06         Austin   TX        Street   \n",
       "\n",
       "  Roadway Surface    Roadway Description  Posted Speed Limit (MPH)  \\\n",
       "0             Dry  No Unusual Conditions                      25.0   \n",
       "1             Dry  No Unusual Conditions                      25.0   \n",
       "2             Dry  No Unusual Conditions                       5.0   \n",
       "3             Dry  No Unusual Conditions                      25.0   \n",
       "4             Dry  No Unusual Conditions                      40.0   \n",
       "\n",
       "         Lighting Weather - Clear Weather - Snow Weather - Cloudy  \\\n",
       "0        Daylight               Y                                   \n",
       "1  Dark - Lighted               Y                                   \n",
       "2        Daylight               Y                                   \n",
       "3        Daylight               Y                                   \n",
       "4        Daylight                                               Y   \n",
       "\n",
       "  Weather - Fog/Smoke Weather - Rain Weather - Severe Wind Weather - Other  \\\n",
       "0                                                                            \n",
       "1                                                                            \n",
       "2                                                                            \n",
       "3                                                                            \n",
       "4                                                                            \n",
       "\n",
       "  Weather - Other Text Highest Injury Severity Alleged  \\\n",
       "0                  NaN                         Unknown   \n",
       "1                  NaN            No Injuries Reported   \n",
       "2                  NaN            No Injuries Reported   \n",
       "3                  NaN            No Injuries Reported   \n",
       "4                  NaN            No Injuries Reported   \n",
       "\n",
       "  SV Were All Passengers Belted?  \n",
       "0              No, see Narrative  \n",
       "1       No Passengers in Vehicle  \n",
       "2                            Yes  \n",
       "3       No Passengers in Vehicle  \n",
       "4                            Yes  "
      ]
     },
     "execution_count": 4,
     "metadata": {},
     "output_type": "execute_result"
    }
   ],
   "source": [
    "cols_to_drop = ['Report ID', 'Report Version', 'Report Month', 'Report Year','Reporting Entity','Report Submission Date',\\\n",
    "                'VIN', 'Make', 'Model','Model - Unknown', 'Model Year', 'Model Year - Unknown',\\\n",
    "                'Same Vehicle ID', 'Mileage','VIN - Unknown', 'Serial Number',\\\n",
    "               'Make', 'Model','Model - Unknown', 'Model Year', 'Model Year - Unknown','Same Vehicle ID', 'Mileage',\\\n",
    "               'Report Type', 'Mileage - Unknown', 'Driver / Operator Type', 'ADAS/ADS System Version','ADAS/ADS System Version - Unk',\\\n",
    "                'ADAS/ADS System Version CBI','ADAS/ADS Hardware Version', 'ADAS/ADS Hardware Version - Unk','Investigating Officer Name',\\\n",
    "                'Inv. Officer Name - Unknown', 'Investigating Officer Phone', 'Inv. Officer Phone - Unknown','Investigating Officer Email',\\\n",
    "                'Inv. Officer Email - Unknown','Within ODD?', 'Within ODD? - CBI', 'Narrative', 'Narrative - CBI?','ADAS/ADS Hardware Version CBI',\\\n",
    "               'ADAS/ADS Software Version', 'ADAS/ADS Software Version - Unk',\\\n",
    "               'ADAS/ADS Software Version CBI', 'Other Reporting Entities?',\\\n",
    "               'Other Reporting Entities? - Unk', 'Other Reporting Entities? - NA',\\\n",
    "               'Federal Regulatory Exemption?',\\\n",
    "               'Data Availability - Telematics', 'Data Availability - Complaints',\\\n",
    "               'Data Availability - Video', 'Data Availability - Other',\\\n",
    "               'Data Availability - No Data', 'Data Availability - Unknown',\\\n",
    "               'Law Enforcement Investigating?', 'Investigating Agency',\\\n",
    "               'Investigating Agency - Unknown', 'Rep Ent Or Mfr Investigating?','Other Federal Reg. Exemption',\\\n",
    "               'Federal Reg. Exemption - Unk', 'Federal Reg. Exemption - No',\\\n",
    "               'State or Local Permit?', 'State or Local Permit', 'ADS Equipped?',\\\n",
    "               'Automation System Engaged?', 'Source - Complaint/Claim',\\\n",
    "               'Source - Telematics', 'Source - Law Enforcement',\\\n",
    "               'Source - Field Report', 'Source - Testing', 'Source - Media',\\\n",
    "               'Source - Other', 'Source - Other Text','Incident Date - Unknown', 'Notice Received Date',\\\n",
    "               'Same Incident ID','Address', 'Address - Unknown','Property Damage?',\\\n",
    "               'CP Pre-Crash Movement', 'CP Any Air Bags Deployed?','CP Was Vehicle Towed?', 'CP Contact Area - Rear Left',\\\n",
    "               'CP Contact Area - Left', 'CP Contact Area - Front Left','CP Contact Area - Rear', 'CP Contact Area - Top',\\\n",
    "               'CP Contact Area - Front', 'CP Contact Area - Rear Right','CP Contact Area - Right', 'CP Contact Area - Front Right',\\\n",
    "               'CP Contact Area - Bottom', 'CP Contact Area - Unknown','SV Pre-Crash Movement', 'SV Any Air Bags Deployed?',\\\n",
    "               'SV Was Vehicle Towed?','SV Precrash Speed (MPH)', 'SV Pre-crash Speed - Unknown','SV Contact Area - Rear Left',\\\n",
    "                'SV Contact Area - Left','SV Contact Area - Front Left', 'SV Contact Area - Rear','SV Contact Area - Top',\\\n",
    "                'SV Contact Area - Front','SV Contact Area - Rear Right', 'SV Contact Area - Right','SV Contact Area - Front Right',\\\n",
    "                'SV Contact Area - Bottom','SV Contact Area - Unknown', 'Data Availability - EDR','Data Availability - Police Rpt',\\\n",
    "               'Operating Entity','Operating Entity - Unknown','Crash With', 'Weather - Unknown','Incident Time - Unknown', 'Latitude',\\\n",
    "                'Latitude - Unknown','Longitude', 'Longitude - Unknown','City - Unknown','Zip Code','Zip Code - Unknown',\\\n",
    "                'Posted Speed Limit - Unknown']\n",
    "df2 = df.drop(cols_to_drop, axis=1)\n",
    "df2.head()"
   ]
  },
  {
   "cell_type": "code",
   "execution_count": 5,
   "id": "52a7c07f-f141-4303-aea3-bdb1cf131563",
   "metadata": {},
   "outputs": [
    {
     "data": {
      "text/plain": [
       "Index(['Incident Date', 'Incident Time (24:00)', 'City', 'State',\n",
       "       'Roadway Type', 'Roadway Surface', 'Roadway Description',\n",
       "       'Posted Speed Limit (MPH)', 'Lighting', 'Weather - Clear',\n",
       "       'Weather - Snow', 'Weather - Cloudy', 'Weather - Fog/Smoke',\n",
       "       'Weather - Rain', 'Weather - Severe Wind', 'Weather - Other',\n",
       "       'Weather - Other Text', 'Highest Injury Severity Alleged',\n",
       "       'SV Were All Passengers Belted?'],\n",
       "      dtype='object')"
      ]
     },
     "execution_count": 5,
     "metadata": {},
     "output_type": "execute_result"
    }
   ],
   "source": [
    "# Refreshed look at columns\n",
    "df2.columns"
   ]
  },
  {
   "cell_type": "code",
   "execution_count": 6,
   "id": "8805c979-596c-458b-8e56-64933dadc8d3",
   "metadata": {},
   "outputs": [
    {
     "name": "stdout",
     "output_type": "stream",
     "text": [
      "Incident Date\n",
      "38\n",
      "Incident Date\n",
      "AUG-2023    100\n",
      "SEP-2023     57\n",
      "OCT-2023     56\n",
      "MAR-2023     55\n",
      "MAY-2024     55\n",
      "JUL-2023     55\n",
      "JUN-2024     50\n",
      "AUG-2022     48\n",
      "JUL-2024     48\n",
      "JUN-2023     46\n",
      "MAY-2023     43\n",
      "APR-2023     42\n",
      "DEC-2022     41\n",
      "MAR-2022     37\n",
      "APR-2022     37\n",
      "JUN-2022     36\n",
      "NOV-2021     34\n",
      "JUL-2022     34\n",
      "FEB-2023     33\n",
      "FEB-2024     33\n",
      "MAR-2024     33\n",
      "MAY-2022     33\n",
      "OCT-2021     32\n",
      "SEP-2022     30\n",
      "AUG-2021     29\n",
      "JAN-2024     27\n",
      "JAN-2022     26\n",
      "APR-2024     25\n",
      "SEP-2021     25\n",
      "JUL-2021     24\n",
      "DEC-2023     24\n",
      "FEB-2022     21\n",
      "DEC-2021     19\n",
      "NOV-2023     18\n",
      "NOV-2022     16\n",
      "OCT-2022     15\n",
      "JAN-2023     12\n",
      "AUG-2024      9\n",
      "Name: count, dtype: int64\n",
      "\n",
      "Incident Time (24:00)\n",
      "564\n",
      "Incident Time (24:00)\n",
      "03:15    11\n",
      "00:39    10\n",
      "21:29    10\n",
      "22:22    10\n",
      "08:50     9\n",
      "         ..\n",
      "12:03     1\n",
      "8:01      1\n",
      "08:01     1\n",
      "07:38     1\n",
      "09:50     1\n",
      "Name: count, Length: 564, dtype: int64\n",
      "\n",
      "City\n",
      "88\n",
      "City\n",
      "San Francisco       743\n",
      "Phoenix             101\n",
      "Tempe                80\n",
      "Austin               75\n",
      "Los Angeles          36\n",
      "                   ... \n",
      "Foster City           1\n",
      "Port Saint Lucie      1\n",
      "Shenandoah            1\n",
      "Rice                  1\n",
      "Sunol                 1\n",
      "Name: count, Length: 88, dtype: int64\n",
      "\n",
      "State\n",
      "18\n",
      "State\n",
      "CA     852\n",
      "AZ     240\n",
      "TX     130\n",
      "FL      42\n",
      "NV      35\n",
      "MI      11\n",
      "DC       8\n",
      "NM       6\n",
      "MN       6\n",
      "CO       6\n",
      "RI       5\n",
      "IN       4\n",
      "PA       3\n",
      "OH       3\n",
      "WA       3\n",
      "WY       3\n",
      "GA       1\n",
      "VA       1\n",
      "Name: count, dtype: int64\n",
      "\n",
      "Roadway Type\n",
      "6\n",
      "Roadway Type\n",
      "Intersection         592\n",
      "Street               576\n",
      "Highway / Freeway    107\n",
      "Parking Lot           73\n",
      "Traffic Circle         6\n",
      "Unknown                5\n",
      "Name: count, dtype: int64\n",
      "\n",
      "Roadway Surface\n",
      "4\n",
      "Roadway Surface\n",
      "Dry                   1284\n",
      "Wet                     64\n",
      "Unknown                  9\n",
      "Snow / Slush / Ice       2\n",
      "Name: count, dtype: int64\n",
      "\n",
      "Roadway Description\n",
      "6\n",
      "Roadway Description\n",
      "No Unusual Conditions          1285\n",
      "Other, see Narrative             37\n",
      "Work Zone                        19\n",
      "Traffic Incident                  9\n",
      "Unknown                           8\n",
      "Missing / Degraded Markings       1\n",
      "Name: count, dtype: int64\n",
      "\n",
      "Posted Speed Limit (MPH)\n",
      "18\n",
      "Posted Speed Limit (MPH)\n",
      "25.0    752\n",
      "30.0    147\n",
      "35.0    110\n",
      "45.0     58\n",
      "15.0     54\n",
      "65.0     53\n",
      "20.0     45\n",
      "40.0     40\n",
      "75.0     30\n",
      "5.0      13\n",
      "10.0      5\n",
      "55.0      5\n",
      "0.0       4\n",
      "70.0      4\n",
      "60.0      4\n",
      "50.0      3\n",
      "9.0       3\n",
      "1.0       1\n",
      "Name: count, dtype: int64\n",
      "\n",
      "Lighting\n",
      "6\n",
      "Lighting\n",
      "Daylight                   791\n",
      "Dark - Lighted             488\n",
      "Dawn / Dusk                 46\n",
      "Dark - Not Lighted          26\n",
      "Unknown                      5\n",
      "Dark - Unknown Lighting      3\n",
      "Name: count, dtype: int64\n",
      "\n",
      "Weather - Clear\n",
      "2\n",
      "Weather - Clear\n",
      "Y    1121\n",
      "      241\n",
      "Name: count, dtype: int64\n",
      "\n",
      "Weather - Snow\n",
      "2\n",
      "Weather - Snow\n",
      "     1361\n",
      "Y       1\n",
      "Name: count, dtype: int64\n",
      "\n",
      "Weather - Cloudy\n",
      "2\n",
      "Weather - Cloudy\n",
      "     1189\n",
      "Y     173\n",
      "Name: count, dtype: int64\n",
      "\n",
      "Weather - Fog/Smoke\n",
      "1\n",
      "Weather - Fog/Smoke\n",
      "     1362\n",
      "Name: count, dtype: int64\n",
      "\n",
      "Weather - Rain\n",
      "2\n",
      "Weather - Rain\n",
      "     1317\n",
      "Y      45\n",
      "Name: count, dtype: int64\n",
      "\n",
      "Weather - Severe Wind\n",
      "1\n",
      "Weather - Severe Wind\n",
      "     1362\n",
      "Name: count, dtype: int64\n",
      "\n",
      "Weather - Other\n",
      "2\n",
      "Weather - Other\n",
      "     1357\n",
      "Y       5\n",
      "Name: count, dtype: int64\n",
      "\n",
      "Weather - Other Text\n",
      "1\n",
      "Weather - Other Text\n",
      "Thundering    5\n",
      "Name: count, dtype: int64\n",
      "\n",
      "Highest Injury Severity Alleged\n",
      "6\n",
      "Highest Injury Severity Alleged\n",
      "No Injuries Reported    1092\n",
      "Minor                    133\n",
      "Unknown                   74\n",
      "Moderate                  37\n",
      "Serious                   21\n",
      "Fatality                   2\n",
      "Name: count, dtype: int64\n",
      "\n",
      "SV Were All Passengers Belted?\n",
      "4\n",
      "SV Were All Passengers Belted?\n",
      "Yes                         876\n",
      "No Passengers in Vehicle    442\n",
      "No, see Narrative            30\n",
      "Unknown                      11\n",
      "Name: count, dtype: int64\n",
      "\n"
     ]
    }
   ],
   "source": [
    "cols = ['Incident Date', 'Incident Time (24:00)','City',  'State','Roadway Type', 'Roadway Surface',\\\n",
    "        'Roadway Description', 'Posted Speed Limit (MPH)', 'Lighting', 'Weather - Clear','Weather - Snow', 'Weather - Cloudy', 'Weather - Fog/Smoke',\\\n",
    "        'Weather - Rain', 'Weather - Severe Wind', 'Weather - Other', 'Weather - Other Text','Highest Injury Severity Alleged',\\\n",
    "        'SV Were All Passengers Belted?']\n",
    "\n",
    "for col in cols:\n",
    "  print(col)\n",
    "  print(df2[col].nunique())\n",
    "  print(df2[col].value_counts())\n",
    "  print()"
   ]
  },
  {
   "cell_type": "code",
   "execution_count": 8,
   "id": "a762a4ed-f141-4ee8-95bd-4acb8e89a2cc",
   "metadata": {},
   "outputs": [
    {
     "data": {
      "text/plain": [
       "Incident Date\n",
       "AUG-2023    100\n",
       "SEP-2023     57\n",
       "OCT-2023     56\n",
       "MAR-2023     55\n",
       "MAY-2024     55\n",
       "JUL-2023     55\n",
       "JUN-2024     50\n",
       "AUG-2022     48\n",
       "JUL-2024     48\n",
       "JUN-2023     46\n",
       "MAY-2023     43\n",
       "APR-2023     42\n",
       "DEC-2022     41\n",
       "MAR-2022     37\n",
       "APR-2022     37\n",
       "JUN-2022     36\n",
       "NOV-2021     34\n",
       "JUL-2022     34\n",
       "FEB-2023     33\n",
       "FEB-2024     33\n",
       "MAR-2024     33\n",
       "MAY-2022     33\n",
       "OCT-2021     32\n",
       "SEP-2022     30\n",
       "AUG-2021     29\n",
       "JAN-2024     27\n",
       "JAN-2022     26\n",
       "APR-2024     25\n",
       "SEP-2021     25\n",
       "JUL-2021     24\n",
       "DEC-2023     24\n",
       "FEB-2022     21\n",
       "DEC-2021     19\n",
       "NOV-2023     18\n",
       "NOV-2022     16\n",
       "OCT-2022     15\n",
       "JAN-2023     12\n",
       "AUG-2024      9\n",
       "Name: count, dtype: int64"
      ]
     },
     "execution_count": 8,
     "metadata": {},
     "output_type": "execute_result"
    }
   ],
   "source": [
    "df2['Incident Date'].value_counts()"
   ]
  },
  {
   "cell_type": "code",
   "execution_count": 9,
   "id": "9eb0fabc-534a-4ab5-8764-9add155ed12c",
   "metadata": {},
   "outputs": [
    {
     "data": {
      "text/plain": [
       "Incident Time (24:00)\n",
       "03:15    11\n",
       "00:39    10\n",
       "21:29    10\n",
       "22:22    10\n",
       "08:50     9\n",
       "         ..\n",
       "12:03     1\n",
       "8:01      1\n",
       "08:01     1\n",
       "07:38     1\n",
       "09:50     1\n",
       "Name: count, Length: 564, dtype: int64"
      ]
     },
     "execution_count": 9,
     "metadata": {},
     "output_type": "execute_result"
    }
   ],
   "source": [
    "df2['Incident Time (24:00)'].value_counts()"
   ]
  },
  {
   "cell_type": "code",
   "execution_count": 10,
   "id": "ad017540-7ae3-44cb-b6c8-af0cf004912a",
   "metadata": {},
   "outputs": [
    {
     "data": {
      "text/plain": [
       "City\n",
       "San Francisco       743\n",
       "Phoenix             101\n",
       "Tempe                80\n",
       "Austin               75\n",
       "Los Angeles          36\n",
       "                   ... \n",
       "Foster City           1\n",
       "Port Saint Lucie      1\n",
       "Shenandoah            1\n",
       "Rice                  1\n",
       "Sunol                 1\n",
       "Name: count, Length: 88, dtype: int64"
      ]
     },
     "execution_count": 10,
     "metadata": {},
     "output_type": "execute_result"
    }
   ],
   "source": [
    "df2['City'].value_counts()"
   ]
  },
  {
   "cell_type": "code",
   "execution_count": 11,
   "id": "e4b13ab4-e1bb-4bc7-8cf1-5b3c65deea23",
   "metadata": {},
   "outputs": [
    {
     "data": {
      "text/plain": [
       "State\n",
       "CA     852\n",
       "AZ     240\n",
       "TX     130\n",
       "FL      42\n",
       "NV      35\n",
       "MI      11\n",
       "DC       8\n",
       "NM       6\n",
       "MN       6\n",
       "CO       6\n",
       "RI       5\n",
       "IN       4\n",
       "PA       3\n",
       "OH       3\n",
       "WA       3\n",
       "WY       3\n",
       "GA       1\n",
       "VA       1\n",
       "Name: count, dtype: int64"
      ]
     },
     "execution_count": 11,
     "metadata": {},
     "output_type": "execute_result"
    }
   ],
   "source": [
    "df2['State'].value_counts()"
   ]
  },
  {
   "cell_type": "code",
   "execution_count": 12,
   "id": "76f90e2c-8c7e-4c28-a034-723b54e40e60",
   "metadata": {},
   "outputs": [
    {
     "data": {
      "text/plain": [
       "Roadway Type\n",
       "Intersection         592\n",
       "Street               576\n",
       "Highway / Freeway    107\n",
       "Parking Lot           73\n",
       "Traffic Circle         6\n",
       "Unknown                5\n",
       "Name: count, dtype: int64"
      ]
     },
     "execution_count": 12,
     "metadata": {},
     "output_type": "execute_result"
    }
   ],
   "source": [
    "df2['Roadway Type'].value_counts()"
   ]
  },
  {
   "cell_type": "code",
   "execution_count": 13,
   "id": "cb6b79ae-7c12-4f68-aab3-9969b6600b0a",
   "metadata": {},
   "outputs": [
    {
     "data": {
      "text/plain": [
       "Roadway Surface\n",
       "Dry                   1284\n",
       "Wet                     64\n",
       "Unknown                  9\n",
       "Snow / Slush / Ice       2\n",
       "Name: count, dtype: int64"
      ]
     },
     "execution_count": 13,
     "metadata": {},
     "output_type": "execute_result"
    }
   ],
   "source": [
    "df2['Roadway Surface'].value_counts()"
   ]
  },
  {
   "cell_type": "code",
   "execution_count": 14,
   "id": "e203b3e2-72d4-4c25-9438-748698d3cd28",
   "metadata": {},
   "outputs": [
    {
     "data": {
      "text/plain": [
       "Roadway Description\n",
       "No Unusual Conditions          1285\n",
       "Other, see Narrative             37\n",
       "Work Zone                        19\n",
       "Traffic Incident                  9\n",
       "Unknown                           8\n",
       "Missing / Degraded Markings       1\n",
       "Name: count, dtype: int64"
      ]
     },
     "execution_count": 14,
     "metadata": {},
     "output_type": "execute_result"
    }
   ],
   "source": [
    "df2['Roadway Description'].value_counts()"
   ]
  },
  {
   "cell_type": "code",
   "execution_count": 15,
   "id": "372c4f95-f40a-498d-8220-ae61dbe9f846",
   "metadata": {},
   "outputs": [
    {
     "data": {
      "text/plain": [
       "Posted Speed Limit (MPH)\n",
       "25.0    752\n",
       "30.0    147\n",
       "35.0    110\n",
       "45.0     58\n",
       "15.0     54\n",
       "65.0     53\n",
       "20.0     45\n",
       "40.0     40\n",
       "75.0     30\n",
       "5.0      13\n",
       "10.0      5\n",
       "55.0      5\n",
       "0.0       4\n",
       "70.0      4\n",
       "60.0      4\n",
       "50.0      3\n",
       "9.0       3\n",
       "1.0       1\n",
       "Name: count, dtype: int64"
      ]
     },
     "execution_count": 15,
     "metadata": {},
     "output_type": "execute_result"
    }
   ],
   "source": [
    "df2['Posted Speed Limit (MPH)'].value_counts()"
   ]
  },
  {
   "cell_type": "code",
   "execution_count": 16,
   "id": "8c338016-9b51-4149-8876-38f447e3184d",
   "metadata": {},
   "outputs": [
    {
     "data": {
      "text/plain": [
       "Lighting\n",
       "Daylight                   791\n",
       "Dark - Lighted             488\n",
       "Dawn / Dusk                 46\n",
       "Dark - Not Lighted          26\n",
       "Unknown                      5\n",
       "Dark - Unknown Lighting      3\n",
       "Name: count, dtype: int64"
      ]
     },
     "execution_count": 16,
     "metadata": {},
     "output_type": "execute_result"
    }
   ],
   "source": [
    "df2['Lighting'].value_counts()"
   ]
  },
  {
   "cell_type": "code",
   "execution_count": 17,
   "id": "c287d6c2-ba4c-42f1-9b1f-3c0d419cf845",
   "metadata": {},
   "outputs": [
    {
     "data": {
      "text/plain": [
       "Weather - Clear\n",
       "Y    1121\n",
       "      241\n",
       "Name: count, dtype: int64"
      ]
     },
     "execution_count": 17,
     "metadata": {},
     "output_type": "execute_result"
    }
   ],
   "source": [
    "df2['Weather - Clear'].value_counts()"
   ]
  },
  {
   "cell_type": "code",
   "execution_count": 18,
   "id": "f2db2f93-6abc-477e-8739-c8cc1cbbf949",
   "metadata": {},
   "outputs": [
    {
     "data": {
      "text/plain": [
       "Weather - Snow\n",
       "     1361\n",
       "Y       1\n",
       "Name: count, dtype: int64"
      ]
     },
     "execution_count": 18,
     "metadata": {},
     "output_type": "execute_result"
    }
   ],
   "source": [
    "df2['Weather - Snow'].value_counts()"
   ]
  },
  {
   "cell_type": "code",
   "execution_count": 19,
   "id": "795ceab0-d5bb-489d-97a5-53a5f8edc534",
   "metadata": {},
   "outputs": [
    {
     "data": {
      "text/plain": [
       "Weather - Cloudy\n",
       "     1189\n",
       "Y     173\n",
       "Name: count, dtype: int64"
      ]
     },
     "execution_count": 19,
     "metadata": {},
     "output_type": "execute_result"
    }
   ],
   "source": [
    "df2['Weather - Cloudy'].value_counts()"
   ]
  },
  {
   "cell_type": "code",
   "execution_count": 20,
   "id": "2f68da1c-6693-4b66-a8c6-98c4ef36f2e9",
   "metadata": {},
   "outputs": [
    {
     "data": {
      "text/plain": [
       "Weather - Fog/Smoke\n",
       "     1362\n",
       "Name: count, dtype: int64"
      ]
     },
     "execution_count": 20,
     "metadata": {},
     "output_type": "execute_result"
    }
   ],
   "source": [
    "df2['Weather - Fog/Smoke'].value_counts()"
   ]
  },
  {
   "cell_type": "code",
   "execution_count": 21,
   "id": "51d20ee6-da71-4d9c-9cd7-b0f5d1e23c90",
   "metadata": {},
   "outputs": [
    {
     "data": {
      "text/plain": [
       "Weather - Rain\n",
       "     1317\n",
       "Y      45\n",
       "Name: count, dtype: int64"
      ]
     },
     "execution_count": 21,
     "metadata": {},
     "output_type": "execute_result"
    }
   ],
   "source": [
    "df2['Weather - Rain'].value_counts()"
   ]
  },
  {
   "cell_type": "code",
   "execution_count": 22,
   "id": "c5adfd7f-4c8b-4f81-89ff-854c0558a657",
   "metadata": {},
   "outputs": [
    {
     "data": {
      "text/plain": [
       "Weather - Severe Wind\n",
       "     1362\n",
       "Name: count, dtype: int64"
      ]
     },
     "execution_count": 22,
     "metadata": {},
     "output_type": "execute_result"
    }
   ],
   "source": [
    "df2['Weather - Severe Wind'].value_counts()"
   ]
  },
  {
   "cell_type": "code",
   "execution_count": 23,
   "id": "5f4517c3-b79f-47e8-b275-e88fdd7ac6da",
   "metadata": {},
   "outputs": [
    {
     "data": {
      "text/plain": [
       "Weather - Other\n",
       "     1357\n",
       "Y       5\n",
       "Name: count, dtype: int64"
      ]
     },
     "execution_count": 23,
     "metadata": {},
     "output_type": "execute_result"
    }
   ],
   "source": [
    "df2['Weather - Other'].value_counts()"
   ]
  },
  {
   "cell_type": "code",
   "execution_count": 24,
   "id": "811da850-e6dd-4f99-b4e5-4fceabfd2964",
   "metadata": {},
   "outputs": [
    {
     "data": {
      "text/plain": [
       "Weather - Other Text\n",
       "Thundering    5\n",
       "Name: count, dtype: int64"
      ]
     },
     "execution_count": 24,
     "metadata": {},
     "output_type": "execute_result"
    }
   ],
   "source": [
    "df2['Weather - Other Text'].value_counts()"
   ]
  },
  {
   "cell_type": "code",
   "execution_count": 25,
   "id": "47087811-ded9-4929-a4b7-d74dd569bdfa",
   "metadata": {},
   "outputs": [
    {
     "data": {
      "text/plain": [
       "Highest Injury Severity Alleged\n",
       "No Injuries Reported    1092\n",
       "Minor                    133\n",
       "Unknown                   74\n",
       "Moderate                  37\n",
       "Serious                   21\n",
       "Fatality                   2\n",
       "Name: count, dtype: int64"
      ]
     },
     "execution_count": 25,
     "metadata": {},
     "output_type": "execute_result"
    }
   ],
   "source": [
    "df2['Highest Injury Severity Alleged'].value_counts()"
   ]
  },
  {
   "cell_type": "code",
   "execution_count": 26,
   "id": "ace10428-023e-428a-9a49-9f3eabf45b72",
   "metadata": {},
   "outputs": [
    {
     "data": {
      "text/plain": [
       "SV Were All Passengers Belted?\n",
       "Yes                         876\n",
       "No Passengers in Vehicle    442\n",
       "No, see Narrative            30\n",
       "Unknown                      11\n",
       "Name: count, dtype: int64"
      ]
     },
     "execution_count": 26,
     "metadata": {},
     "output_type": "execute_result"
    }
   ],
   "source": [
    "df2['SV Were All Passengers Belted?'].value_counts()"
   ]
  },
  {
   "cell_type": "code",
   "execution_count": null,
   "id": "e7b43c99-7193-4fc0-8386-edf2ea5c838a",
   "metadata": {},
   "outputs": [],
   "source": []
  },
  {
   "cell_type": "code",
   "execution_count": null,
   "id": "dc7fc246-1654-4b38-b563-70a677c99812",
   "metadata": {},
   "outputs": [],
   "source": []
  },
  {
   "cell_type": "code",
   "execution_count": null,
   "id": "d00d042a-51f3-4cfa-b69f-754c6b56c107",
   "metadata": {},
   "outputs": [],
   "source": []
  },
  {
   "cell_type": "code",
   "execution_count": null,
   "id": "f15433a7-2256-4cda-8e61-5cb4dd5e7602",
   "metadata": {},
   "outputs": [],
   "source": []
  },
  {
   "cell_type": "code",
   "execution_count": null,
   "id": "c856be86-2f5d-4634-bf6f-837bf706bcfc",
   "metadata": {},
   "outputs": [],
   "source": []
  },
  {
   "cell_type": "code",
   "execution_count": null,
   "id": "d1bf35a5-e85a-4ffe-b15c-bf1b1d6114e3",
   "metadata": {},
   "outputs": [],
   "source": []
  }
 ],
 "metadata": {
  "kernelspec": {
   "display_name": "Python 3 (ipykernel)",
   "language": "python",
   "name": "python3"
  },
  "language_info": {
   "codemirror_mode": {
    "name": "ipython",
    "version": 3
   },
   "file_extension": ".py",
   "mimetype": "text/x-python",
   "name": "python",
   "nbconvert_exporter": "python",
   "pygments_lexer": "ipython3",
   "version": "3.10.13"
  }
 },
 "nbformat": 4,
 "nbformat_minor": 5
}
