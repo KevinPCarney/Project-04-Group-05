{
 "cells": [
  {
   "cell_type": "code",
   "execution_count": 1,
   "id": "b8bf5354-cf87-472f-94cd-faf677896e75",
   "metadata": {},
   "outputs": [],
   "source": [
    "from sqlalchemy import create_engine, text, inspect, func\n",
    "import sqlite3\n",
    "\n",
    "# ORM imports\n",
    "import sqlalchemy\n",
    "from sqlalchemy.ext.automap import automap_base\n",
    "from sqlalchemy import Column, Integer, String, Float, Boolean\n",
    "from sqlalchemy.orm import Session\n",
    "from sqlalchemy.ext.declarative import declarative_base\n",
    "\n",
    "# API\n",
    "import requests\n",
    "import json\n",
    "\n",
    "# Data Science and Visualization\n",
    "import pandas as pd\n",
    "import matplotlib.pyplot as plt\n",
    "import numpy as np\n",
    "import seaborn as sns\n",
    "from scipy import stats\n",
    "import datetime as dt"
   ]
  },
  {
   "cell_type": "code",
   "execution_count": 2,
   "id": "ee57654e-d441-40bf-91e5-0aadba00d780",
   "metadata": {},
   "outputs": [
    {
     "data": {
      "text/html": [
       "<div>\n",
       "<style scoped>\n",
       "    .dataframe tbody tr th:only-of-type {\n",
       "        vertical-align: middle;\n",
       "    }\n",
       "\n",
       "    .dataframe tbody tr th {\n",
       "        vertical-align: top;\n",
       "    }\n",
       "\n",
       "    .dataframe thead th {\n",
       "        text-align: right;\n",
       "    }\n",
       "</style>\n",
       "<table border=\"1\" class=\"dataframe\">\n",
       "  <thead>\n",
       "    <tr style=\"text-align: right;\">\n",
       "      <th></th>\n",
       "      <th>Report ID</th>\n",
       "      <th>Report Version</th>\n",
       "      <th>Reporting Entity</th>\n",
       "      <th>Report Type</th>\n",
       "      <th>Report Month</th>\n",
       "      <th>Report Year</th>\n",
       "      <th>Report Submission Date</th>\n",
       "      <th>VIN</th>\n",
       "      <th>VIN - Unknown</th>\n",
       "      <th>Serial Number</th>\n",
       "      <th>...</th>\n",
       "      <th>Investigating Officer Name</th>\n",
       "      <th>Inv. Officer Name - Unknown</th>\n",
       "      <th>Investigating Officer Phone</th>\n",
       "      <th>Inv. Officer Phone - Unknown</th>\n",
       "      <th>Investigating Officer Email</th>\n",
       "      <th>Inv. Officer Email - Unknown</th>\n",
       "      <th>Within ODD?</th>\n",
       "      <th>Within ODD? - CBI</th>\n",
       "      <th>Narrative</th>\n",
       "      <th>Narrative - CBI?</th>\n",
       "    </tr>\n",
       "  </thead>\n",
       "  <tbody>\n",
       "    <tr>\n",
       "      <th>0</th>\n",
       "      <td>30270-7157</td>\n",
       "      <td>3</td>\n",
       "      <td>Waymo LLC</td>\n",
       "      <td>Update</td>\n",
       "      <td>NaN</td>\n",
       "      <td>NaN</td>\n",
       "      <td>AUG-2024</td>\n",
       "      <td>SADHW2S13M1</td>\n",
       "      <td></td>\n",
       "      <td>NaN</td>\n",
       "      <td>...</td>\n",
       "      <td>NaN</td>\n",
       "      <td></td>\n",
       "      <td>NaN</td>\n",
       "      <td></td>\n",
       "      <td>NaN</td>\n",
       "      <td></td>\n",
       "      <td>Yes</td>\n",
       "      <td></td>\n",
       "      <td>Waymo is submitting a second update to the rep...</td>\n",
       "      <td>NaN</td>\n",
       "    </tr>\n",
       "    <tr>\n",
       "      <th>1</th>\n",
       "      <td>30270-8406</td>\n",
       "      <td>1</td>\n",
       "      <td>Waymo LLC</td>\n",
       "      <td>Monthly</td>\n",
       "      <td>7.0</td>\n",
       "      <td>2024.0</td>\n",
       "      <td>AUG-2024</td>\n",
       "      <td>SADHW2S1XR1</td>\n",
       "      <td></td>\n",
       "      <td>NaN</td>\n",
       "      <td>...</td>\n",
       "      <td>NaN</td>\n",
       "      <td></td>\n",
       "      <td>NaN</td>\n",
       "      <td></td>\n",
       "      <td>NaN</td>\n",
       "      <td></td>\n",
       "      <td>Yes</td>\n",
       "      <td></td>\n",
       "      <td>On July [XXX], 2024 at 4:58 AM PT a Waymo Auto...</td>\n",
       "      <td>NaN</td>\n",
       "    </tr>\n",
       "    <tr>\n",
       "      <th>2</th>\n",
       "      <td>30270-8405</td>\n",
       "      <td>1</td>\n",
       "      <td>Waymo LLC</td>\n",
       "      <td>Monthly</td>\n",
       "      <td>7.0</td>\n",
       "      <td>2024.0</td>\n",
       "      <td>AUG-2024</td>\n",
       "      <td>SADHW2S17R1</td>\n",
       "      <td></td>\n",
       "      <td>NaN</td>\n",
       "      <td>...</td>\n",
       "      <td>NaN</td>\n",
       "      <td></td>\n",
       "      <td>NaN</td>\n",
       "      <td></td>\n",
       "      <td>NaN</td>\n",
       "      <td></td>\n",
       "      <td>Yes</td>\n",
       "      <td></td>\n",
       "      <td>On July [XXX], 2024 at 11:29 AM MT a Waymo Aut...</td>\n",
       "      <td>NaN</td>\n",
       "    </tr>\n",
       "    <tr>\n",
       "      <th>3</th>\n",
       "      <td>30270-8404</td>\n",
       "      <td>1</td>\n",
       "      <td>Waymo LLC</td>\n",
       "      <td>Monthly</td>\n",
       "      <td>7.0</td>\n",
       "      <td>2024.0</td>\n",
       "      <td>AUG-2024</td>\n",
       "      <td>SADHW2S1XR1</td>\n",
       "      <td></td>\n",
       "      <td>NaN</td>\n",
       "      <td>...</td>\n",
       "      <td>NaN</td>\n",
       "      <td></td>\n",
       "      <td>NaN</td>\n",
       "      <td></td>\n",
       "      <td>NaN</td>\n",
       "      <td></td>\n",
       "      <td>Yes</td>\n",
       "      <td></td>\n",
       "      <td>On July [XXX], 2024 at 4:16 PM PT a Waymo Auto...</td>\n",
       "      <td>NaN</td>\n",
       "    </tr>\n",
       "    <tr>\n",
       "      <th>4</th>\n",
       "      <td>30270-8403</td>\n",
       "      <td>1</td>\n",
       "      <td>Waymo LLC</td>\n",
       "      <td>Monthly</td>\n",
       "      <td>7.0</td>\n",
       "      <td>2024.0</td>\n",
       "      <td>AUG-2024</td>\n",
       "      <td>SADHW2S19R1</td>\n",
       "      <td></td>\n",
       "      <td>NaN</td>\n",
       "      <td>...</td>\n",
       "      <td>NaN</td>\n",
       "      <td></td>\n",
       "      <td>NaN</td>\n",
       "      <td></td>\n",
       "      <td>NaN</td>\n",
       "      <td></td>\n",
       "      <td>Yes</td>\n",
       "      <td></td>\n",
       "      <td>On July [XXX], 2024 at 11:06 AM CST a Waymo Au...</td>\n",
       "      <td>NaN</td>\n",
       "    </tr>\n",
       "  </tbody>\n",
       "</table>\n",
       "<p>5 rows × 137 columns</p>\n",
       "</div>"
      ],
      "text/plain": [
       "    Report ID  Report Version Reporting Entity Report Type  Report Month  \\\n",
       "0  30270-7157               3        Waymo LLC      Update           NaN   \n",
       "1  30270-8406               1        Waymo LLC     Monthly           7.0   \n",
       "2  30270-8405               1        Waymo LLC     Monthly           7.0   \n",
       "3  30270-8404               1        Waymo LLC     Monthly           7.0   \n",
       "4  30270-8403               1        Waymo LLC     Monthly           7.0   \n",
       "\n",
       "   Report Year Report Submission Date          VIN VIN - Unknown  \\\n",
       "0          NaN               AUG-2024  SADHW2S13M1                 \n",
       "1       2024.0               AUG-2024  SADHW2S1XR1                 \n",
       "2       2024.0               AUG-2024  SADHW2S17R1                 \n",
       "3       2024.0               AUG-2024  SADHW2S1XR1                 \n",
       "4       2024.0               AUG-2024  SADHW2S19R1                 \n",
       "\n",
       "  Serial Number  ... Investigating Officer Name Inv. Officer Name - Unknown  \\\n",
       "0           NaN  ...                        NaN                               \n",
       "1           NaN  ...                        NaN                               \n",
       "2           NaN  ...                        NaN                               \n",
       "3           NaN  ...                        NaN                               \n",
       "4           NaN  ...                        NaN                               \n",
       "\n",
       "  Investigating Officer Phone  Inv. Officer Phone - Unknown  \\\n",
       "0                         NaN                                 \n",
       "1                         NaN                                 \n",
       "2                         NaN                                 \n",
       "3                         NaN                                 \n",
       "4                         NaN                                 \n",
       "\n",
       "  Investigating Officer Email Inv. Officer Email - Unknown  Within ODD?  \\\n",
       "0                         NaN                                       Yes   \n",
       "1                         NaN                                       Yes   \n",
       "2                         NaN                                       Yes   \n",
       "3                         NaN                                       Yes   \n",
       "4                         NaN                                       Yes   \n",
       "\n",
       "  Within ODD? - CBI                                          Narrative  \\\n",
       "0                    Waymo is submitting a second update to the rep...   \n",
       "1                    On July [XXX], 2024 at 4:58 AM PT a Waymo Auto...   \n",
       "2                    On July [XXX], 2024 at 11:29 AM MT a Waymo Aut...   \n",
       "3                    On July [XXX], 2024 at 4:16 PM PT a Waymo Auto...   \n",
       "4                    On July [XXX], 2024 at 11:06 AM CST a Waymo Au...   \n",
       "\n",
       "  Narrative - CBI?  \n",
       "0              NaN  \n",
       "1              NaN  \n",
       "2              NaN  \n",
       "3              NaN  \n",
       "4              NaN  \n",
       "\n",
       "[5 rows x 137 columns]"
      ]
     },
     "execution_count": 2,
     "metadata": {},
     "output_type": "execute_result"
    }
   ],
   "source": [
    "#CSV import for crashes table\n",
    "filepath = \"../Resources/SGO-2021-01_Incident_Reports_ADS.csv\"\n",
    "df = pd.read_csv(filepath)\n",
    "df.head()"
   ]
  },
  {
   "cell_type": "code",
   "execution_count": 3,
   "id": "f76b92b2-0cc0-43e1-9d71-2f8253b20163",
   "metadata": {},
   "outputs": [
    {
     "data": {
      "text/plain": [
       "Index(['Report ID', 'Report Version', 'Reporting Entity', 'Report Type',\n",
       "       'Report Month', 'Report Year', 'Report Submission Date', 'VIN',\n",
       "       'VIN - Unknown', 'Serial Number',\n",
       "       ...\n",
       "       'Investigating Officer Name', 'Inv. Officer Name - Unknown',\n",
       "       'Investigating Officer Phone', 'Inv. Officer Phone - Unknown',\n",
       "       'Investigating Officer Email', 'Inv. Officer Email - Unknown',\n",
       "       'Within ODD?', 'Within ODD? - CBI', 'Narrative', 'Narrative - CBI?'],\n",
       "      dtype='object', length=137)"
      ]
     },
     "execution_count": 3,
     "metadata": {},
     "output_type": "execute_result"
    }
   ],
   "source": [
    "df.columns"
   ]
  },
  {
   "cell_type": "code",
   "execution_count": 4,
   "id": "836a2f7b-558b-4e9a-a4cf-7130dee790e4",
   "metadata": {},
   "outputs": [
    {
     "data": {
      "text/plain": [
       "137"
      ]
     },
     "execution_count": 4,
     "metadata": {},
     "output_type": "execute_result"
    }
   ],
   "source": [
    "len(df.columns)"
   ]
  },
  {
   "cell_type": "code",
   "execution_count": 5,
   "id": "12affcef-e53e-4108-ba84-657cead54971",
   "metadata": {},
   "outputs": [],
   "source": [
    "#First Set of Columns to remove\n",
    "# columns_to_remove = ['Report ID', 'Report Version', 'Reporting Entity', 'Report Submission Date', 'VIN', 'VIN – Unknown', 'Serial Number',\\\n",
    "#                     'Make', 'Model', 'Model – Unknown', 'Model Year',\t'Model Year – Unknown',\t'Same Vehicle ID', 'Mileage', 'Mileage – Unknown',\\\n",
    "#                     'ADAS/ADS System Version', 'ADAS/ADS System Version – Unk', 'ADAS/ADS System Version CBI',  'ADAS/ADS Hardware Version',\\\n",
    "#                     'ADAS/ADS Hardware Version – Unk', 'ADAS/ADS Hardware Version CBI', 'ADAS/ADS Software Version', 'ADAS/ADS Software Version – Unk',\\\n",
    "#                     'ADAS/ADS Software Version CBI', 'Other Reporting Entities?', 'Other Reporting Entities? – Unk', 'Other Reporting Entities? – NA',\\\n",
    "#                     'Federal Regulatory Exemption?', 'Other Federal Reg. Exemption', 'Federal Reg. Exemption – Unk', 'Federal Reg. Exemption – No',\\\n",
    "#                     'State or Local Permit?', 'State or Local Permit', 'ADS Equipped?, Automation System Engaged?',\t'Operating Entity',\\\n",
    "#                     'Operating Entity – Unknown', 'Source - Complaint/Claim', 'Source – Telematics', 'Source - Law Enforcement', 'Source - Field Report',\\\n",
    "#                     'Source – Testing', 'Source – Media', 'Source – Other', 'Source - Other Text', 'Notice Received Date', 'Same Incident ID', 'Address',\\\n",
    "#                     'Address – Unknown', 'Crash With', 'Property Damage?', 'CP Pre-Crash Movement', 'CP Any Air Bags Deployed?', 'CP Was Vehicle Towed?',\\\n",
    "#                     'CP Contact Area - Rear Left', 'CP Contact Area – Left', 'CP Contact Area - Front Left', 'CP Contact Area – Rear', 'CP Contact Area – Top',\\\n",
    "#                     'CP Contact Area – Front', 'CP Contact Area - Rear Right', 'CP Contact Area – Right', 'CP Contact Area - Front Right',\\\n",
    "#                     'CP Contact Area – Bottom', 'CP Contact Area – Unknown', 'SV Pre-Crash Movement',\t'SV Any Air Bags Deployed?', 'SV Was Vehicle Towed?',\\\n",
    "#                     'SV Contact Area - Rear Left', 'SV Contact Area – Left', 'SV Contact Area - Front Left', 'SV Contact Area – Rear', 'SV Contact Area – Top',\\\n",
    "#                     'SV Contact Area – Front', 'SV Contact Area - Rear Right', 'SV Contact Area – Right', 'SV Contact Area - Front Right',\\\n",
    "#                     'SV Contact Area – Bottom', 'SV Contact Area – Unknown', 'Data Availability – EDR', 'Data Availability - Police Rpt',\\\n",
    "#                     'Data Availability – Telematics', 'Data Availability – Complaints', 'Data Availability – Video', 'Data Availability – Other',\\\n",
    "#                     'Data Availability - No Data', 'Data Availability – Unknown', 'Law Enforcement Investigating?', 'Investigating Agency',\\\n",
    "#                     'Investigating Agency – Unknown', 'Rep Ent Or Mfr Investigating?', 'Investigating Officer Name', 'Inv. Officer Name – Unknown',\\\n",
    "#                     'Investigating Officer Phone', 'Inv. Officer Phone – Unknown', 'Investigating Officer Email', 'Inv. Officer Email – Unknown', 'Within ODD?',\\\n",
    "#                     'Within ODD? – CBI', 'Narrative', 'Narrative - CBI?']\n",
    "\n",
    "# df2 = df.drop(columns_to_remove, axis=1)\n",
    "\n"
   ]
  },
  {
   "cell_type": "code",
   "execution_count": 6,
   "id": "629b33d8-fc3e-4f9c-826e-9f26df116407",
   "metadata": {},
   "outputs": [
    {
     "data": {
      "text/html": [
       "<div>\n",
       "<style scoped>\n",
       "    .dataframe tbody tr th:only-of-type {\n",
       "        vertical-align: middle;\n",
       "    }\n",
       "\n",
       "    .dataframe tbody tr th {\n",
       "        vertical-align: top;\n",
       "    }\n",
       "\n",
       "    .dataframe thead th {\n",
       "        text-align: right;\n",
       "    }\n",
       "</style>\n",
       "<table border=\"1\" class=\"dataframe\">\n",
       "  <thead>\n",
       "    <tr style=\"text-align: right;\">\n",
       "      <th></th>\n",
       "      <th>Make</th>\n",
       "      <th>Model</th>\n",
       "      <th>Model Year</th>\n",
       "      <th>Mileage</th>\n",
       "      <th>ADS Equipped?</th>\n",
       "      <th>Incident Date</th>\n",
       "      <th>Incident Time (24:00)</th>\n",
       "      <th>City</th>\n",
       "      <th>State</th>\n",
       "      <th>Roadway Type</th>\n",
       "      <th>...</th>\n",
       "      <th>Weather - Fog/Smoke</th>\n",
       "      <th>Weather - Rain</th>\n",
       "      <th>Weather - Severe Wind</th>\n",
       "      <th>Highest Injury Severity Alleged</th>\n",
       "      <th>Property Damage?</th>\n",
       "      <th>SV Pre-Crash Movement</th>\n",
       "      <th>SV Any Air Bags Deployed?</th>\n",
       "      <th>SV Was Vehicle Towed?</th>\n",
       "      <th>SV Were All Passengers Belted?</th>\n",
       "      <th>SV Precrash Speed (MPH)</th>\n",
       "    </tr>\n",
       "  </thead>\n",
       "  <tbody>\n",
       "    <tr>\n",
       "      <th>0</th>\n",
       "      <td>Jaguar</td>\n",
       "      <td>I-Pace</td>\n",
       "      <td>2021.0</td>\n",
       "      <td>56344.0</td>\n",
       "      <td>Yes</td>\n",
       "      <td>JAN-2024</td>\n",
       "      <td>12:04</td>\n",
       "      <td>Los Angeles</td>\n",
       "      <td>CA</td>\n",
       "      <td>Street</td>\n",
       "      <td>...</td>\n",
       "      <td></td>\n",
       "      <td></td>\n",
       "      <td></td>\n",
       "      <td>Unknown</td>\n",
       "      <td>Yes</td>\n",
       "      <td>Stopped</td>\n",
       "      <td>No</td>\n",
       "      <td>No</td>\n",
       "      <td>No, see Narrative</td>\n",
       "      <td>0.0</td>\n",
       "    </tr>\n",
       "    <tr>\n",
       "      <th>1</th>\n",
       "      <td>Jaguar</td>\n",
       "      <td>I-Pace</td>\n",
       "      <td>2024.0</td>\n",
       "      <td>7345.0</td>\n",
       "      <td>Yes</td>\n",
       "      <td>JUL-2024</td>\n",
       "      <td>04:58</td>\n",
       "      <td>San Francisco</td>\n",
       "      <td>CA</td>\n",
       "      <td>Street</td>\n",
       "      <td>...</td>\n",
       "      <td></td>\n",
       "      <td></td>\n",
       "      <td></td>\n",
       "      <td>No Injuries Reported</td>\n",
       "      <td>Yes</td>\n",
       "      <td>Parked</td>\n",
       "      <td>No</td>\n",
       "      <td>No</td>\n",
       "      <td>No Passengers in Vehicle</td>\n",
       "      <td>0.0</td>\n",
       "    </tr>\n",
       "    <tr>\n",
       "      <th>2</th>\n",
       "      <td>Jaguar</td>\n",
       "      <td>I-Pace</td>\n",
       "      <td>2024.0</td>\n",
       "      <td>25984.0</td>\n",
       "      <td>Yes</td>\n",
       "      <td>JUL-2024</td>\n",
       "      <td>11:29</td>\n",
       "      <td>Phoenix</td>\n",
       "      <td>AZ</td>\n",
       "      <td>Parking Lot</td>\n",
       "      <td>...</td>\n",
       "      <td></td>\n",
       "      <td></td>\n",
       "      <td></td>\n",
       "      <td>No Injuries Reported</td>\n",
       "      <td>Yes</td>\n",
       "      <td>Stopped</td>\n",
       "      <td>No</td>\n",
       "      <td>No</td>\n",
       "      <td>Yes</td>\n",
       "      <td>0.0</td>\n",
       "    </tr>\n",
       "    <tr>\n",
       "      <th>3</th>\n",
       "      <td>Jaguar</td>\n",
       "      <td>I-Pace</td>\n",
       "      <td>2024.0</td>\n",
       "      <td>449.0</td>\n",
       "      <td>Yes</td>\n",
       "      <td>JUL-2024</td>\n",
       "      <td>18:16</td>\n",
       "      <td>San Francisco</td>\n",
       "      <td>CA</td>\n",
       "      <td>Street</td>\n",
       "      <td>...</td>\n",
       "      <td></td>\n",
       "      <td></td>\n",
       "      <td></td>\n",
       "      <td>No Injuries Reported</td>\n",
       "      <td>Yes</td>\n",
       "      <td>Stopped</td>\n",
       "      <td>No</td>\n",
       "      <td>No</td>\n",
       "      <td>No Passengers in Vehicle</td>\n",
       "      <td>0.0</td>\n",
       "    </tr>\n",
       "    <tr>\n",
       "      <th>4</th>\n",
       "      <td>Jaguar</td>\n",
       "      <td>I-Pace</td>\n",
       "      <td>2024.0</td>\n",
       "      <td>4329.0</td>\n",
       "      <td>Yes</td>\n",
       "      <td>JUL-2024</td>\n",
       "      <td>11:06</td>\n",
       "      <td>Austin</td>\n",
       "      <td>TX</td>\n",
       "      <td>Street</td>\n",
       "      <td>...</td>\n",
       "      <td></td>\n",
       "      <td></td>\n",
       "      <td></td>\n",
       "      <td>No Injuries Reported</td>\n",
       "      <td>Yes</td>\n",
       "      <td>Stopped</td>\n",
       "      <td>No</td>\n",
       "      <td>No</td>\n",
       "      <td>Yes</td>\n",
       "      <td>0.0</td>\n",
       "    </tr>\n",
       "  </tbody>\n",
       "</table>\n",
       "<p>5 rows × 27 columns</p>\n",
       "</div>"
      ],
      "text/plain": [
       "     Make   Model  Model Year  Mileage ADS Equipped? Incident Date  \\\n",
       "0  Jaguar  I-Pace      2021.0  56344.0           Yes      JAN-2024   \n",
       "1  Jaguar  I-Pace      2024.0   7345.0           Yes      JUL-2024   \n",
       "2  Jaguar  I-Pace      2024.0  25984.0           Yes      JUL-2024   \n",
       "3  Jaguar  I-Pace      2024.0    449.0           Yes      JUL-2024   \n",
       "4  Jaguar  I-Pace      2024.0   4329.0           Yes      JUL-2024   \n",
       "\n",
       "  Incident Time (24:00)           City State Roadway Type  ...  \\\n",
       "0                 12:04    Los Angeles   CA        Street  ...   \n",
       "1                 04:58  San Francisco   CA        Street  ...   \n",
       "2                 11:29        Phoenix   AZ   Parking Lot  ...   \n",
       "3                 18:16  San Francisco   CA        Street  ...   \n",
       "4                 11:06         Austin   TX        Street  ...   \n",
       "\n",
       "  Weather - Fog/Smoke Weather - Rain  Weather - Severe Wind  \\\n",
       "0                                                             \n",
       "1                                                             \n",
       "2                                                             \n",
       "3                                                             \n",
       "4                                                             \n",
       "\n",
       "  Highest Injury Severity Alleged Property Damage? SV Pre-Crash Movement  \\\n",
       "0                         Unknown              Yes               Stopped   \n",
       "1            No Injuries Reported              Yes                Parked   \n",
       "2            No Injuries Reported              Yes               Stopped   \n",
       "3            No Injuries Reported              Yes               Stopped   \n",
       "4            No Injuries Reported              Yes               Stopped   \n",
       "\n",
       "  SV Any Air Bags Deployed? SV Was Vehicle Towed?  \\\n",
       "0                        No                    No   \n",
       "1                        No                    No   \n",
       "2                        No                    No   \n",
       "3                        No                    No   \n",
       "4                        No                    No   \n",
       "\n",
       "  SV Were All Passengers Belted? SV Precrash Speed (MPH)  \n",
       "0              No, see Narrative                     0.0  \n",
       "1       No Passengers in Vehicle                     0.0  \n",
       "2                            Yes                     0.0  \n",
       "3       No Passengers in Vehicle                     0.0  \n",
       "4                            Yes                     0.0  \n",
       "\n",
       "[5 rows x 27 columns]"
      ]
     },
     "execution_count": 6,
     "metadata": {},
     "output_type": "execute_result"
    }
   ],
   "source": [
    "cols_to_drop = ['Report ID', 'Report Version', 'Report Month', 'Report Year','Reporting Entity','Report Submission Date',\\\n",
    "                'VIN', 'Model - Unknown', 'Model Year - Unknown','ADAS/ADS Hardware Version',\\\n",
    "                'Same Vehicle ID', 'VIN - Unknown', 'Serial Number','Driver / Operator Type',\\\n",
    "                'Model - Unknown', 'Model Year - Unknown','Same Vehicle ID',\\\n",
    "               'Report Type', 'Mileage - Unknown', 'ADAS/ADS System Version - Unk',\\\n",
    "                'ADAS/ADS System Version CBI', 'ADAS/ADS Hardware Version - Unk','Investigating Officer Name',\\\n",
    "                'Inv. Officer Name - Unknown', 'Investigating Officer Phone', 'Inv. Officer Phone - Unknown','Investigating Officer Email',\\\n",
    "                'Inv. Officer Email - Unknown','Within ODD?', 'Within ODD? - CBI', 'Narrative', 'Narrative - CBI?','ADAS/ADS Hardware Version CBI',\\\n",
    "               'ADAS/ADS Software Version', 'ADAS/ADS Software Version - Unk',\\\n",
    "               'ADAS/ADS Software Version CBI', 'Other Reporting Entities?',\\\n",
    "               'Other Reporting Entities? - Unk', 'Other Reporting Entities? - NA',\\\n",
    "               'Federal Regulatory Exemption?','State or Local Permit?', 'State or Local Permit',\\\n",
    "               'Data Availability - Telematics', 'Data Availability - Complaints',\\\n",
    "               'Data Availability - Video', 'Data Availability - Other',\\\n",
    "               'Data Availability - No Data', 'Data Availability - Unknown',\\\n",
    "               'Law Enforcement Investigating?', 'Investigating Agency',\\\n",
    "               'Investigating Agency - Unknown', 'Rep Ent Or Mfr Investigating?','Other Federal Reg. Exemption',\\\n",
    "               'Federal Reg. Exemption - Unk', 'Federal Reg. Exemption - No',\\\n",
    "               'Automation System Engaged?', 'Source - Complaint/Claim',\\\n",
    "               'Source - Telematics', 'Source - Law Enforcement', 'ADAS/ADS System Version',\\\n",
    "               'Source - Field Report', 'Source - Testing', 'Source - Media',\\\n",
    "               'Source - Other', 'Source - Other Text','Incident Date - Unknown', 'Notice Received Date',\\\n",
    "               'Same Incident ID','Address', 'Address - Unknown','Weather - Other', 'Weather - Other Text',\\\n",
    "               'CP Pre-Crash Movement', 'CP Any Air Bags Deployed?','CP Was Vehicle Towed?', 'CP Contact Area - Rear Left',\\\n",
    "               'CP Contact Area - Left', 'CP Contact Area - Front Left','CP Contact Area - Rear', 'CP Contact Area - Top',\\\n",
    "               'CP Contact Area - Front', 'CP Contact Area - Rear Right','CP Contact Area - Right', 'CP Contact Area - Front Right',\\\n",
    "               'CP Contact Area - Bottom', 'CP Contact Area - Unknown',\\\n",
    "               'SV Pre-crash Speed - Unknown','SV Contact Area - Rear Left',\\\n",
    "                'SV Contact Area - Left','SV Contact Area - Front Left', 'SV Contact Area - Rear','SV Contact Area - Top',\\\n",
    "                'SV Contact Area - Front','SV Contact Area - Rear Right', 'SV Contact Area - Right','SV Contact Area - Front Right',\\\n",
    "                'SV Contact Area - Bottom','SV Contact Area - Unknown', 'Data Availability - EDR','Data Availability - Police Rpt',\\\n",
    "               'Operating Entity','Operating Entity - Unknown','Crash With', 'Weather - Unknown','Incident Time - Unknown', 'Latitude',\\\n",
    "                'Latitude - Unknown','Longitude', 'Longitude - Unknown','City - Unknown','Zip Code','Zip Code - Unknown',\\\n",
    "                'Posted Speed Limit - Unknown']\n",
    "df2 = df.drop(cols_to_drop, axis=1)\n",
    "df2.head()"
   ]
  },
  {
   "cell_type": "code",
   "execution_count": 7,
   "id": "52a7c07f-f141-4303-aea3-bdb1cf131563",
   "metadata": {},
   "outputs": [
    {
     "data": {
      "text/plain": [
       "Index(['Make', 'Model', 'Model Year', 'Mileage', 'ADS Equipped?',\n",
       "       'Incident Date', 'Incident Time (24:00)', 'City', 'State',\n",
       "       'Roadway Type', 'Roadway Surface', 'Roadway Description',\n",
       "       'Posted Speed Limit (MPH)', 'Lighting', 'Weather - Clear',\n",
       "       'Weather - Snow', 'Weather - Cloudy', 'Weather - Fog/Smoke',\n",
       "       'Weather - Rain', 'Weather - Severe Wind',\n",
       "       'Highest Injury Severity Alleged', 'Property Damage?',\n",
       "       'SV Pre-Crash Movement', 'SV Any Air Bags Deployed?',\n",
       "       'SV Was Vehicle Towed?', 'SV Were All Passengers Belted?',\n",
       "       'SV Precrash Speed (MPH)'],\n",
       "      dtype='object')"
      ]
     },
     "execution_count": 7,
     "metadata": {},
     "output_type": "execute_result"
    }
   ],
   "source": [
    "# Refreshed look at columns\n",
    "df2.columns"
   ]
  },
  {
   "cell_type": "code",
   "execution_count": 8,
   "id": "f4958e0c-12bb-4758-8222-ad43a4e97aa8",
   "metadata": {},
   "outputs": [
    {
     "name": "stdout",
     "output_type": "stream",
     "text": [
      "<class 'pandas.core.frame.DataFrame'>\n",
      "RangeIndex: 1362 entries, 0 to 1361\n",
      "Data columns (total 27 columns):\n",
      " #   Column                           Non-Null Count  Dtype  \n",
      "---  ------                           --------------  -----  \n",
      " 0   Make                             1359 non-null   object \n",
      " 1   Model                            1358 non-null   object \n",
      " 2   Model Year                       1348 non-null   float64\n",
      " 3   Mileage                          1322 non-null   float64\n",
      " 4   ADS Equipped?                    1358 non-null   object \n",
      " 5   Incident Date                    1358 non-null   object \n",
      " 6   Incident Time (24:00)            1352 non-null   object \n",
      " 7   City                             1356 non-null   object \n",
      " 8   State                            1359 non-null   object \n",
      " 9   Roadway Type                     1359 non-null   object \n",
      " 10  Roadway Surface                  1359 non-null   object \n",
      " 11  Roadway Description              1359 non-null   object \n",
      " 12  Posted Speed Limit (MPH)         1331 non-null   float64\n",
      " 13  Lighting                         1359 non-null   object \n",
      " 14  Weather - Clear                  1362 non-null   object \n",
      " 15  Weather - Snow                   1362 non-null   object \n",
      " 16  Weather - Cloudy                 1362 non-null   object \n",
      " 17  Weather - Fog/Smoke              1362 non-null   object \n",
      " 18  Weather - Rain                   1362 non-null   object \n",
      " 19  Weather - Severe Wind            1362 non-null   object \n",
      " 20  Highest Injury Severity Alleged  1359 non-null   object \n",
      " 21  Property Damage?                 1359 non-null   object \n",
      " 22  SV Pre-Crash Movement            1359 non-null   object \n",
      " 23  SV Any Air Bags Deployed?        1359 non-null   object \n",
      " 24  SV Was Vehicle Towed?            1359 non-null   object \n",
      " 25  SV Were All Passengers Belted?   1359 non-null   object \n",
      " 26  SV Precrash Speed (MPH)          1327 non-null   float64\n",
      "dtypes: float64(4), object(23)\n",
      "memory usage: 287.4+ KB\n"
     ]
    }
   ],
   "source": [
    "df2.info()"
   ]
  },
  {
   "cell_type": "code",
   "execution_count": null,
   "id": "db34986a-497b-44dc-af74-37855384f1d3",
   "metadata": {},
   "outputs": [],
   "source": []
  },
  {
   "cell_type": "code",
   "execution_count": 9,
   "id": "c603c921-3134-4013-ad70-a8f55182e0f1",
   "metadata": {},
   "outputs": [
    {
     "data": {
      "text/plain": [
       "(1362, 27)"
      ]
     },
     "execution_count": 9,
     "metadata": {},
     "output_type": "execute_result"
    }
   ],
   "source": [
    "df2.shape"
   ]
  },
  {
   "cell_type": "code",
   "execution_count": 10,
   "id": "3604bfd9-0eb0-4d13-b210-e11e6808f4c1",
   "metadata": {},
   "outputs": [],
   "source": [
    "df2 = df2.dropna(subset = ['Model Year', 'SV Precrash Speed (MPH)', 'Incident Time (24:00)', 'Posted Speed Limit (MPH)', 'City', 'ADS Equipped?', 'Mileage'])"
   ]
  },
  {
   "cell_type": "code",
   "execution_count": 11,
   "id": "64cb7934-a986-4a1e-9d59-a5a83e6e48c1",
   "metadata": {},
   "outputs": [
    {
     "name": "stdout",
     "output_type": "stream",
     "text": [
      "<class 'pandas.core.frame.DataFrame'>\n",
      "Index: 1290 entries, 0 to 1359\n",
      "Data columns (total 27 columns):\n",
      " #   Column                           Non-Null Count  Dtype  \n",
      "---  ------                           --------------  -----  \n",
      " 0   Make                             1290 non-null   object \n",
      " 1   Model                            1290 non-null   object \n",
      " 2   Model Year                       1290 non-null   float64\n",
      " 3   Mileage                          1290 non-null   float64\n",
      " 4   ADS Equipped?                    1290 non-null   object \n",
      " 5   Incident Date                    1290 non-null   object \n",
      " 6   Incident Time (24:00)            1290 non-null   object \n",
      " 7   City                             1290 non-null   object \n",
      " 8   State                            1290 non-null   object \n",
      " 9   Roadway Type                     1290 non-null   object \n",
      " 10  Roadway Surface                  1290 non-null   object \n",
      " 11  Roadway Description              1290 non-null   object \n",
      " 12  Posted Speed Limit (MPH)         1290 non-null   float64\n",
      " 13  Lighting                         1290 non-null   object \n",
      " 14  Weather - Clear                  1290 non-null   object \n",
      " 15  Weather - Snow                   1290 non-null   object \n",
      " 16  Weather - Cloudy                 1290 non-null   object \n",
      " 17  Weather - Fog/Smoke              1290 non-null   object \n",
      " 18  Weather - Rain                   1290 non-null   object \n",
      " 19  Weather - Severe Wind            1290 non-null   object \n",
      " 20  Highest Injury Severity Alleged  1290 non-null   object \n",
      " 21  Property Damage?                 1290 non-null   object \n",
      " 22  SV Pre-Crash Movement            1290 non-null   object \n",
      " 23  SV Any Air Bags Deployed?        1290 non-null   object \n",
      " 24  SV Was Vehicle Towed?            1290 non-null   object \n",
      " 25  SV Were All Passengers Belted?   1290 non-null   object \n",
      " 26  SV Precrash Speed (MPH)          1290 non-null   float64\n",
      "dtypes: float64(4), object(23)\n",
      "memory usage: 282.2+ KB\n"
     ]
    }
   ],
   "source": [
    "df2.info()"
   ]
  },
  {
   "cell_type": "code",
   "execution_count": 12,
   "id": "2d7cc129-9f1c-4228-8cd0-c823b4993f3f",
   "metadata": {},
   "outputs": [
    {
     "data": {
      "text/plain": [
       "SV Precrash Speed (MPH)\n",
       "0.0     563\n",
       "1.0      79\n",
       "2.0      64\n",
       "13.0     41\n",
       "8.0      41\n",
       "3.0      41\n",
       "10.0     35\n",
       "7.0      34\n",
       "5.0      33\n",
       "6.0      29\n",
       "4.0      28\n",
       "9.0      27\n",
       "15.0     21\n",
       "18.0     17\n",
       "12.0     17\n",
       "22.0     14\n",
       "19.0     14\n",
       "25.0     13\n",
       "11.0     13\n",
       "35.0     12\n",
       "14.0     12\n",
       "24.0     12\n",
       "21.0     11\n",
       "23.0     11\n",
       "34.0     10\n",
       "65.0      9\n",
       "17.0      7\n",
       "62.0      7\n",
       "64.0      6\n",
       "50.0      6\n",
       "51.0      6\n",
       "56.0      6\n",
       "58.0      5\n",
       "53.0      5\n",
       "55.0      5\n",
       "61.0      4\n",
       "27.0      4\n",
       "20.0      4\n",
       "44.0      4\n",
       "59.0      4\n",
       "16.0      3\n",
       "63.0      2\n",
       "40.0      2\n",
       "45.0      2\n",
       "67.0      2\n",
       "33.0      1\n",
       "32.0      1\n",
       "30.0      1\n",
       "29.0      1\n",
       "26.0      1\n",
       "Name: count, dtype: int64"
      ]
     },
     "execution_count": 12,
     "metadata": {},
     "output_type": "execute_result"
    }
   ],
   "source": [
    "df2.value_counts('SV Precrash Speed (MPH)')"
   ]
  },
  {
   "cell_type": "code",
   "execution_count": 13,
   "id": "a706d564-eccd-43c2-a25e-0b7a7ab564ce",
   "metadata": {},
   "outputs": [
    {
     "name": "stdout",
     "output_type": "stream",
     "text": [
      "<class 'pandas.core.frame.DataFrame'>\n",
      "Index: 1290 entries, 0 to 1359\n",
      "Data columns (total 27 columns):\n",
      " #   Column                           Non-Null Count  Dtype  \n",
      "---  ------                           --------------  -----  \n",
      " 0   Make                             1290 non-null   object \n",
      " 1   Model                            1290 non-null   object \n",
      " 2   Model Year                       1290 non-null   float64\n",
      " 3   Mileage                          1290 non-null   float64\n",
      " 4   ADS Equipped?                    1290 non-null   object \n",
      " 5   Incident Date                    1290 non-null   object \n",
      " 6   Incident Time (24:00)            1290 non-null   object \n",
      " 7   City                             1290 non-null   object \n",
      " 8   State                            1290 non-null   object \n",
      " 9   Roadway Type                     1290 non-null   object \n",
      " 10  Roadway Surface                  1290 non-null   object \n",
      " 11  Roadway Description              1290 non-null   object \n",
      " 12  Posted Speed Limit (MPH)         1290 non-null   float64\n",
      " 13  Lighting                         1290 non-null   object \n",
      " 14  Weather - Clear                  1290 non-null   object \n",
      " 15  Weather - Snow                   1290 non-null   object \n",
      " 16  Weather - Cloudy                 1290 non-null   object \n",
      " 17  Weather - Fog/Smoke              1290 non-null   object \n",
      " 18  Weather - Rain                   1290 non-null   object \n",
      " 19  Weather - Severe Wind            1290 non-null   object \n",
      " 20  Highest Injury Severity Alleged  1290 non-null   object \n",
      " 21  Property Damage?                 1290 non-null   object \n",
      " 22  SV Pre-Crash Movement            1290 non-null   object \n",
      " 23  SV Any Air Bags Deployed?        1290 non-null   object \n",
      " 24  SV Was Vehicle Towed?            1290 non-null   object \n",
      " 25  SV Were All Passengers Belted?   1290 non-null   object \n",
      " 26  SV Precrash Speed (MPH)          1290 non-null   float64\n",
      "dtypes: float64(4), object(23)\n",
      "memory usage: 282.2+ KB\n"
     ]
    }
   ],
   "source": [
    "df2.info()"
   ]
  },
  {
   "cell_type": "code",
   "execution_count": 14,
   "id": "e5302b2a-2e03-49c6-b95b-4fe734dbca26",
   "metadata": {},
   "outputs": [
    {
     "name": "stdout",
     "output_type": "stream",
     "text": [
      "<bound method NDFrame.head of         Make   Model  Model Year  Mileage ADS Equipped? Incident Date  \\\n",
      "0     Jaguar  I-Pace      2021.0  56344.0           Yes      JAN-2024   \n",
      "1     Jaguar  I-Pace      2024.0   7345.0           Yes      JUL-2024   \n",
      "2     Jaguar  I-Pace      2024.0  25984.0           Yes      JUL-2024   \n",
      "3     Jaguar  I-Pace      2024.0    449.0           Yes      JUL-2024   \n",
      "4     Jaguar  I-Pace      2024.0   4329.0           Yes      JUL-2024   \n",
      "...      ...     ...         ...      ...           ...           ...   \n",
      "1353    Ford  Fusion      2019.0  10722.0           Yes      JUL-2021   \n",
      "1354  Jaguar  I-Pace      2021.0   1232.0           Yes      JUL-2021   \n",
      "1355  Jaguar  I-Pace      2021.0   1232.0           Yes      JUL-2021   \n",
      "1358  Jaguar  I-Pace      2021.0   1232.0           Yes      JUL-2021   \n",
      "1359  Jaguar  I-Pace      2021.0   1232.0           Yes      JUL-2021   \n",
      "\n",
      "     Incident Time (24:00)           City State Roadway Type  ...  \\\n",
      "0                    12:04    Los Angeles   CA        Street  ...   \n",
      "1                    04:58  San Francisco   CA        Street  ...   \n",
      "2                    11:29        Phoenix   AZ   Parking Lot  ...   \n",
      "3                    18:16  San Francisco   CA        Street  ...   \n",
      "4                    11:06         Austin   TX        Street  ...   \n",
      "...                    ...            ...   ...          ...  ...   \n",
      "1353                 09:26  Washington DC   DC        Street  ...   \n",
      "1354                 16:47  San Francisco   CA        Street  ...   \n",
      "1355                 16:47  San Francisco   CA        Street  ...   \n",
      "1358                 16:47  San Francisco   CA        Street  ...   \n",
      "1359                 16:47  San Francisco   CA        Street  ...   \n",
      "\n",
      "     Weather - Fog/Smoke Weather - Rain  Weather - Severe Wind  \\\n",
      "0                                                                \n",
      "1                                                                \n",
      "2                                                                \n",
      "3                                                                \n",
      "4                                                                \n",
      "...                  ...            ...                    ...   \n",
      "1353                                                             \n",
      "1354                                                             \n",
      "1355                                                             \n",
      "1358                                                             \n",
      "1359                                                             \n",
      "\n",
      "     Highest Injury Severity Alleged Property Damage? SV Pre-Crash Movement  \\\n",
      "0                            Unknown              Yes               Stopped   \n",
      "1               No Injuries Reported              Yes                Parked   \n",
      "2               No Injuries Reported              Yes               Stopped   \n",
      "3               No Injuries Reported              Yes               Stopped   \n",
      "4               No Injuries Reported              Yes               Stopped   \n",
      "...                              ...              ...                   ...   \n",
      "1353                           Minor              Yes               Stopped   \n",
      "1354            No Injuries Reported              Yes   Proceeding Straight   \n",
      "1355            No Injuries Reported              Yes   Proceeding Straight   \n",
      "1358            No Injuries Reported              Yes   Proceeding Straight   \n",
      "1359            No Injuries Reported              Yes   Proceeding Straight   \n",
      "\n",
      "     SV Any Air Bags Deployed? SV Was Vehicle Towed?  \\\n",
      "0                           No                    No   \n",
      "1                           No                    No   \n",
      "2                           No                    No   \n",
      "3                           No                    No   \n",
      "4                           No                    No   \n",
      "...                        ...                   ...   \n",
      "1353                        No                   Yes   \n",
      "1354                        No                   Yes   \n",
      "1355                        No                   Yes   \n",
      "1358                        No                   Yes   \n",
      "1359                        No                   Yes   \n",
      "\n",
      "     SV Were All Passengers Belted? SV Precrash Speed (MPH)  \n",
      "0                 No, see Narrative                     0.0  \n",
      "1          No Passengers in Vehicle                     0.0  \n",
      "2                               Yes                     0.0  \n",
      "3          No Passengers in Vehicle                     0.0  \n",
      "4                               Yes                     0.0  \n",
      "...                             ...                     ...  \n",
      "1353                            Yes                     0.0  \n",
      "1354                            Yes                    18.0  \n",
      "1355                            Yes                    18.0  \n",
      "1358                            Yes                    18.0  \n",
      "1359                            Yes                    18.0  \n",
      "\n",
      "[1290 rows x 27 columns]>\n"
     ]
    }
   ],
   "source": [
    "# Replace 'apple' with 'orange' in column 'B'\n",
    "df2.loc[df2['Weather - Clear'] == 'Y', 'Weather - Clear'] = 'Clear'\n",
    "df2.loc[df2['Weather - Snow'] == 'Y', 'Weather - Snow'] = 'Snow'\n",
    "df2.loc[df2['Weather - Cloudy'] == 'Y', 'Weather - Cloudy'] = 'Cloudy'\n",
    "df2.loc[df2['Weather - Fog/Smoke'] == 'Y', 'Weather - Fog/Smoke'] = 'Fog/Smoke'\n",
    "df2.loc[df2['Weather - Rain'] == 'Y', 'Weather - Rain'] = 'Rain'\n",
    "df2.loc[df2['Weather - Severe Wind'] == 'Y', 'Weather - Severe Wind'] = 'Severe Wind'\n",
    "print(df2.head)"
   ]
  },
  {
   "cell_type": "code",
   "execution_count": 15,
   "id": "caeeb7e0-1a29-4585-a781-fff6fcac62bb",
   "metadata": {},
   "outputs": [],
   "source": [
    "# Merge 'First Name' and 'Last Name' into a new column 'Full Name'\n",
    "df2['Weather'] = df2[['Weather - Clear', 'Weather - Snow', 'Weather - Cloudy', 'Weather - Fog/Smoke', 'Weather - Rain', 'Weather - Severe Wind']].agg(' '.join, axis=1)\n"
   ]
  },
  {
   "cell_type": "code",
   "execution_count": 16,
   "id": "e3ba56f8-f03b-4eac-8f7e-f4a801565aef",
   "metadata": {},
   "outputs": [
    {
     "data": {
      "text/plain": [
       "Weather\n",
       "Clear                   1070\n",
       "    Cloudy               156\n",
       "        Rain              40\n",
       "                          18\n",
       "    Cloudy   Rain          4\n",
       "  Snow                     1\n",
       "Clear   Cloudy             1\n",
       "Name: count, dtype: int64"
      ]
     },
     "execution_count": 16,
     "metadata": {},
     "output_type": "execute_result"
    }
   ],
   "source": [
    "df2.value_counts('Weather')"
   ]
  },
  {
   "cell_type": "code",
   "execution_count": 17,
   "id": "a77a15a5-ff61-484f-83f1-791a310e5484",
   "metadata": {},
   "outputs": [
    {
     "data": {
      "text/plain": [
       "Weather\n",
       "Clear                   1070\n",
       "    Cloudy               156\n",
       "        Rain              40\n",
       "Clear                     18\n",
       "    Cloudy   Rain          4\n",
       "  Snow                     1\n",
       "Clear   Cloudy             1\n",
       "Name: count, dtype: int64"
      ]
     },
     "execution_count": 17,
     "metadata": {},
     "output_type": "execute_result"
    }
   ],
   "source": [
    "df2.loc[df2['Weather'] == '           ', 'Weather'] = 'Clear'\n",
    "df2.value_counts('Weather')"
   ]
  },
  {
   "cell_type": "code",
   "execution_count": 18,
   "id": "f854b334-2eb9-43ea-a7a2-1b253a33fb6d",
   "metadata": {},
   "outputs": [
    {
     "data": {
      "text/html": [
       "<div>\n",
       "<style scoped>\n",
       "    .dataframe tbody tr th:only-of-type {\n",
       "        vertical-align: middle;\n",
       "    }\n",
       "\n",
       "    .dataframe tbody tr th {\n",
       "        vertical-align: top;\n",
       "    }\n",
       "\n",
       "    .dataframe thead th {\n",
       "        text-align: right;\n",
       "    }\n",
       "</style>\n",
       "<table border=\"1\" class=\"dataframe\">\n",
       "  <thead>\n",
       "    <tr style=\"text-align: right;\">\n",
       "      <th></th>\n",
       "      <th>Make</th>\n",
       "      <th>Model</th>\n",
       "      <th>Model Year</th>\n",
       "      <th>Mileage</th>\n",
       "      <th>ADS Equipped?</th>\n",
       "      <th>Incident Date</th>\n",
       "      <th>Incident Time (24:00)</th>\n",
       "      <th>City</th>\n",
       "      <th>State</th>\n",
       "      <th>Roadway Type</th>\n",
       "      <th>...</th>\n",
       "      <th>Weather - Rain</th>\n",
       "      <th>Weather - Severe Wind</th>\n",
       "      <th>Highest Injury Severity Alleged</th>\n",
       "      <th>Property Damage?</th>\n",
       "      <th>SV Pre-Crash Movement</th>\n",
       "      <th>SV Any Air Bags Deployed?</th>\n",
       "      <th>SV Was Vehicle Towed?</th>\n",
       "      <th>SV Were All Passengers Belted?</th>\n",
       "      <th>SV Precrash Speed (MPH)</th>\n",
       "      <th>Weather</th>\n",
       "    </tr>\n",
       "  </thead>\n",
       "  <tbody>\n",
       "    <tr>\n",
       "      <th>0</th>\n",
       "      <td>Jaguar</td>\n",
       "      <td>I-Pace</td>\n",
       "      <td>2021.0</td>\n",
       "      <td>56344.0</td>\n",
       "      <td>Yes</td>\n",
       "      <td>JAN-2024</td>\n",
       "      <td>12:04</td>\n",
       "      <td>Los Angeles</td>\n",
       "      <td>CA</td>\n",
       "      <td>Street</td>\n",
       "      <td>...</td>\n",
       "      <td></td>\n",
       "      <td></td>\n",
       "      <td>Unknown</td>\n",
       "      <td>Yes</td>\n",
       "      <td>Stopped</td>\n",
       "      <td>No</td>\n",
       "      <td>No</td>\n",
       "      <td>No, see Narrative</td>\n",
       "      <td>0.0</td>\n",
       "      <td>Clear</td>\n",
       "    </tr>\n",
       "    <tr>\n",
       "      <th>1</th>\n",
       "      <td>Jaguar</td>\n",
       "      <td>I-Pace</td>\n",
       "      <td>2024.0</td>\n",
       "      <td>7345.0</td>\n",
       "      <td>Yes</td>\n",
       "      <td>JUL-2024</td>\n",
       "      <td>04:58</td>\n",
       "      <td>San Francisco</td>\n",
       "      <td>CA</td>\n",
       "      <td>Street</td>\n",
       "      <td>...</td>\n",
       "      <td></td>\n",
       "      <td></td>\n",
       "      <td>No Injuries Reported</td>\n",
       "      <td>Yes</td>\n",
       "      <td>Parked</td>\n",
       "      <td>No</td>\n",
       "      <td>No</td>\n",
       "      <td>No Passengers in Vehicle</td>\n",
       "      <td>0.0</td>\n",
       "      <td>Clear</td>\n",
       "    </tr>\n",
       "    <tr>\n",
       "      <th>2</th>\n",
       "      <td>Jaguar</td>\n",
       "      <td>I-Pace</td>\n",
       "      <td>2024.0</td>\n",
       "      <td>25984.0</td>\n",
       "      <td>Yes</td>\n",
       "      <td>JUL-2024</td>\n",
       "      <td>11:29</td>\n",
       "      <td>Phoenix</td>\n",
       "      <td>AZ</td>\n",
       "      <td>Parking Lot</td>\n",
       "      <td>...</td>\n",
       "      <td></td>\n",
       "      <td></td>\n",
       "      <td>No Injuries Reported</td>\n",
       "      <td>Yes</td>\n",
       "      <td>Stopped</td>\n",
       "      <td>No</td>\n",
       "      <td>No</td>\n",
       "      <td>Yes</td>\n",
       "      <td>0.0</td>\n",
       "      <td>Clear</td>\n",
       "    </tr>\n",
       "    <tr>\n",
       "      <th>3</th>\n",
       "      <td>Jaguar</td>\n",
       "      <td>I-Pace</td>\n",
       "      <td>2024.0</td>\n",
       "      <td>449.0</td>\n",
       "      <td>Yes</td>\n",
       "      <td>JUL-2024</td>\n",
       "      <td>18:16</td>\n",
       "      <td>San Francisco</td>\n",
       "      <td>CA</td>\n",
       "      <td>Street</td>\n",
       "      <td>...</td>\n",
       "      <td></td>\n",
       "      <td></td>\n",
       "      <td>No Injuries Reported</td>\n",
       "      <td>Yes</td>\n",
       "      <td>Stopped</td>\n",
       "      <td>No</td>\n",
       "      <td>No</td>\n",
       "      <td>No Passengers in Vehicle</td>\n",
       "      <td>0.0</td>\n",
       "      <td>Clear</td>\n",
       "    </tr>\n",
       "    <tr>\n",
       "      <th>4</th>\n",
       "      <td>Jaguar</td>\n",
       "      <td>I-Pace</td>\n",
       "      <td>2024.0</td>\n",
       "      <td>4329.0</td>\n",
       "      <td>Yes</td>\n",
       "      <td>JUL-2024</td>\n",
       "      <td>11:06</td>\n",
       "      <td>Austin</td>\n",
       "      <td>TX</td>\n",
       "      <td>Street</td>\n",
       "      <td>...</td>\n",
       "      <td></td>\n",
       "      <td></td>\n",
       "      <td>No Injuries Reported</td>\n",
       "      <td>Yes</td>\n",
       "      <td>Stopped</td>\n",
       "      <td>No</td>\n",
       "      <td>No</td>\n",
       "      <td>Yes</td>\n",
       "      <td>0.0</td>\n",
       "      <td>Cloudy</td>\n",
       "    </tr>\n",
       "  </tbody>\n",
       "</table>\n",
       "<p>5 rows × 28 columns</p>\n",
       "</div>"
      ],
      "text/plain": [
       "     Make   Model  Model Year  Mileage ADS Equipped? Incident Date  \\\n",
       "0  Jaguar  I-Pace      2021.0  56344.0           Yes      JAN-2024   \n",
       "1  Jaguar  I-Pace      2024.0   7345.0           Yes      JUL-2024   \n",
       "2  Jaguar  I-Pace      2024.0  25984.0           Yes      JUL-2024   \n",
       "3  Jaguar  I-Pace      2024.0    449.0           Yes      JUL-2024   \n",
       "4  Jaguar  I-Pace      2024.0   4329.0           Yes      JUL-2024   \n",
       "\n",
       "  Incident Time (24:00)           City State Roadway Type  ... Weather - Rain  \\\n",
       "0                 12:04    Los Angeles   CA        Street  ...                  \n",
       "1                 04:58  San Francisco   CA        Street  ...                  \n",
       "2                 11:29        Phoenix   AZ   Parking Lot  ...                  \n",
       "3                 18:16  San Francisco   CA        Street  ...                  \n",
       "4                 11:06         Austin   TX        Street  ...                  \n",
       "\n",
       "  Weather - Severe Wind  Highest Injury Severity Alleged Property Damage?  \\\n",
       "0                                                Unknown              Yes   \n",
       "1                                   No Injuries Reported              Yes   \n",
       "2                                   No Injuries Reported              Yes   \n",
       "3                                   No Injuries Reported              Yes   \n",
       "4                                   No Injuries Reported              Yes   \n",
       "\n",
       "  SV Pre-Crash Movement SV Any Air Bags Deployed? SV Was Vehicle Towed?  \\\n",
       "0               Stopped                        No                    No   \n",
       "1                Parked                        No                    No   \n",
       "2               Stopped                        No                    No   \n",
       "3               Stopped                        No                    No   \n",
       "4               Stopped                        No                    No   \n",
       "\n",
       "  SV Were All Passengers Belted? SV Precrash Speed (MPH) Weather  \n",
       "0              No, see Narrative                     0.0   Clear  \n",
       "1       No Passengers in Vehicle                     0.0   Clear  \n",
       "2                            Yes                     0.0   Clear  \n",
       "3       No Passengers in Vehicle                     0.0   Clear  \n",
       "4                            Yes                     0.0  Cloudy  \n",
       "\n",
       "[5 rows x 28 columns]"
      ]
     },
     "execution_count": 18,
     "metadata": {},
     "output_type": "execute_result"
    }
   ],
   "source": [
    "df2['Weather'] = df2['Weather'].str.strip()\n",
    "df2.loc[df2['Weather'] == 'Clear   Cloudy', 'Weather'] = 'Clear'\n",
    "df2.loc[df2['Weather'] == 'Cloudy   Rain', 'Weather'] = 'Rain'\n",
    "df2.loc[df2['Weather'] == '            ', 'Weather'] = 'Clear'\n",
    "df2['Weather'].fillna(\"Clear\", inplace=True)\n",
    "df2['Weather'] = df2['Weather'].str.strip()\n",
    "df2.head()"
   ]
  },
  {
   "cell_type": "code",
   "execution_count": 19,
   "id": "50afbd8b-3816-4024-8d46-03d110fe7fb7",
   "metadata": {},
   "outputs": [
    {
     "data": {
      "text/plain": [
       "Weather\n",
       "Clear     1089\n",
       "Cloudy     156\n",
       "Rain        44\n",
       "Snow         1\n",
       "Name: count, dtype: int64"
      ]
     },
     "execution_count": 19,
     "metadata": {},
     "output_type": "execute_result"
    }
   ],
   "source": [
    "df2.value_counts('Weather')\n"
   ]
  },
  {
   "cell_type": "code",
   "execution_count": 20,
   "id": "bad43076-1d0c-4da4-aa61-d6a90ec79a84",
   "metadata": {},
   "outputs": [],
   "source": [
    "df2 = df2.dropna(subset = 'Weather')"
   ]
  },
  {
   "cell_type": "code",
   "execution_count": 21,
   "id": "79fff59b-eb35-48dd-bab5-a5ebcf6fe0c9",
   "metadata": {},
   "outputs": [
    {
     "name": "stdout",
     "output_type": "stream",
     "text": [
      "<class 'pandas.core.frame.DataFrame'>\n",
      "Index: 1290 entries, 0 to 1359\n",
      "Data columns (total 28 columns):\n",
      " #   Column                           Non-Null Count  Dtype  \n",
      "---  ------                           --------------  -----  \n",
      " 0   Make                             1290 non-null   object \n",
      " 1   Model                            1290 non-null   object \n",
      " 2   Model Year                       1290 non-null   float64\n",
      " 3   Mileage                          1290 non-null   float64\n",
      " 4   ADS Equipped?                    1290 non-null   object \n",
      " 5   Incident Date                    1290 non-null   object \n",
      " 6   Incident Time (24:00)            1290 non-null   object \n",
      " 7   City                             1290 non-null   object \n",
      " 8   State                            1290 non-null   object \n",
      " 9   Roadway Type                     1290 non-null   object \n",
      " 10  Roadway Surface                  1290 non-null   object \n",
      " 11  Roadway Description              1290 non-null   object \n",
      " 12  Posted Speed Limit (MPH)         1290 non-null   float64\n",
      " 13  Lighting                         1290 non-null   object \n",
      " 14  Weather - Clear                  1290 non-null   object \n",
      " 15  Weather - Snow                   1290 non-null   object \n",
      " 16  Weather - Cloudy                 1290 non-null   object \n",
      " 17  Weather - Fog/Smoke              1290 non-null   object \n",
      " 18  Weather - Rain                   1290 non-null   object \n",
      " 19  Weather - Severe Wind            1290 non-null   object \n",
      " 20  Highest Injury Severity Alleged  1290 non-null   object \n",
      " 21  Property Damage?                 1290 non-null   object \n",
      " 22  SV Pre-Crash Movement            1290 non-null   object \n",
      " 23  SV Any Air Bags Deployed?        1290 non-null   object \n",
      " 24  SV Was Vehicle Towed?            1290 non-null   object \n",
      " 25  SV Were All Passengers Belted?   1290 non-null   object \n",
      " 26  SV Precrash Speed (MPH)          1290 non-null   float64\n",
      " 27  Weather                          1290 non-null   object \n",
      "dtypes: float64(4), object(24)\n",
      "memory usage: 292.3+ KB\n"
     ]
    }
   ],
   "source": [
    "df2.info()"
   ]
  },
  {
   "cell_type": "code",
   "execution_count": 22,
   "id": "2d7343c5-ec05-4a4f-99e7-cade6a8c82f5",
   "metadata": {},
   "outputs": [
    {
     "data": {
      "text/plain": [
       "Model\n",
       "I-Pace              581\n",
       "AV                  378\n",
       "Highlander           73\n",
       "Escape               34\n",
       "Pacifica             21\n",
       "579 Epiq             19\n",
       "Fusion               16\n",
       "I-PACE               14\n",
       "RX450H               13\n",
       "579                  12\n",
       "Sienna               12\n",
       "T680                 11\n",
       "Bolt                 10\n",
       "Ioniq 5               8\n",
       "Prius                 7\n",
       "GEN2                  6\n",
       "Air Touring           5\n",
       "Cascadia              5\n",
       "Kona EV               5\n",
       "I- Pace               4\n",
       "ID.Buzz               4\n",
       "Leaf                  4\n",
       "MKZ                   3\n",
       "RX 450h               3\n",
       "S450                  3\n",
       "LEAF                  3\n",
       "CASCADIA              3\n",
       "EZ10 Gen 3            3\n",
       "IONIQ 5               3\n",
       "SPORTAGE              2\n",
       "RX450h                2\n",
       "579m                  2\n",
       "Grand Cherokee        2\n",
       "Camry                 2\n",
       "Origin                2\n",
       "Siennaa               1\n",
       "Peterbilt 579         1\n",
       "111324                1\n",
       "Olli 2.0 Shuttle      1\n",
       "Olli 1.0              1\n",
       "Olli                  1\n",
       "Leaf SV Plus          1\n",
       "Leaf SL               1\n",
       "LT625                 1\n",
       "LT 625                1\n",
       "Kona/EV               1\n",
       "2.0                   1\n",
       "ARMA                  1\n",
       "8AV                   1\n",
       "sedan                 1\n",
       "Name: count, dtype: int64"
      ]
     },
     "execution_count": 22,
     "metadata": {},
     "output_type": "execute_result"
    }
   ],
   "source": [
    "df2.value_counts('Model')"
   ]
  },
  {
   "cell_type": "code",
   "execution_count": 22,
   "id": "3a933c03-4023-4116-8cd2-f9cbd944086c",
   "metadata": {},
   "outputs": [
    {
     "data": {
      "text/plain": [
       "Make\n",
       "Jaguar                     599\n",
       "Cruise                     380\n",
       "Toyota                      96\n",
       "Ford                        50\n",
       "Peterbilt                   34\n",
       "Chrysler                    21\n",
       "Lexus                       17\n",
       "Hyundai                     17\n",
       "Chevrolet                   10\n",
       "Nissan                       8\n",
       "Kenworth Motor Truck Co      8\n",
       "EZ10                         6\n",
       "FREIGHTLINER                 5\n",
       "Lucid                        5\n",
       "Volkswagen                   4\n",
       "Local Motors                 3\n",
       "Freightliner                 3\n",
       "Lincoln                      3\n",
       "Mercedes-Benz                3\n",
       "KIA                          2\n",
       "Kenworth                     2\n",
       "Ligier                       2\n",
       "Jeep                         2\n",
       "NISSAN                       1\n",
       "Crui9se                      1\n",
       "Navya                        1\n",
       "International                1\n",
       "Local Motors (LOCM)          1\n",
       "Ligier Group                 1\n",
       "LExus                        1\n",
       "INTERNATIONAL                1\n",
       "KENWORTH                     1\n",
       "Zoox                         1\n",
       "Name: count, dtype: int64"
      ]
     },
     "execution_count": 22,
     "metadata": {},
     "output_type": "execute_result"
    }
   ],
   "source": [
    "df2.value_counts('Make')"
   ]
  },
  {
   "cell_type": "code",
   "execution_count": 23,
   "id": "70da7813-a0ac-4d2a-b8ff-a10f023a95a1",
   "metadata": {},
   "outputs": [
    {
     "data": {
      "text/plain": [
       "Model Year\n",
       "2021.0    546\n",
       "2023.0    265\n",
       "2020.0    130\n",
       "2022.0    116\n",
       "2024.0     95\n",
       "2016.0     45\n",
       "2019.0     44\n",
       "2017.0     41\n",
       "2018.0      8\n",
       "Name: count, dtype: int64"
      ]
     },
     "execution_count": 23,
     "metadata": {},
     "output_type": "execute_result"
    }
   ],
   "source": [
    "df2.value_counts('Model Year')"
   ]
  },
  {
   "cell_type": "code",
   "execution_count": 24,
   "id": "7d733c20-2cc3-4776-92eb-df8a155e63fa",
   "metadata": {},
   "outputs": [
    {
     "data": {
      "text/plain": [
       "Mileage\n",
       "5091.0       8\n",
       "19560.0      6\n",
       "2798.0       6\n",
       "1111.0       6\n",
       "3183.0       5\n",
       "            ..\n",
       "27380.0      1\n",
       "27052.0      1\n",
       "26823.0      1\n",
       "26717.0      1\n",
       "1150344.0    1\n",
       "Name: count, Length: 713, dtype: int64"
      ]
     },
     "execution_count": 24,
     "metadata": {},
     "output_type": "execute_result"
    }
   ],
   "source": [
    "df2.value_counts('Mileage')"
   ]
  },
  {
   "cell_type": "code",
   "execution_count": 25,
   "id": "8805c979-596c-458b-8e56-64933dadc8d3",
   "metadata": {},
   "outputs": [
    {
     "name": "stdout",
     "output_type": "stream",
     "text": [
      "Incident Date\n",
      "38\n",
      "Incident Date\n",
      "AUG-2023    94\n",
      "SEP-2023    56\n",
      "JUL-2023    55\n",
      "OCT-2023    54\n",
      "MAR-2023    53\n",
      "MAY-2024    52\n",
      "JUN-2024    49\n",
      "JUL-2024    48\n",
      "AUG-2022    45\n",
      "JUN-2023    45\n",
      "MAY-2023    43\n",
      "APR-2023    39\n",
      "DEC-2022    39\n",
      "APR-2022    36\n",
      "JUL-2022    34\n",
      "MAR-2022    33\n",
      "NOV-2021    33\n",
      "MAR-2024    32\n",
      "JUN-2022    32\n",
      "FEB-2023    31\n",
      "FEB-2024    31\n",
      "MAY-2022    29\n",
      "OCT-2021    29\n",
      "JAN-2022    26\n",
      "SEP-2022    26\n",
      "JAN-2024    26\n",
      "APR-2024    25\n",
      "DEC-2023    24\n",
      "AUG-2021    24\n",
      "SEP-2021    24\n",
      "FEB-2022    21\n",
      "JUL-2021    19\n",
      "DEC-2021    18\n",
      "NOV-2022    16\n",
      "NOV-2023    15\n",
      "OCT-2022    13\n",
      "JAN-2023    12\n",
      "AUG-2024     9\n",
      "Name: count, dtype: int64\n",
      "\n",
      "Incident Time (24:00)\n",
      "550\n",
      "Incident Time (24:00)\n",
      "03:15    11\n",
      "00:39    10\n",
      "21:29    10\n",
      "22:22    10\n",
      "23:30     9\n",
      "         ..\n",
      "17:09     1\n",
      "16:32     1\n",
      "23:48     1\n",
      "17:50     1\n",
      "09:50     1\n",
      "Name: count, Length: 550, dtype: int64\n",
      "\n",
      "City\n",
      "75\n",
      "City\n",
      "San Francisco    719\n",
      "Phoenix          100\n",
      "Tempe             80\n",
      "Austin            73\n",
      "Los Angeles       32\n",
      "                ... \n",
      "BUFFALO            1\n",
      "Sunol              1\n",
      "Emeryville         1\n",
      "Barstow            1\n",
      "Milpitas           1\n",
      "Name: count, Length: 75, dtype: int64\n",
      "\n",
      "State\n",
      "16\n",
      "State\n",
      "CA     810\n",
      "AZ     236\n",
      "TX     125\n",
      "NV      33\n",
      "FL      32\n",
      "MI      11\n",
      "DC       8\n",
      "MN       6\n",
      "NM       6\n",
      "CO       6\n",
      "RI       5\n",
      "IN       4\n",
      "WA       3\n",
      "PA       2\n",
      "WY       2\n",
      "GA       1\n",
      "Name: count, dtype: int64\n",
      "\n",
      "Roadway Type\n",
      "6\n",
      "Roadway Type\n",
      "Intersection         574\n",
      "Street               558\n",
      "Highway / Freeway     93\n",
      "Parking Lot           58\n",
      "Traffic Circle         5\n",
      "Unknown                2\n",
      "Name: count, dtype: int64\n",
      "\n",
      "Roadway Surface\n",
      "4\n",
      "Roadway Surface\n",
      "Dry                   1223\n",
      "Wet                     61\n",
      "Unknown                  4\n",
      "Snow / Slush / Ice       2\n",
      "Name: count, dtype: int64\n",
      "\n",
      "Roadway Description\n",
      "5\n",
      "Roadway Description\n",
      "No Unusual Conditions    1230\n",
      "Other, see Narrative       32\n",
      "Work Zone                  19\n",
      "Traffic Incident            7\n",
      "Unknown                     2\n",
      "Name: count, dtype: int64\n",
      "\n",
      "Posted Speed Limit (MPH)\n",
      "18\n",
      "Posted Speed Limit (MPH)\n",
      "25.0    730\n",
      "30.0    146\n",
      "35.0    105\n",
      "45.0     58\n",
      "15.0     53\n",
      "65.0     51\n",
      "20.0     45\n",
      "40.0     39\n",
      "75.0     27\n",
      "5.0      11\n",
      "10.0      5\n",
      "55.0      5\n",
      "60.0      4\n",
      "70.0      3\n",
      "0.0       3\n",
      "9.0       3\n",
      "50.0      1\n",
      "1.0       1\n",
      "Name: count, dtype: int64\n",
      "\n",
      "Lighting\n",
      "5\n",
      "Lighting\n",
      "Daylight                   738\n",
      "Dark - Lighted             480\n",
      "Dawn / Dusk                 44\n",
      "Dark - Not Lighted          25\n",
      "Dark - Unknown Lighting      3\n",
      "Name: count, dtype: int64\n",
      "\n",
      "Weather - Clear\n",
      "2\n",
      "Weather - Clear\n",
      "Clear    1071\n",
      "          219\n",
      "Name: count, dtype: int64\n",
      "\n",
      "Weather - Snow\n",
      "2\n",
      "Weather - Snow\n",
      "        1289\n",
      "Snow       1\n",
      "Name: count, dtype: int64\n",
      "\n",
      "Weather - Cloudy\n",
      "2\n",
      "Weather - Cloudy\n",
      "          1129\n",
      "Cloudy     161\n",
      "Name: count, dtype: int64\n",
      "\n",
      "Weather - Fog/Smoke\n",
      "1\n",
      "Weather - Fog/Smoke\n",
      "     1290\n",
      "Name: count, dtype: int64\n",
      "\n",
      "Weather - Rain\n",
      "2\n",
      "Weather - Rain\n",
      "        1246\n",
      "Rain      44\n",
      "Name: count, dtype: int64\n",
      "\n",
      "Weather - Severe Wind\n",
      "1\n",
      "Weather - Severe Wind\n",
      "     1290\n",
      "Name: count, dtype: int64\n",
      "\n",
      "Weather - Other\n"
     ]
    },
    {
     "ename": "KeyError",
     "evalue": "'Weather - Other'",
     "output_type": "error",
     "traceback": [
      "\u001b[1;31m---------------------------------------------------------------------------\u001b[0m",
      "\u001b[1;31mKeyError\u001b[0m                                  Traceback (most recent call last)",
      "File \u001b[1;32m~\\anaconda3\\envs\\dev\\lib\\site-packages\\pandas\\core\\indexes\\base.py:3791\u001b[0m, in \u001b[0;36mIndex.get_loc\u001b[1;34m(self, key)\u001b[0m\n\u001b[0;32m   3790\u001b[0m \u001b[38;5;28;01mtry\u001b[39;00m:\n\u001b[1;32m-> 3791\u001b[0m     \u001b[38;5;28;01mreturn\u001b[39;00m \u001b[38;5;28;43mself\u001b[39;49m\u001b[38;5;241;43m.\u001b[39;49m\u001b[43m_engine\u001b[49m\u001b[38;5;241;43m.\u001b[39;49m\u001b[43mget_loc\u001b[49m\u001b[43m(\u001b[49m\u001b[43mcasted_key\u001b[49m\u001b[43m)\u001b[49m\n\u001b[0;32m   3792\u001b[0m \u001b[38;5;28;01mexcept\u001b[39;00m \u001b[38;5;167;01mKeyError\u001b[39;00m \u001b[38;5;28;01mas\u001b[39;00m err:\n",
      "File \u001b[1;32mindex.pyx:152\u001b[0m, in \u001b[0;36mpandas._libs.index.IndexEngine.get_loc\u001b[1;34m()\u001b[0m\n",
      "File \u001b[1;32mindex.pyx:181\u001b[0m, in \u001b[0;36mpandas._libs.index.IndexEngine.get_loc\u001b[1;34m()\u001b[0m\n",
      "File \u001b[1;32mpandas\\_libs\\hashtable_class_helper.pxi:7080\u001b[0m, in \u001b[0;36mpandas._libs.hashtable.PyObjectHashTable.get_item\u001b[1;34m()\u001b[0m\n",
      "File \u001b[1;32mpandas\\_libs\\hashtable_class_helper.pxi:7088\u001b[0m, in \u001b[0;36mpandas._libs.hashtable.PyObjectHashTable.get_item\u001b[1;34m()\u001b[0m\n",
      "\u001b[1;31mKeyError\u001b[0m: 'Weather - Other'",
      "\nThe above exception was the direct cause of the following exception:\n",
      "\u001b[1;31mKeyError\u001b[0m                                  Traceback (most recent call last)",
      "Cell \u001b[1;32mIn[25], line 8\u001b[0m\n\u001b[0;32m      6\u001b[0m \u001b[38;5;28;01mfor\u001b[39;00m col \u001b[38;5;129;01min\u001b[39;00m cols:\n\u001b[0;32m      7\u001b[0m   \u001b[38;5;28mprint\u001b[39m(col)\n\u001b[1;32m----> 8\u001b[0m   \u001b[38;5;28mprint\u001b[39m(\u001b[43mdf2\u001b[49m\u001b[43m[\u001b[49m\u001b[43mcol\u001b[49m\u001b[43m]\u001b[49m\u001b[38;5;241m.\u001b[39mnunique())\n\u001b[0;32m      9\u001b[0m   \u001b[38;5;28mprint\u001b[39m(df2[col]\u001b[38;5;241m.\u001b[39mvalue_counts())\n\u001b[0;32m     10\u001b[0m   \u001b[38;5;28mprint\u001b[39m()\n",
      "File \u001b[1;32m~\\anaconda3\\envs\\dev\\lib\\site-packages\\pandas\\core\\frame.py:3893\u001b[0m, in \u001b[0;36mDataFrame.__getitem__\u001b[1;34m(self, key)\u001b[0m\n\u001b[0;32m   3891\u001b[0m \u001b[38;5;28;01mif\u001b[39;00m \u001b[38;5;28mself\u001b[39m\u001b[38;5;241m.\u001b[39mcolumns\u001b[38;5;241m.\u001b[39mnlevels \u001b[38;5;241m>\u001b[39m \u001b[38;5;241m1\u001b[39m:\n\u001b[0;32m   3892\u001b[0m     \u001b[38;5;28;01mreturn\u001b[39;00m \u001b[38;5;28mself\u001b[39m\u001b[38;5;241m.\u001b[39m_getitem_multilevel(key)\n\u001b[1;32m-> 3893\u001b[0m indexer \u001b[38;5;241m=\u001b[39m \u001b[38;5;28;43mself\u001b[39;49m\u001b[38;5;241;43m.\u001b[39;49m\u001b[43mcolumns\u001b[49m\u001b[38;5;241;43m.\u001b[39;49m\u001b[43mget_loc\u001b[49m\u001b[43m(\u001b[49m\u001b[43mkey\u001b[49m\u001b[43m)\u001b[49m\n\u001b[0;32m   3894\u001b[0m \u001b[38;5;28;01mif\u001b[39;00m is_integer(indexer):\n\u001b[0;32m   3895\u001b[0m     indexer \u001b[38;5;241m=\u001b[39m [indexer]\n",
      "File \u001b[1;32m~\\anaconda3\\envs\\dev\\lib\\site-packages\\pandas\\core\\indexes\\base.py:3798\u001b[0m, in \u001b[0;36mIndex.get_loc\u001b[1;34m(self, key)\u001b[0m\n\u001b[0;32m   3793\u001b[0m     \u001b[38;5;28;01mif\u001b[39;00m \u001b[38;5;28misinstance\u001b[39m(casted_key, \u001b[38;5;28mslice\u001b[39m) \u001b[38;5;129;01mor\u001b[39;00m (\n\u001b[0;32m   3794\u001b[0m         \u001b[38;5;28misinstance\u001b[39m(casted_key, abc\u001b[38;5;241m.\u001b[39mIterable)\n\u001b[0;32m   3795\u001b[0m         \u001b[38;5;129;01mand\u001b[39;00m \u001b[38;5;28many\u001b[39m(\u001b[38;5;28misinstance\u001b[39m(x, \u001b[38;5;28mslice\u001b[39m) \u001b[38;5;28;01mfor\u001b[39;00m x \u001b[38;5;129;01min\u001b[39;00m casted_key)\n\u001b[0;32m   3796\u001b[0m     ):\n\u001b[0;32m   3797\u001b[0m         \u001b[38;5;28;01mraise\u001b[39;00m InvalidIndexError(key)\n\u001b[1;32m-> 3798\u001b[0m     \u001b[38;5;28;01mraise\u001b[39;00m \u001b[38;5;167;01mKeyError\u001b[39;00m(key) \u001b[38;5;28;01mfrom\u001b[39;00m \u001b[38;5;21;01merr\u001b[39;00m\n\u001b[0;32m   3799\u001b[0m \u001b[38;5;28;01mexcept\u001b[39;00m \u001b[38;5;167;01mTypeError\u001b[39;00m:\n\u001b[0;32m   3800\u001b[0m     \u001b[38;5;66;03m# If we have a listlike key, _check_indexing_error will raise\u001b[39;00m\n\u001b[0;32m   3801\u001b[0m     \u001b[38;5;66;03m#  InvalidIndexError. Otherwise we fall through and re-raise\u001b[39;00m\n\u001b[0;32m   3802\u001b[0m     \u001b[38;5;66;03m#  the TypeError.\u001b[39;00m\n\u001b[0;32m   3803\u001b[0m     \u001b[38;5;28mself\u001b[39m\u001b[38;5;241m.\u001b[39m_check_indexing_error(key)\n",
      "\u001b[1;31mKeyError\u001b[0m: 'Weather - Other'"
     ]
    }
   ],
   "source": [
    "cols = ['Incident Date', 'Incident Time (24:00)','City',  'State','Roadway Type', 'Roadway Surface',\\\n",
    "        'Roadway Description', 'Posted Speed Limit (MPH)', 'Lighting', 'Weather - Clear','Weather - Snow', 'Weather - Cloudy', 'Weather - Fog/Smoke',\\\n",
    "        'Weather - Rain', 'Weather - Severe Wind', 'Weather - Other', 'Weather - Other Text','Highest Injury Severity Alleged',\\\n",
    "        'SV Were All Passengers Belted?']\n",
    "\n",
    "for col in cols:\n",
    "  print(col)\n",
    "  print(df2[col].nunique())\n",
    "  print(df2[col].value_counts())\n",
    "  print()"
   ]
  },
  {
   "cell_type": "code",
   "execution_count": null,
   "id": "a762a4ed-f141-4ee8-95bd-4acb8e89a2cc",
   "metadata": {},
   "outputs": [],
   "source": [
    "df2['Incident Date'].value_counts()"
   ]
  },
  {
   "cell_type": "code",
   "execution_count": 26,
   "id": "9eb0fabc-534a-4ab5-8764-9add155ed12c",
   "metadata": {},
   "outputs": [
    {
     "data": {
      "text/plain": [
       "Incident Time (24:00)\n",
       "03:15    11\n",
       "00:39    10\n",
       "21:29    10\n",
       "22:22    10\n",
       "23:30     9\n",
       "         ..\n",
       "17:09     1\n",
       "16:32     1\n",
       "23:48     1\n",
       "17:50     1\n",
       "09:50     1\n",
       "Name: count, Length: 550, dtype: int64"
      ]
     },
     "execution_count": 26,
     "metadata": {},
     "output_type": "execute_result"
    }
   ],
   "source": [
    "df2['Incident Time (24:00)'].value_counts()"
   ]
  },
  {
   "cell_type": "code",
   "execution_count": 27,
   "id": "ad017540-7ae3-44cb-b6c8-af0cf004912a",
   "metadata": {},
   "outputs": [
    {
     "data": {
      "text/plain": [
       "City\n",
       "San Francisco    719\n",
       "Phoenix          100\n",
       "Tempe             80\n",
       "Austin            73\n",
       "Los Angeles       32\n",
       "                ... \n",
       "BUFFALO            1\n",
       "Sunol              1\n",
       "Emeryville         1\n",
       "Barstow            1\n",
       "Milpitas           1\n",
       "Name: count, Length: 75, dtype: int64"
      ]
     },
     "execution_count": 27,
     "metadata": {},
     "output_type": "execute_result"
    }
   ],
   "source": [
    "df2['City'].value_counts()"
   ]
  },
  {
   "cell_type": "code",
   "execution_count": 28,
   "id": "e4b13ab4-e1bb-4bc7-8cf1-5b3c65deea23",
   "metadata": {},
   "outputs": [
    {
     "data": {
      "text/plain": [
       "State\n",
       "CA     810\n",
       "AZ     236\n",
       "TX     125\n",
       "NV      33\n",
       "FL      32\n",
       "MI      11\n",
       "DC       8\n",
       "MN       6\n",
       "NM       6\n",
       "CO       6\n",
       "RI       5\n",
       "IN       4\n",
       "WA       3\n",
       "PA       2\n",
       "WY       2\n",
       "GA       1\n",
       "Name: count, dtype: int64"
      ]
     },
     "execution_count": 28,
     "metadata": {},
     "output_type": "execute_result"
    }
   ],
   "source": [
    "df2['State'].value_counts()"
   ]
  },
  {
   "cell_type": "code",
   "execution_count": 29,
   "id": "76f90e2c-8c7e-4c28-a034-723b54e40e60",
   "metadata": {},
   "outputs": [
    {
     "data": {
      "text/plain": [
       "Roadway Type\n",
       "Intersection         574\n",
       "Street               558\n",
       "Highway / Freeway     93\n",
       "Parking Lot           58\n",
       "Traffic Circle         5\n",
       "Unknown                2\n",
       "Name: count, dtype: int64"
      ]
     },
     "execution_count": 29,
     "metadata": {},
     "output_type": "execute_result"
    }
   ],
   "source": [
    "df2['Roadway Type'].value_counts()"
   ]
  },
  {
   "cell_type": "code",
   "execution_count": 30,
   "id": "cb6b79ae-7c12-4f68-aab3-9969b6600b0a",
   "metadata": {},
   "outputs": [
    {
     "data": {
      "text/plain": [
       "Roadway Surface\n",
       "Dry                   1223\n",
       "Wet                     61\n",
       "Unknown                  4\n",
       "Snow / Slush / Ice       2\n",
       "Name: count, dtype: int64"
      ]
     },
     "execution_count": 30,
     "metadata": {},
     "output_type": "execute_result"
    }
   ],
   "source": [
    "df2['Roadway Surface'].value_counts()"
   ]
  },
  {
   "cell_type": "code",
   "execution_count": 31,
   "id": "e203b3e2-72d4-4c25-9438-748698d3cd28",
   "metadata": {},
   "outputs": [
    {
     "data": {
      "text/plain": [
       "Roadway Description\n",
       "No Unusual Conditions    1230\n",
       "Other, see Narrative       32\n",
       "Work Zone                  19\n",
       "Traffic Incident            7\n",
       "Unknown                     2\n",
       "Name: count, dtype: int64"
      ]
     },
     "execution_count": 31,
     "metadata": {},
     "output_type": "execute_result"
    }
   ],
   "source": [
    "df2['Roadway Description'].value_counts()"
   ]
  },
  {
   "cell_type": "code",
   "execution_count": 32,
   "id": "372c4f95-f40a-498d-8220-ae61dbe9f846",
   "metadata": {},
   "outputs": [
    {
     "data": {
      "text/plain": [
       "Posted Speed Limit (MPH)\n",
       "25.0    730\n",
       "30.0    146\n",
       "35.0    105\n",
       "45.0     58\n",
       "15.0     53\n",
       "65.0     51\n",
       "20.0     45\n",
       "40.0     39\n",
       "75.0     27\n",
       "5.0      11\n",
       "10.0      5\n",
       "55.0      5\n",
       "60.0      4\n",
       "70.0      3\n",
       "0.0       3\n",
       "9.0       3\n",
       "50.0      1\n",
       "1.0       1\n",
       "Name: count, dtype: int64"
      ]
     },
     "execution_count": 32,
     "metadata": {},
     "output_type": "execute_result"
    }
   ],
   "source": [
    "df2['Posted Speed Limit (MPH)'].value_counts()"
   ]
  },
  {
   "cell_type": "code",
   "execution_count": 33,
   "id": "8c338016-9b51-4149-8876-38f447e3184d",
   "metadata": {},
   "outputs": [
    {
     "data": {
      "text/plain": [
       "Lighting\n",
       "Daylight                   738\n",
       "Dark - Lighted             480\n",
       "Dawn / Dusk                 44\n",
       "Dark - Not Lighted          25\n",
       "Dark - Unknown Lighting      3\n",
       "Name: count, dtype: int64"
      ]
     },
     "execution_count": 33,
     "metadata": {},
     "output_type": "execute_result"
    }
   ],
   "source": [
    "df2['Lighting'].value_counts()"
   ]
  },
  {
   "cell_type": "code",
   "execution_count": 34,
   "id": "c287d6c2-ba4c-42f1-9b1f-3c0d419cf845",
   "metadata": {},
   "outputs": [
    {
     "data": {
      "text/plain": [
       "Weather - Clear\n",
       "Clear    1071\n",
       "          219\n",
       "Name: count, dtype: int64"
      ]
     },
     "execution_count": 34,
     "metadata": {},
     "output_type": "execute_result"
    }
   ],
   "source": [
    "df2['Weather - Clear'].value_counts()"
   ]
  },
  {
   "cell_type": "code",
   "execution_count": 35,
   "id": "f2db2f93-6abc-477e-8739-c8cc1cbbf949",
   "metadata": {},
   "outputs": [
    {
     "data": {
      "text/plain": [
       "Weather - Snow\n",
       "        1289\n",
       "Snow       1\n",
       "Name: count, dtype: int64"
      ]
     },
     "execution_count": 35,
     "metadata": {},
     "output_type": "execute_result"
    }
   ],
   "source": [
    "df2['Weather - Snow'].value_counts()"
   ]
  },
  {
   "cell_type": "code",
   "execution_count": 36,
   "id": "795ceab0-d5bb-489d-97a5-53a5f8edc534",
   "metadata": {},
   "outputs": [
    {
     "data": {
      "text/plain": [
       "Weather - Cloudy\n",
       "          1129\n",
       "Cloudy     161\n",
       "Name: count, dtype: int64"
      ]
     },
     "execution_count": 36,
     "metadata": {},
     "output_type": "execute_result"
    }
   ],
   "source": [
    "df2['Weather - Cloudy'].value_counts()"
   ]
  },
  {
   "cell_type": "code",
   "execution_count": 37,
   "id": "2f68da1c-6693-4b66-a8c6-98c4ef36f2e9",
   "metadata": {},
   "outputs": [
    {
     "data": {
      "text/plain": [
       "Weather - Fog/Smoke\n",
       "     1290\n",
       "Name: count, dtype: int64"
      ]
     },
     "execution_count": 37,
     "metadata": {},
     "output_type": "execute_result"
    }
   ],
   "source": [
    "df2['Weather - Fog/Smoke'].value_counts()"
   ]
  },
  {
   "cell_type": "code",
   "execution_count": 38,
   "id": "51d20ee6-da71-4d9c-9cd7-b0f5d1e23c90",
   "metadata": {},
   "outputs": [
    {
     "data": {
      "text/plain": [
       "Weather - Rain\n",
       "        1246\n",
       "Rain      44\n",
       "Name: count, dtype: int64"
      ]
     },
     "execution_count": 38,
     "metadata": {},
     "output_type": "execute_result"
    }
   ],
   "source": [
    "df2['Weather - Rain'].value_counts()"
   ]
  },
  {
   "cell_type": "code",
   "execution_count": 39,
   "id": "c5adfd7f-4c8b-4f81-89ff-854c0558a657",
   "metadata": {},
   "outputs": [
    {
     "data": {
      "text/plain": [
       "Weather - Severe Wind\n",
       "     1290\n",
       "Name: count, dtype: int64"
      ]
     },
     "execution_count": 39,
     "metadata": {},
     "output_type": "execute_result"
    }
   ],
   "source": [
    "df2['Weather - Severe Wind'].value_counts()"
   ]
  },
  {
   "cell_type": "code",
   "execution_count": 40,
   "id": "47087811-ded9-4929-a4b7-d74dd569bdfa",
   "metadata": {},
   "outputs": [
    {
     "data": {
      "text/plain": [
       "Highest Injury Severity Alleged\n",
       "No Injuries Reported    1036\n",
       "Minor                    125\n",
       "Unknown                   70\n",
       "Moderate                  37\n",
       "Serious                   20\n",
       "Fatality                   2\n",
       "Name: count, dtype: int64"
      ]
     },
     "execution_count": 40,
     "metadata": {},
     "output_type": "execute_result"
    }
   ],
   "source": [
    "df2['Highest Injury Severity Alleged'].value_counts()"
   ]
  },
  {
   "cell_type": "code",
   "execution_count": 41,
   "id": "ace10428-023e-428a-9a49-9f3eabf45b72",
   "metadata": {},
   "outputs": [
    {
     "data": {
      "text/plain": [
       "SV Were All Passengers Belted?\n",
       "Yes                         829\n",
       "No Passengers in Vehicle    428\n",
       "No, see Narrative            30\n",
       "Unknown                       3\n",
       "Name: count, dtype: int64"
      ]
     },
     "execution_count": 41,
     "metadata": {},
     "output_type": "execute_result"
    }
   ],
   "source": [
    "df2['SV Were All Passengers Belted?'].value_counts()"
   ]
  },
  {
   "cell_type": "code",
   "execution_count": 42,
   "id": "4b0d3b26-9331-49e5-bea9-924ed62e8da1",
   "metadata": {},
   "outputs": [
    {
     "data": {
      "text/plain": [
       "State\n",
       "CA     810\n",
       "AZ     236\n",
       "TX     125\n",
       "NV      33\n",
       "FL      32\n",
       "MI      11\n",
       "DC       8\n",
       "MN       6\n",
       "NM       6\n",
       "CO       6\n",
       "RI       5\n",
       "IN       4\n",
       "WA       3\n",
       "PA       2\n",
       "WY       2\n",
       "GA       1\n",
       "Name: count, dtype: int64"
      ]
     },
     "execution_count": 42,
     "metadata": {},
     "output_type": "execute_result"
    }
   ],
   "source": [
    "df2['State'].value_counts()"
   ]
  },
  {
   "cell_type": "code",
   "execution_count": 23,
   "id": "e7b43c99-7193-4fc0-8386-edf2ea5c838a",
   "metadata": {},
   "outputs": [],
   "source": [
    "df2.to_csv('Car_Accidents_Visualizations.csv', index=False)"
   ]
  },
  {
   "cell_type": "code",
   "execution_count": null,
   "id": "dc7fc246-1654-4b38-b563-70a677c99812",
   "metadata": {},
   "outputs": [],
   "source": []
  },
  {
   "cell_type": "code",
   "execution_count": null,
   "id": "d00d042a-51f3-4cfa-b69f-754c6b56c107",
   "metadata": {},
   "outputs": [],
   "source": []
  },
  {
   "cell_type": "code",
   "execution_count": null,
   "id": "f15433a7-2256-4cda-8e61-5cb4dd5e7602",
   "metadata": {},
   "outputs": [],
   "source": []
  },
  {
   "cell_type": "code",
   "execution_count": null,
   "id": "c856be86-2f5d-4634-bf6f-837bf706bcfc",
   "metadata": {},
   "outputs": [],
   "source": []
  },
  {
   "cell_type": "code",
   "execution_count": null,
   "id": "d1bf35a5-e85a-4ffe-b15c-bf1b1d6114e3",
   "metadata": {},
   "outputs": [],
   "source": []
  }
 ],
 "metadata": {
  "kernelspec": {
   "display_name": "Python 3 (ipykernel)",
   "language": "python",
   "name": "python3"
  },
  "language_info": {
   "codemirror_mode": {
    "name": "ipython",
    "version": 3
   },
   "file_extension": ".py",
   "mimetype": "text/x-python",
   "name": "python",
   "nbconvert_exporter": "python",
   "pygments_lexer": "ipython3",
   "version": "3.10.13"
  }
 },
 "nbformat": 4,
 "nbformat_minor": 5
}
